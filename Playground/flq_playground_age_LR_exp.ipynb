{
  "nbformat": 4,
  "nbformat_minor": 0,
  "metadata": {
    "interpreter": {
      "hash": "8ab70c8717d59d3d18e55ddb9fc009ca9a9cdea0e10f7027a2b729168083aba5"
    },
    "kernelspec": {
      "display_name": "Python 3.9.6 64-bit ('cv': conda)",
      "name": "python3"
    },
    "language_info": {
      "codemirror_mode": {
        "name": "ipython",
        "version": 3
      },
      "file_extension": ".py",
      "mimetype": "text/x-python",
      "name": "python",
      "nbconvert_exporter": "python",
      "pygments_lexer": "ipython3",
      "version": "3.9.6"
    },
    "orig_nbformat": 4,
    "colab": {
      "name": "flq_playground_age_LR_exp.ipynb",
      "provenance": [],
      "collapsed_sections": [],
      "machine_shape": "hm",
      "include_colab_link": true
    },
    "accelerator": "GPU"
  },
  "cells": [
    {
      "cell_type": "markdown",
      "metadata": {
        "id": "view-in-github",
        "colab_type": "text"
      },
      "source": [
        "<a href=\"https://colab.research.google.com/github/vigneshvalliappan/MSAI_CV_Project/blob/main/Playground/flq_playground_age_LR_exp.ipynb\" target=\"_parent\"><img src=\"https://colab.research.google.com/assets/colab-badge.svg\" alt=\"Open In Colab\"/></a>"
      ]
    },
    {
      "cell_type": "code",
      "metadata": {
        "colab": {
          "base_uri": "https://localhost:8080/"
        },
        "id": "KyI814Zj4Hes",
        "outputId": "2c3eec52-a87e-4fe3-c01c-f45277dff533"
      },
      "source": [
        "gpu_info = !nvidia-smi\n",
        "gpu_info = '\\n'.join(gpu_info)\n",
        "if gpu_info.find('failed') >= 0:\n",
        "  print('Not connected to a GPU')\n",
        "else:\n",
        "  print(gpu_info)"
      ],
      "execution_count": 1,
      "outputs": [
        {
          "output_type": "stream",
          "name": "stdout",
          "text": [
            "Thu Nov 18 10:14:42 2021       \n",
            "+-----------------------------------------------------------------------------+\n",
            "| NVIDIA-SMI 495.44       Driver Version: 460.32.03    CUDA Version: 11.2     |\n",
            "|-------------------------------+----------------------+----------------------+\n",
            "| GPU  Name        Persistence-M| Bus-Id        Disp.A | Volatile Uncorr. ECC |\n",
            "| Fan  Temp  Perf  Pwr:Usage/Cap|         Memory-Usage | GPU-Util  Compute M. |\n",
            "|                               |                      |               MIG M. |\n",
            "|===============================+======================+======================|\n",
            "|   0  Tesla V100-SXM2...  Off  | 00000000:00:04.0 Off |                    0 |\n",
            "| N/A   40C    P0    26W / 300W |      0MiB / 16160MiB |      0%      Default |\n",
            "|                               |                      |                  N/A |\n",
            "+-------------------------------+----------------------+----------------------+\n",
            "                                                                               \n",
            "+-----------------------------------------------------------------------------+\n",
            "| Processes:                                                                  |\n",
            "|  GPU   GI   CI        PID   Type   Process name                  GPU Memory |\n",
            "|        ID   ID                                                   Usage      |\n",
            "|=============================================================================|\n",
            "|  No running processes found                                                 |\n",
            "+-----------------------------------------------------------------------------+\n"
          ]
        }
      ]
    },
    {
      "cell_type": "code",
      "metadata": {
        "colab": {
          "base_uri": "https://localhost:8080/"
        },
        "id": "CAUdj2jR79nv",
        "outputId": "7e6fef25-efac-4aa5-faba-8df947e62b7f"
      },
      "source": [
        "from google.colab import drive\n",
        "drive.mount('/content/drive')"
      ],
      "execution_count": 2,
      "outputs": [
        {
          "output_type": "stream",
          "name": "stdout",
          "text": [
            "Mounted at /content/drive\n"
          ]
        }
      ]
    },
    {
      "cell_type": "code",
      "metadata": {
        "id": "EvEBBIhT16tR"
      },
      "source": [
        "import pandas as pd\n",
        "import numpy as np\n",
        "import cv2\n",
        "from matplotlib import pyplot as plt\n",
        "import json\n",
        "\n",
        "import torch\n",
        "import torch.nn as nn\n",
        "import torch.nn.functional as F\n",
        "import torch.optim as optim\n",
        "import torchvision.transforms as transforms\n",
        "from random import randint\n",
        "import time"
      ],
      "execution_count": 3,
      "outputs": []
    },
    {
      "cell_type": "code",
      "metadata": {
        "id": "DGTI3GeuVHtp",
        "colab": {
          "base_uri": "https://localhost:8080/"
        },
        "outputId": "af481143-c9cd-4a83-9317-eb94fdf37181"
      },
      "source": [
        "# decide whether to compute using GPU\n",
        "\n",
        "device= torch.device(\"cuda\")\n",
        "#device= torch.device(\"cpu\")\n",
        "print(device)"
      ],
      "execution_count": 4,
      "outputs": [
        {
          "output_type": "stream",
          "name": "stdout",
          "text": [
            "cuda\n"
          ]
        }
      ]
    },
    {
      "cell_type": "code",
      "metadata": {
        "id": "Gzg41nuj16tX",
        "colab": {
          "base_uri": "https://localhost:8080/"
        },
        "outputId": "abff9adf-c469-4e63-856c-c25acca01507"
      },
      "source": [
        "fold_0 = pd.read_csv('/content/drive/MyDrive/MSAI CV/MSAI CV Project/Data/fold_0_data.txt',sep='\\t')\n",
        "fold_1 = pd.read_csv('/content/drive/MyDrive/MSAI CV/MSAI CV Project/Data/fold_1_data.txt',sep='\\t')\n",
        "fold_2 = pd.read_csv('/content/drive/MyDrive/MSAI CV/MSAI CV Project/Data/fold_2_data.txt',sep='\\t')\n",
        "fold_3 = pd.read_csv('/content/drive/MyDrive/MSAI CV/MSAI CV Project/Data/fold_3_data.txt',sep='\\t')\n",
        "fold_4 = pd.read_csv('/content/drive/MyDrive/MSAI CV/MSAI CV Project/Data/fold_4_data.txt',sep='\\t')\n",
        "df_combined = pd.concat([fold_0,fold_1,fold_2,fold_3,fold_4],ignore_index=True)\n",
        "print(f'Number of rows: {len(df_combined)}')\n",
        "df_combined.info()"
      ],
      "execution_count": 5,
      "outputs": [
        {
          "output_type": "stream",
          "name": "stdout",
          "text": [
            "Number of rows: 19370\n",
            "<class 'pandas.core.frame.DataFrame'>\n",
            "RangeIndex: 19370 entries, 0 to 19369\n",
            "Data columns (total 12 columns):\n",
            " #   Column              Non-Null Count  Dtype \n",
            "---  ------              --------------  ----- \n",
            " 0   user_id             19370 non-null  object\n",
            " 1   original_image      19370 non-null  object\n",
            " 2   face_id             19370 non-null  int64 \n",
            " 3   age                 19370 non-null  object\n",
            " 4   gender              18591 non-null  object\n",
            " 5   x                   19370 non-null  int64 \n",
            " 6   y                   19370 non-null  int64 \n",
            " 7   dx                  19370 non-null  int64 \n",
            " 8   dy                  19370 non-null  int64 \n",
            " 9   tilt_ang            19370 non-null  int64 \n",
            " 10  fiducial_yaw_angle  19370 non-null  int64 \n",
            " 11  fiducial_score      19370 non-null  int64 \n",
            "dtypes: int64(8), object(4)\n",
            "memory usage: 1.8+ MB\n"
          ]
        }
      ]
    },
    {
      "cell_type": "code",
      "metadata": {
        "id": "ePV31MOx16tZ",
        "colab": {
          "base_uri": "https://localhost:8080/",
          "height": 206
        },
        "outputId": "69d499ac-4ecd-4708-bbd1-05e785da1c28"
      },
      "source": [
        "df_combined.head()"
      ],
      "execution_count": 6,
      "outputs": [
        {
          "output_type": "execute_result",
          "data": {
            "text/html": [
              "<div>\n",
              "<style scoped>\n",
              "    .dataframe tbody tr th:only-of-type {\n",
              "        vertical-align: middle;\n",
              "    }\n",
              "\n",
              "    .dataframe tbody tr th {\n",
              "        vertical-align: top;\n",
              "    }\n",
              "\n",
              "    .dataframe thead th {\n",
              "        text-align: right;\n",
              "    }\n",
              "</style>\n",
              "<table border=\"1\" class=\"dataframe\">\n",
              "  <thead>\n",
              "    <tr style=\"text-align: right;\">\n",
              "      <th></th>\n",
              "      <th>user_id</th>\n",
              "      <th>original_image</th>\n",
              "      <th>face_id</th>\n",
              "      <th>age</th>\n",
              "      <th>gender</th>\n",
              "      <th>x</th>\n",
              "      <th>y</th>\n",
              "      <th>dx</th>\n",
              "      <th>dy</th>\n",
              "      <th>tilt_ang</th>\n",
              "      <th>fiducial_yaw_angle</th>\n",
              "      <th>fiducial_score</th>\n",
              "    </tr>\n",
              "  </thead>\n",
              "  <tbody>\n",
              "    <tr>\n",
              "      <th>0</th>\n",
              "      <td>30601258@N03</td>\n",
              "      <td>10399646885_67c7d20df9_o.jpg</td>\n",
              "      <td>1</td>\n",
              "      <td>(25, 32)</td>\n",
              "      <td>f</td>\n",
              "      <td>0</td>\n",
              "      <td>414</td>\n",
              "      <td>1086</td>\n",
              "      <td>1383</td>\n",
              "      <td>-115</td>\n",
              "      <td>30</td>\n",
              "      <td>17</td>\n",
              "    </tr>\n",
              "    <tr>\n",
              "      <th>1</th>\n",
              "      <td>30601258@N03</td>\n",
              "      <td>10424815813_e94629b1ec_o.jpg</td>\n",
              "      <td>2</td>\n",
              "      <td>(25, 32)</td>\n",
              "      <td>m</td>\n",
              "      <td>301</td>\n",
              "      <td>105</td>\n",
              "      <td>640</td>\n",
              "      <td>641</td>\n",
              "      <td>0</td>\n",
              "      <td>0</td>\n",
              "      <td>94</td>\n",
              "    </tr>\n",
              "    <tr>\n",
              "      <th>2</th>\n",
              "      <td>30601258@N03</td>\n",
              "      <td>10437979845_5985be4b26_o.jpg</td>\n",
              "      <td>1</td>\n",
              "      <td>(25, 32)</td>\n",
              "      <td>f</td>\n",
              "      <td>2395</td>\n",
              "      <td>876</td>\n",
              "      <td>771</td>\n",
              "      <td>771</td>\n",
              "      <td>175</td>\n",
              "      <td>-30</td>\n",
              "      <td>74</td>\n",
              "    </tr>\n",
              "    <tr>\n",
              "      <th>3</th>\n",
              "      <td>30601258@N03</td>\n",
              "      <td>10437979845_5985be4b26_o.jpg</td>\n",
              "      <td>3</td>\n",
              "      <td>(25, 32)</td>\n",
              "      <td>m</td>\n",
              "      <td>752</td>\n",
              "      <td>1255</td>\n",
              "      <td>484</td>\n",
              "      <td>485</td>\n",
              "      <td>180</td>\n",
              "      <td>0</td>\n",
              "      <td>47</td>\n",
              "    </tr>\n",
              "    <tr>\n",
              "      <th>4</th>\n",
              "      <td>30601258@N03</td>\n",
              "      <td>11816644924_075c3d8d59_o.jpg</td>\n",
              "      <td>2</td>\n",
              "      <td>(25, 32)</td>\n",
              "      <td>m</td>\n",
              "      <td>175</td>\n",
              "      <td>80</td>\n",
              "      <td>769</td>\n",
              "      <td>768</td>\n",
              "      <td>-75</td>\n",
              "      <td>0</td>\n",
              "      <td>34</td>\n",
              "    </tr>\n",
              "  </tbody>\n",
              "</table>\n",
              "</div>"
            ],
            "text/plain": [
              "        user_id  ... fiducial_score\n",
              "0  30601258@N03  ...             17\n",
              "1  30601258@N03  ...             94\n",
              "2  30601258@N03  ...             74\n",
              "3  30601258@N03  ...             47\n",
              "4  30601258@N03  ...             34\n",
              "\n",
              "[5 rows x 12 columns]"
            ]
          },
          "metadata": {},
          "execution_count": 6
        }
      ]
    },
    {
      "cell_type": "code",
      "metadata": {
        "id": "OTPPBb1r16ta",
        "colab": {
          "base_uri": "https://localhost:8080/"
        },
        "outputId": "98fbb10a-c2ec-4d95-b322-cbdc04b60fad"
      },
      "source": [
        "# new column to specify the file path\n",
        "#df_combined['filepath'] = 'AdienceBenchmarkGenderAndAgeClassification/faces/' + df_combined['user_id'] + '/coarse_tilt_aligned_face.' + df_combined['face_id'].astype('str') + '.' + df_combined['original_image']\n",
        "#df_combined['filepath']\n",
        "\n",
        "df_combined['image_path'] = '/content/drive/MyDrive/MSAI CV/MSAI CV Project/Data/faces/' + df_combined['user_id'] + '/coarse_tilt_aligned_face.' + df_combined['face_id'].astype('str') + '.' + df_combined['original_image']\n",
        "df_combined['image_path']"
      ],
      "execution_count": 7,
      "outputs": [
        {
          "output_type": "execute_result",
          "data": {
            "text/plain": [
              "0        /content/drive/MyDrive/MSAI CV/MSAI CV Project...\n",
              "1        /content/drive/MyDrive/MSAI CV/MSAI CV Project...\n",
              "2        /content/drive/MyDrive/MSAI CV/MSAI CV Project...\n",
              "3        /content/drive/MyDrive/MSAI CV/MSAI CV Project...\n",
              "4        /content/drive/MyDrive/MSAI CV/MSAI CV Project...\n",
              "                               ...                        \n",
              "19365    /content/drive/MyDrive/MSAI CV/MSAI CV Project...\n",
              "19366    /content/drive/MyDrive/MSAI CV/MSAI CV Project...\n",
              "19367    /content/drive/MyDrive/MSAI CV/MSAI CV Project...\n",
              "19368    /content/drive/MyDrive/MSAI CV/MSAI CV Project...\n",
              "19369    /content/drive/MyDrive/MSAI CV/MSAI CV Project...\n",
              "Name: image_path, Length: 19370, dtype: object"
            ]
          },
          "metadata": {},
          "execution_count": 7
        }
      ]
    },
    {
      "cell_type": "code",
      "metadata": {
        "id": "mi3jm9ua16td"
      },
      "source": [
        "from torchvision.io import read_image\n",
        "from torch.utils.data import Dataset\n",
        "from skimage import io\n",
        "from PIL import Image\n",
        "\n",
        "class FaceDataset(Dataset):\n",
        "    #def __init__(self, csv_file, model='gender', transform=None):\n",
        "    def __init__(self, df, model='gender', transform=None):\n",
        "        #self.df = pd.read_csv(csv_file)\n",
        "        self.df = df\n",
        "        self.model = model\n",
        "        self.transform = transform\n",
        "\n",
        "    def __len__(self):\n",
        "        return len(self.df)\n",
        "\n",
        "    def __getitem__(self,idx):\n",
        "        img_path = self.df['image_path'][idx]\n",
        "        image = Image.open(img_path)\n",
        "        if self.model == 'gender':\n",
        "            label = self.df['label_gender'][idx]\n",
        "        elif self.model == 'age':\n",
        "            label = self.df['label_age'][idx]\n",
        "        else:\n",
        "            print('Please specify \"gender\" or \"age\".')\n",
        "            label = None\n",
        "        if self.transform:\n",
        "            image = self.transform(image)\n",
        "        return (image, label)"
      ],
      "execution_count": 8,
      "outputs": []
    },
    {
      "cell_type": "code",
      "metadata": {
        "id": "gxNCAQP016te"
      },
      "source": [
        "transform = transforms.Compose(\n",
        "    [\n",
        "        transforms.Resize((128,128)),\n",
        "        transforms.ToTensor(),\n",
        "        transforms.Normalize((0.5,0.5,0.5),(0.5,0.5,0.5))\n",
        "    ]\n",
        ")"
      ],
      "execution_count": 9,
      "outputs": []
    },
    {
      "cell_type": "markdown",
      "metadata": {
        "id": "Rvbkh5Li16ta"
      },
      "source": [
        "# Age Model"
      ]
    },
    {
      "cell_type": "code",
      "metadata": {
        "colab": {
          "base_uri": "https://localhost:8080/",
          "height": 335
        },
        "id": "gjtlVUffa2vW",
        "outputId": "74be7b2f-23a8-4e6c-8a09-5baae477f145"
      },
      "source": [
        "# # age break down\n",
        "print(df_combined.age.unique())\n",
        "df_combined.age.value_counts().plot.pie()"
      ],
      "execution_count": 10,
      "outputs": [
        {
          "output_type": "stream",
          "name": "stdout",
          "text": [
            "['(25, 32)' '(38, 43)' '(4, 6)' '(60, 100)' '(15, 20)' '(48, 53)'\n",
            " '(8, 12)' '(0, 2)' 'None' '(38, 48)' '35' '3' '55' '58' '22' '13' '45'\n",
            " '36' '23' '(38, 42)' '(8, 23)' '(27, 32)' '57' '56' '2' '29' '34' '42'\n",
            " '46' '32']\n"
          ]
        },
        {
          "output_type": "execute_result",
          "data": {
            "text/plain": [
              "<matplotlib.axes._subplots.AxesSubplot at 0x7f8f87c80e90>"
            ]
          },
          "metadata": {},
          "execution_count": 10
        },
        {
          "output_type": "display_data",
          "data": {
            "image/png": "[encoded data removed]",
            "text/plain": [
              "<Figure size 432x288 with 1 Axes>"
            ]
          },
          "metadata": {}
        }
      ]
    },
    {
      "cell_type": "code",
      "metadata": {
        "colab": {
          "base_uri": "https://localhost:8080/",
          "height": 632
        },
        "id": "4yjEHCZva_-R",
        "outputId": "2b32a59f-d82e-433d-8c9b-54c880e98376"
      },
      "source": [
        "# filtered of unlabelled data\n",
        "print(f'Total Number of records: {len(df_combined)}')\n",
        "df_age = df_combined.copy()\n",
        "df_age = df_age[df_age['age'] != 'None']\n",
        "print(f'Total Number of records with Gender Labels: {len(df_age)}')\n",
        "\n",
        "# formulating age class\n",
        "with open('/content/drive/MyDrive/MSAI CV/MSAI CV Project/Data/age_class.json') as f:\n",
        "    age_class = json.load(f)\n",
        "\n",
        "df_age['age'] = df_age['age'].apply(lambda x: age_class[x])\n",
        "df_age.age.value_counts()\n",
        "\n",
        "# convert class to int\n",
        "def labelling_age(age_range):\n",
        "    if age_range == '0-3':\n",
        "        return 0\n",
        "    elif age_range == '4-6':\n",
        "        return 1\n",
        "    elif age_range == '8-14':\n",
        "        return 2\n",
        "    elif age_range == '15-24':\n",
        "        return 3\n",
        "    elif age_range == '25-36':\n",
        "        return 4\n",
        "    elif age_range == '38-47':\n",
        "        return 5\n",
        "    elif age_range == '48-59':\n",
        "        return 6\n",
        "    elif age_range == '60+':\n",
        "        return 7\n",
        "\n",
        "df_age['label_age'] = df_age['age'].apply(labelling_age)\n",
        "print('Age Class (after labelling): ')\n",
        "print(df_age.label_age.value_counts())\n",
        "\n",
        "df_age.reset_index(inplace=True)\n",
        "df_age.drop(columns=['index'],inplace=True)\n",
        "df_age"
      ],
      "execution_count": 11,
      "outputs": [
        {
          "output_type": "stream",
          "name": "stdout",
          "text": [
            "Total Number of records: 19370\n",
            "Total Number of records with Gender Labels: 18622\n",
            "Age Class (after labelling): \n",
            "4    5549\n",
            "0    2509\n",
            "5    2435\n",
            "2    2293\n",
            "1    2140\n",
            "3    1887\n",
            "6     937\n",
            "7     872\n",
            "Name: label_age, dtype: int64\n"
          ]
        },
        {
          "output_type": "execute_result",
          "data": {
            "text/html": [
              "<div>\n",
              "<style scoped>\n",
              "    .dataframe tbody tr th:only-of-type {\n",
              "        vertical-align: middle;\n",
              "    }\n",
              "\n",
              "    .dataframe tbody tr th {\n",
              "        vertical-align: top;\n",
              "    }\n",
              "\n",
              "    .dataframe thead th {\n",
              "        text-align: right;\n",
              "    }\n",
              "</style>\n",
              "<table border=\"1\" class=\"dataframe\">\n",
              "  <thead>\n",
              "    <tr style=\"text-align: right;\">\n",
              "      <th></th>\n",
              "      <th>user_id</th>\n",
              "      <th>original_image</th>\n",
              "      <th>face_id</th>\n",
              "      <th>age</th>\n",
              "      <th>gender</th>\n",
              "      <th>x</th>\n",
              "      <th>y</th>\n",
              "      <th>dx</th>\n",
              "      <th>dy</th>\n",
              "      <th>tilt_ang</th>\n",
              "      <th>fiducial_yaw_angle</th>\n",
              "      <th>fiducial_score</th>\n",
              "      <th>image_path</th>\n",
              "      <th>label_age</th>\n",
              "    </tr>\n",
              "  </thead>\n",
              "  <tbody>\n",
              "    <tr>\n",
              "      <th>0</th>\n",
              "      <td>30601258@N03</td>\n",
              "      <td>10399646885_67c7d20df9_o.jpg</td>\n",
              "      <td>1</td>\n",
              "      <td>25-36</td>\n",
              "      <td>f</td>\n",
              "      <td>0</td>\n",
              "      <td>414</td>\n",
              "      <td>1086</td>\n",
              "      <td>1383</td>\n",
              "      <td>-115</td>\n",
              "      <td>30</td>\n",
              "      <td>17</td>\n",
              "      <td>/content/drive/MyDrive/MSAI CV/MSAI CV Project...</td>\n",
              "      <td>4</td>\n",
              "    </tr>\n",
              "    <tr>\n",
              "      <th>1</th>\n",
              "      <td>30601258@N03</td>\n",
              "      <td>10424815813_e94629b1ec_o.jpg</td>\n",
              "      <td>2</td>\n",
              "      <td>25-36</td>\n",
              "      <td>m</td>\n",
              "      <td>301</td>\n",
              "      <td>105</td>\n",
              "      <td>640</td>\n",
              "      <td>641</td>\n",
              "      <td>0</td>\n",
              "      <td>0</td>\n",
              "      <td>94</td>\n",
              "      <td>/content/drive/MyDrive/MSAI CV/MSAI CV Project...</td>\n",
              "      <td>4</td>\n",
              "    </tr>\n",
              "    <tr>\n",
              "      <th>2</th>\n",
              "      <td>30601258@N03</td>\n",
              "      <td>10437979845_5985be4b26_o.jpg</td>\n",
              "      <td>1</td>\n",
              "      <td>25-36</td>\n",
              "      <td>f</td>\n",
              "      <td>2395</td>\n",
              "      <td>876</td>\n",
              "      <td>771</td>\n",
              "      <td>771</td>\n",
              "      <td>175</td>\n",
              "      <td>-30</td>\n",
              "      <td>74</td>\n",
              "      <td>/content/drive/MyDrive/MSAI CV/MSAI CV Project...</td>\n",
              "      <td>4</td>\n",
              "    </tr>\n",
              "    <tr>\n",
              "      <th>3</th>\n",
              "      <td>30601258@N03</td>\n",
              "      <td>10437979845_5985be4b26_o.jpg</td>\n",
              "      <td>3</td>\n",
              "      <td>25-36</td>\n",
              "      <td>m</td>\n",
              "      <td>752</td>\n",
              "      <td>1255</td>\n",
              "      <td>484</td>\n",
              "      <td>485</td>\n",
              "      <td>180</td>\n",
              "      <td>0</td>\n",
              "      <td>47</td>\n",
              "      <td>/content/drive/MyDrive/MSAI CV/MSAI CV Project...</td>\n",
              "      <td>4</td>\n",
              "    </tr>\n",
              "    <tr>\n",
              "      <th>4</th>\n",
              "      <td>30601258@N03</td>\n",
              "      <td>11816644924_075c3d8d59_o.jpg</td>\n",
              "      <td>2</td>\n",
              "      <td>25-36</td>\n",
              "      <td>m</td>\n",
              "      <td>175</td>\n",
              "      <td>80</td>\n",
              "      <td>769</td>\n",
              "      <td>768</td>\n",
              "      <td>-75</td>\n",
              "      <td>0</td>\n",
              "      <td>34</td>\n",
              "      <td>/content/drive/MyDrive/MSAI CV/MSAI CV Project...</td>\n",
              "      <td>4</td>\n",
              "    </tr>\n",
              "    <tr>\n",
              "      <th>...</th>\n",
              "      <td>...</td>\n",
              "      <td>...</td>\n",
              "      <td>...</td>\n",
              "      <td>...</td>\n",
              "      <td>...</td>\n",
              "      <td>...</td>\n",
              "      <td>...</td>\n",
              "      <td>...</td>\n",
              "      <td>...</td>\n",
              "      <td>...</td>\n",
              "      <td>...</td>\n",
              "      <td>...</td>\n",
              "      <td>...</td>\n",
              "      <td>...</td>\n",
              "    </tr>\n",
              "    <tr>\n",
              "      <th>18617</th>\n",
              "      <td>101515718@N03</td>\n",
              "      <td>10587826073_6663f5b654_o.jpg</td>\n",
              "      <td>2280</td>\n",
              "      <td>25-36</td>\n",
              "      <td>f</td>\n",
              "      <td>718</td>\n",
              "      <td>748</td>\n",
              "      <td>492</td>\n",
              "      <td>492</td>\n",
              "      <td>0</td>\n",
              "      <td>0</td>\n",
              "      <td>63</td>\n",
              "      <td>/content/drive/MyDrive/MSAI CV/MSAI CV Project...</td>\n",
              "      <td>4</td>\n",
              "    </tr>\n",
              "    <tr>\n",
              "      <th>18618</th>\n",
              "      <td>101515718@N03</td>\n",
              "      <td>10587571495_a61785cd06_o.jpg</td>\n",
              "      <td>2278</td>\n",
              "      <td>25-36</td>\n",
              "      <td>m</td>\n",
              "      <td>48</td>\n",
              "      <td>472</td>\n",
              "      <td>768</td>\n",
              "      <td>768</td>\n",
              "      <td>-15</td>\n",
              "      <td>0</td>\n",
              "      <td>25</td>\n",
              "      <td>/content/drive/MyDrive/MSAI CV/MSAI CV Project...</td>\n",
              "      <td>4</td>\n",
              "    </tr>\n",
              "    <tr>\n",
              "      <th>18619</th>\n",
              "      <td>101515718@N03</td>\n",
              "      <td>10587571495_a61785cd06_o.jpg</td>\n",
              "      <td>2279</td>\n",
              "      <td>25-36</td>\n",
              "      <td>f</td>\n",
              "      <td>950</td>\n",
              "      <td>0</td>\n",
              "      <td>692</td>\n",
              "      <td>687</td>\n",
              "      <td>-5</td>\n",
              "      <td>0</td>\n",
              "      <td>27</td>\n",
              "      <td>/content/drive/MyDrive/MSAI CV/MSAI CV Project...</td>\n",
              "      <td>4</td>\n",
              "    </tr>\n",
              "    <tr>\n",
              "      <th>18620</th>\n",
              "      <td>50458575@N08</td>\n",
              "      <td>9426695459_9e8b347604_o.jpg</td>\n",
              "      <td>2281</td>\n",
              "      <td>25-36</td>\n",
              "      <td>f</td>\n",
              "      <td>831</td>\n",
              "      <td>895</td>\n",
              "      <td>899</td>\n",
              "      <td>899</td>\n",
              "      <td>0</td>\n",
              "      <td>15</td>\n",
              "      <td>59</td>\n",
              "      <td>/content/drive/MyDrive/MSAI CV/MSAI CV Project...</td>\n",
              "      <td>4</td>\n",
              "    </tr>\n",
              "    <tr>\n",
              "      <th>18621</th>\n",
              "      <td>50458575@N08</td>\n",
              "      <td>9429464468_1bfc39ecfb_o.jpg</td>\n",
              "      <td>2281</td>\n",
              "      <td>25-36</td>\n",
              "      <td>f</td>\n",
              "      <td>653</td>\n",
              "      <td>1023</td>\n",
              "      <td>555</td>\n",
              "      <td>554</td>\n",
              "      <td>5</td>\n",
              "      <td>30</td>\n",
              "      <td>70</td>\n",
              "      <td>/content/drive/MyDrive/MSAI CV/MSAI CV Project...</td>\n",
              "      <td>4</td>\n",
              "    </tr>\n",
              "  </tbody>\n",
              "</table>\n",
              "<p>18622 rows × 14 columns</p>\n",
              "</div>"
            ],
            "text/plain": [
              "             user_id  ... label_age\n",
              "0       30601258@N03  ...         4\n",
              "1       30601258@N03  ...         4\n",
              "2       30601258@N03  ...         4\n",
              "3       30601258@N03  ...         4\n",
              "4       30601258@N03  ...         4\n",
              "...              ...  ...       ...\n",
              "18617  101515718@N03  ...         4\n",
              "18618  101515718@N03  ...         4\n",
              "18619  101515718@N03  ...         4\n",
              "18620   50458575@N08  ...         4\n",
              "18621   50458575@N08  ...         4\n",
              "\n",
              "[18622 rows x 14 columns]"
            ]
          },
          "metadata": {},
          "execution_count": 11
        }
      ]
    },
    {
      "cell_type": "code",
      "metadata": {
        "id": "yRIaJBW99rC3"
      },
      "source": [
        "df_age.to_csv('/content/drive/MyDrive/MSAI CV/MSAI CV Project/df_age.csv')"
      ],
      "execution_count": 12,
      "outputs": []
    },
    {
      "cell_type": "code",
      "metadata": {
        "id": "9-BEmZfg16tg",
        "colab": {
          "base_uri": "https://localhost:8080/"
        },
        "outputId": "f68e928b-d3f4-45e5-b094-5a6c8dc691b6"
      },
      "source": [
        "#dataset_age = FaceDataset(csv_file='/content/drive/MyDrive/MSAI CV/MSAI CV Project/df_age.csv',model='age',transform=transform)\n",
        "dataset_age = FaceDataset(df=df_age,model='age',transform=transform)\n",
        "dataset_age_len = len(dataset_age)\n",
        "print(dataset_age_len)\n",
        "print([int(dataset_age_len*0.7),dataset_age_len - int(dataset_age_len*0.7)])\n",
        "train_age, test_age = torch.utils.data.random_split(dataset_age,[int(dataset_age_len*0.7),dataset_age_len - int(dataset_age_len*0.7)])\n",
        "\n",
        "from torch.utils.data import DataLoader\n",
        "\n",
        "train_age_loader = DataLoader(train_age,batch_size=20,shuffle=True)\n",
        "test_age_loader = DataLoader(test_age,batch_size=20,shuffle=True)"
      ],
      "execution_count": 13,
      "outputs": [
        {
          "output_type": "stream",
          "name": "stdout",
          "text": [
            "18622\n",
            "[13035, 5587]\n"
          ]
        }
      ]
    },
    {
      "cell_type": "code",
      "metadata": {
        "id": "ASYzafCZ16tg",
        "colab": {
          "base_uri": "https://localhost:8080/",
          "height": 337
        },
        "outputId": "f2bb3749-e3e9-4631-bddc-d6fe1f12036c"
      },
      "source": [
        "train_features, train_labels = next(iter(train_age_loader))\n",
        "print(f\"Feature batch shape: {train_features.size()}\")\n",
        "print(f\"Labels batch shape: {train_labels.size()}\")\n",
        "img = train_features[0].squeeze()\n",
        "plt.imshow(img.permute(1, 2, 0))"
      ],
      "execution_count": 14,
      "outputs": [
        {
          "output_type": "stream",
          "name": "stderr",
          "text": [
            "Clipping input data to the valid range for imshow with RGB data ([0..1] for floats or [0..255] for integers).\n"
          ]
        },
        {
          "output_type": "stream",
          "name": "stdout",
          "text": [
            "Feature batch shape: torch.Size([20, 3, 128, 128])\n",
            "Labels batch shape: torch.Size([20])\n"
          ]
        },
        {
          "output_type": "execute_result",
          "data": {
            "text/plain": [
              "<matplotlib.image.AxesImage at 0x7f8f8ad79950>"
            ]
          },
          "metadata": {},
          "execution_count": 14
        },
        {
          "output_type": "display_data",
          "data": {
            "image/png": "[encoded data removed]",
            "text/plain": [
              "<Figure size 432x288 with 1 Axes>"
            ]
          },
          "metadata": {
            "needs_background": "light"
          }
        }
      ]
    },
    {
      "cell_type": "code",
      "metadata": {
        "id": "-i8Ve2uR16th",
        "colab": {
          "base_uri": "https://localhost:8080/"
        },
        "outputId": "7f268c38-b46f-4977-e4e3-b03714297e54"
      },
      "source": [
        "class model_age(nn.Module): # VGG_convnet\n",
        "\n",
        "    def __init__(self):\n",
        "        super(model_age,self).__init__()\n",
        "\n",
        "        # block 1:         3 x 128 x 128 --> 64 x 32 x 32        \n",
        "        self.conv1a = nn.Conv2d(3,   64,  kernel_size=3, padding=1 )\n",
        "        self.conv1b = nn.Conv2d(64,  64,  kernel_size=3, padding=1 )\n",
        "        self.pool1  = nn.MaxPool2d(4,4)\n",
        "\n",
        "        # block 2:         64 x 32 x 32 --> 128 x 8 x 8\n",
        "        self.conv2a = nn.Conv2d(64,  128, kernel_size=3, padding=1 )\n",
        "        self.conv2b = nn.Conv2d(128, 128, kernel_size=3, padding=1 )\n",
        "        self.pool2  = nn.MaxPool2d(4,4)\n",
        "\n",
        "        # block 3:         128 x 8 x 8 --> 256 x 4 x 4        \n",
        "        self.conv3a = nn.Conv2d(128, 256, kernel_size=3, padding=1 )\n",
        "        self.conv3b = nn.Conv2d(256, 256, kernel_size=3, padding=1 )\n",
        "        self.pool3  = nn.MaxPool2d(2,2)\n",
        "\n",
        "        #block 4:          256 x 4 x 4 --> 512 x 2 x 2\n",
        "        self.conv4a = nn.Conv2d(256, 512, kernel_size=3, padding=1 )\n",
        "        self.pool4  = nn.MaxPool2d(2,2)\n",
        "\n",
        "        # linear layers:   512 x 2 x 2 --> 2048 --> 4096 --> 4096 --> 10\n",
        "        self.linear1 = nn.Linear(2048, 4096)\n",
        "        self.linear2 = nn.Linear(4096, 4096)\n",
        "        self.linear3 = nn.Linear(4096, 8)\n",
        "        \n",
        "    def forward(self, x):\n",
        "\n",
        "        # block 1:         3 x 32 x 32 --> 64 x 16 x 16\n",
        "        x = self.conv1a(x)\n",
        "        x = F.relu(x)\n",
        "        x = self.conv1b(x)\n",
        "        x = F.relu(x)\n",
        "        x = self.pool1(x)\n",
        "\n",
        "        # block 2:         64 x 16 x 16 --> 128 x 8 x 8\n",
        "        x = self.conv2a(x)\n",
        "        x = F.relu(x)\n",
        "        x = self.conv2b(x)\n",
        "        x = F.relu(x)\n",
        "        x = self.pool2(x)\n",
        "\n",
        "        # block 3:         128 x 8 x 8 --> 256 x 4 x 4\n",
        "        x = self.conv3a(x)\n",
        "        x = F.relu(x)\n",
        "        x = self.conv3b(x)\n",
        "        x = F.relu(x)\n",
        "        x = self.pool3(x)\n",
        "\n",
        "        #block 4:          256 x 4 x 4 --> 512 x 2 x 2\n",
        "        x = self.conv4a(x)\n",
        "        x = F.relu(x)\n",
        "        x = self.pool4(x)\n",
        "\n",
        "        # linear layers:   512 x 2 x 2 --> 2048 --> 4096 --> 4096 --> 10\n",
        "        x = x.view(-1, 2048)\n",
        "        x = self.linear1(x)\n",
        "        x = F.relu(x)\n",
        "        x = self.linear2(x)\n",
        "        x = F.relu(x)\n",
        "        x = self.linear3(x) \n",
        "        \n",
        "        return x\n",
        "\n",
        "net_age = model_age()\n",
        "print(net_age)"
      ],
      "execution_count": 15,
      "outputs": [
        {
          "output_type": "stream",
          "name": "stdout",
          "text": [
            "model_age(\n",
            "  (conv1a): Conv2d(3, 64, kernel_size=(3, 3), stride=(1, 1), padding=(1, 1))\n",
            "  (conv1b): Conv2d(64, 64, kernel_size=(3, 3), stride=(1, 1), padding=(1, 1))\n",
            "  (pool1): MaxPool2d(kernel_size=4, stride=4, padding=0, dilation=1, ceil_mode=False)\n",
            "  (conv2a): Conv2d(64, 128, kernel_size=(3, 3), stride=(1, 1), padding=(1, 1))\n",
            "  (conv2b): Conv2d(128, 128, kernel_size=(3, 3), stride=(1, 1), padding=(1, 1))\n",
            "  (pool2): MaxPool2d(kernel_size=4, stride=4, padding=0, dilation=1, ceil_mode=False)\n",
            "  (conv3a): Conv2d(128, 256, kernel_size=(3, 3), stride=(1, 1), padding=(1, 1))\n",
            "  (conv3b): Conv2d(256, 256, kernel_size=(3, 3), stride=(1, 1), padding=(1, 1))\n",
            "  (pool3): MaxPool2d(kernel_size=2, stride=2, padding=0, dilation=1, ceil_mode=False)\n",
            "  (conv4a): Conv2d(256, 512, kernel_size=(3, 3), stride=(1, 1), padding=(1, 1))\n",
            "  (pool4): MaxPool2d(kernel_size=2, stride=2, padding=0, dilation=1, ceil_mode=False)\n",
            "  (linear1): Linear(in_features=2048, out_features=4096, bias=True)\n",
            "  (linear2): Linear(in_features=4096, out_features=4096, bias=True)\n",
            "  (linear3): Linear(in_features=4096, out_features=8, bias=True)\n",
            ")\n"
          ]
        }
      ]
    },
    {
      "cell_type": "code",
      "metadata": {
        "id": "Y0smunpAWgsV"
      },
      "source": [
        "# send net_age to device\n",
        "net_age = net_age.to(device)"
      ],
      "execution_count": 16,
      "outputs": []
    },
    {
      "cell_type": "code",
      "metadata": {
        "id": "wGvCvk_816ti"
      },
      "source": [
        "criterion = nn.CrossEntropyLoss()\n",
        "my_lr=0.25 \n",
        "bs= 20\n",
        "test_set_error = 1\n",
        "# device= torch.device(\"cuda\")\n",
        "# net_gender = net_gender.to(device)"
      ],
      "execution_count": 17,
      "outputs": []
    },
    {
      "cell_type": "code",
      "metadata": {
        "id": "h2bSB8Lx16ti"
      },
      "source": [
        "def get_error( scores , labels ):\n",
        "\n",
        "    bs=scores.size(0)\n",
        "    predicted_labels = scores.argmax(dim=1)\n",
        "    indicator = (predicted_labels == labels)\n",
        "    num_matches=indicator.sum()\n",
        "    \n",
        "    return 1-num_matches.float()/bs    "
      ],
      "execution_count": 18,
      "outputs": []
    },
    {
      "cell_type": "code",
      "metadata": {
        "id": "RlO6NwH216ti"
      },
      "source": [
        "def eval_on_test_set():\n",
        "\n",
        "    running_error=0\n",
        "    num_batches=0\n",
        "\n",
        "    for i in range(0,len(test_age),bs):\n",
        "\n",
        "        minibatch_data, minibatch_label=  next(iter(test_age_loader))\n",
        "\n",
        "        minibatch_data=minibatch_data.to(device)\n",
        "        minibatch_label=minibatch_label.to(device)\n",
        "        \n",
        "        inputs = minibatch_data\n",
        "\n",
        "        scores=net_age( inputs ) \n",
        "\n",
        "        error = get_error( scores , minibatch_label)\n",
        "\n",
        "        running_error += error.item()\n",
        "\n",
        "        num_batches+=1\n",
        "\n",
        "    total_error = running_error/num_batches\n",
        "    return total_error"
      ],
      "execution_count": 19,
      "outputs": []
    },
    {
      "cell_type": "code",
      "metadata": {
        "id": "Yz7nrZz416tj",
        "colab": {
          "base_uri": "https://localhost:8080/"
        },
        "outputId": "348aff88-f9fe-4a11-861b-7ba85faaacf9"
      },
      "source": [
        "start=time.time()\n",
        "\n",
        "my_lr_list = []\n",
        "\n",
        "for epoch in range(1,20):\n",
        "    \n",
        "    print('learning rate list:', my_lr_list)\n",
        "    # learning rate schedule\n",
        "    if epoch > 1:\n",
        "      if test_set_error >= test_set_error_prior:\n",
        "        my_lr = my_lr / 1.5\n",
        "    \n",
        "    my_lr_list.append(round(my_lr, 3))\n",
        "    \n",
        "    # create a new optimizer at the beginning of each epoch: give the current learning rate.   \n",
        "    optimizer=torch.optim.SGD( net_age.parameters() , lr=my_lr )\n",
        "        \n",
        "    # set the running quatities to zero at the beginning of the epoch\n",
        "    running_loss=0\n",
        "    running_error=0\n",
        "    num_batches=0\n",
        " \n",
        "    for count in range(0,len(train_age),bs):\n",
        "    \n",
        "        # Set the gradients to zeros\n",
        "        optimizer.zero_grad()\n",
        "        \n",
        "        # create a minibatch       \n",
        "        minibatch_data, minibatch_label = next(iter(train_age_loader))\n",
        "\n",
        "        minibatch_data=minibatch_data.to(device)\n",
        "        minibatch_label=minibatch_label.to(device)\n",
        "        \n",
        "        #print('minibatch_data size:', minibatch_data.size())\n",
        "        #print('minibatch_label size:', minibatch_label.size())\n",
        "\n",
        "        # normalize the minibatch (this is the only difference compared to before!)\n",
        "        inputs = minibatch_data\n",
        "        \n",
        "        # tell Pytorch to start tracking all operations that will be done on \"inputs\"\n",
        "        inputs.requires_grad_()\n",
        "\n",
        "        # forward the minibatch through the net \n",
        "        scores=net_age( inputs ) \n",
        "\n",
        "        # Compute the average of the losses of the data points in the minibatch\n",
        "        loss =  criterion( scores , minibatch_label) \n",
        "        \n",
        "        # backward pass to compute dL/dU, dL/dV and dL/dW   \n",
        "        loss.backward()\n",
        "\n",
        "        # do one step of stochastic gradient descent: U=U-lr(dL/dU), V=V-lr(dL/dU), ...\n",
        "        optimizer.step()\n",
        "        \n",
        "        # START COMPUTING STATS\n",
        "        \n",
        "        # add the loss of this batch to the running loss\n",
        "        running_loss += loss.detach().item()\n",
        "        \n",
        "        # compute the error made on this batch and add it to the running error       \n",
        "        error = get_error( scores.detach() , minibatch_label)\n",
        "        running_error += error.item()\n",
        "        \n",
        "        num_batches+=1\n",
        "        # print(f'{num_batches} : {(time.time()-start)/60}')\n",
        "    \n",
        "    \n",
        "    test_set_error, test_set_error_prior = eval_on_test_set(), test_set_error\n",
        "\n",
        "    # compute stats for the full training set\n",
        "    total_loss = running_loss/num_batches\n",
        "    total_error = running_error/num_batches\n",
        "    elapsed = (time.time()-start)/60\n",
        "\n",
        "    print('epoch=',epoch, '\\t time=', round(elapsed, 3), 'min', '\\t lr=', round(my_lr, 3)  ,'\\t loss=', round(total_loss, 3) , '\\t error=', round(total_error*100, 3) ,'percent')\n",
        "    #eval_on_test_set() \n",
        "    print( 'error rate on test set =', round(test_set_error*100, 3) ,'percent')\n",
        "    print(' ')"
      ],
      "execution_count": 20,
      "outputs": [
        {
          "output_type": "stream",
          "name": "stdout",
          "text": [
            "learning rate list: []\n",
            "epoch= 1 \t time= 63.98 min \t lr= 0.25 \t loss= 1.939 \t error= 70.706 percent\n",
            "error rate on test set = 71.018 percent\n",
            " \n",
            "learning rate list: [0.25]\n",
            "epoch= 2 \t time= 89.292 min \t lr= 0.25 \t loss= 1.923 \t error= 69.9 percent\n",
            "error rate on test set = 70.161 percent\n",
            " \n",
            "learning rate list: [0.25, 0.25]\n",
            "epoch= 3 \t time= 100.596 min \t lr= 0.25 \t loss= 1.926 \t error= 69.977 percent\n",
            "error rate on test set = 70.143 percent\n",
            " \n",
            "learning rate list: [0.25, 0.25, 0.25]\n",
            "epoch= 4 \t time= 106.468 min \t lr= 0.25 \t loss= 1.922 \t error= 69.632 percent\n",
            "error rate on test set = 69.964 percent\n",
            " \n",
            "learning rate list: [0.25, 0.25, 0.25, 0.25]\n",
            "epoch= 5 \t time= 110.019 min \t lr= 0.25 \t loss= 1.928 \t error= 69.969 percent\n",
            "error rate on test set = 69.911 percent\n",
            " \n",
            "learning rate list: [0.25, 0.25, 0.25, 0.25, 0.25]\n",
            "epoch= 6 \t time= 112.846 min \t lr= 0.25 \t loss= 1.931 \t error= 70.153 percent\n",
            "error rate on test set = 71.321 percent\n",
            " \n",
            "learning rate list: [0.25, 0.25, 0.25, 0.25, 0.25, 0.25]\n",
            "epoch= 7 \t time= 115.446 min \t lr= 0.167 \t loss= 1.933 \t error= 70.146 percent\n",
            "error rate on test set = 71.679 percent\n",
            " \n",
            "learning rate list: [0.25, 0.25, 0.25, 0.25, 0.25, 0.25, 0.167]\n",
            "epoch= 8 \t time= 117.904 min \t lr= 0.111 \t loss= 1.932 \t error= 70.184 percent\n",
            "error rate on test set = 70.571 percent\n",
            " \n",
            "learning rate list: [0.25, 0.25, 0.25, 0.25, 0.25, 0.25, 0.167, 0.111]\n",
            "epoch= 9 \t time= 120.31 min \t lr= 0.111 \t loss= 1.926 \t error= 70.115 percent\n",
            "error rate on test set = 70.661 percent\n",
            " \n",
            "learning rate list: [0.25, 0.25, 0.25, 0.25, 0.25, 0.25, 0.167, 0.111, 0.111]\n",
            "epoch= 10 \t time= 122.731 min \t lr= 0.074 \t loss= 1.925 \t error= 69.985 percent\n",
            "error rate on test set = 70.536 percent\n",
            " \n",
            "learning rate list: [0.25, 0.25, 0.25, 0.25, 0.25, 0.25, 0.167, 0.111, 0.111, 0.074]\n",
            "epoch= 11 \t time= 125.135 min \t lr= 0.074 \t loss= 1.918 \t error= 69.294 percent\n",
            "error rate on test set = 70.446 percent\n",
            " \n",
            "learning rate list: [0.25, 0.25, 0.25, 0.25, 0.25, 0.25, 0.167, 0.111, 0.111, 0.074, 0.074]\n",
            "epoch= 12 \t time= 127.557 min \t lr= 0.074 \t loss= 1.929 \t error= 69.701 percent\n",
            "error rate on test set = 71.268 percent\n",
            " \n",
            "learning rate list: [0.25, 0.25, 0.25, 0.25, 0.25, 0.25, 0.167, 0.111, 0.111, 0.074, 0.074, 0.074]\n",
            "epoch= 13 \t time= 129.967 min \t lr= 0.049 \t loss= 1.937 \t error= 70.867 percent\n",
            "error rate on test set = 69.643 percent\n",
            " \n",
            "learning rate list: [0.25, 0.25, 0.25, 0.25, 0.25, 0.25, 0.167, 0.111, 0.111, 0.074, 0.074, 0.074, 0.049]\n",
            "epoch= 14 \t time= 132.392 min \t lr= 0.049 \t loss= 1.928 \t error= 70.483 percent\n",
            "error rate on test set = 71.804 percent\n",
            " \n",
            "learning rate list: [0.25, 0.25, 0.25, 0.25, 0.25, 0.25, 0.167, 0.111, 0.111, 0.074, 0.074, 0.074, 0.049, 0.049]\n",
            "epoch= 15 \t time= 134.804 min \t lr= 0.033 \t loss= 1.936 \t error= 70.552 percent\n",
            "error rate on test set = 71.75 percent\n",
            " \n",
            "learning rate list: [0.25, 0.25, 0.25, 0.25, 0.25, 0.25, 0.167, 0.111, 0.111, 0.074, 0.074, 0.074, 0.049, 0.049, 0.033]\n",
            "epoch= 16 \t time= 137.246 min \t lr= 0.033 \t loss= 1.923 \t error= 69.609 percent\n",
            "error rate on test set = 71.196 percent\n",
            " \n",
            "learning rate list: [0.25, 0.25, 0.25, 0.25, 0.25, 0.25, 0.167, 0.111, 0.111, 0.074, 0.074, 0.074, 0.049, 0.049, 0.033, 0.033]\n",
            "epoch= 17 \t time= 139.691 min \t lr= 0.033 \t loss= 1.941 \t error= 71.097 percent\n",
            "error rate on test set = 69.875 percent\n",
            " \n",
            "learning rate list: [0.25, 0.25, 0.25, 0.25, 0.25, 0.25, 0.167, 0.111, 0.111, 0.074, 0.074, 0.074, 0.049, 0.049, 0.033, 0.033, 0.033]\n",
            "epoch= 18 \t time= 142.158 min \t lr= 0.033 \t loss= 1.923 \t error= 69.663 percent\n",
            "error rate on test set = 71.429 percent\n",
            " \n",
            "learning rate list: [0.25, 0.25, 0.25, 0.25, 0.25, 0.25, 0.167, 0.111, 0.111, 0.074, 0.074, 0.074, 0.049, 0.049, 0.033, 0.033, 0.033, 0.033]\n",
            "epoch= 19 \t time= 144.583 min \t lr= 0.022 \t loss= 1.931 \t error= 70.345 percent\n",
            "error rate on test set = 69.429 percent\n",
            " \n"
          ]
        }
      ]
    }
  ]
}