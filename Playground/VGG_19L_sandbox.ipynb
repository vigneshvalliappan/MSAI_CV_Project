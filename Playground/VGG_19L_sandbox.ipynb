{
  "nbformat": 4,
  "nbformat_minor": 0,
  "metadata": {
    "interpreter": {
      "hash": "8ab70c8717d59d3d18e55ddb9fc009ca9a9cdea0e10f7027a2b729168083aba5"
    },
    "kernelspec": {
      "display_name": "Python 3",
      "language": "python",
      "name": "python3"
    },
    "language_info": {
      "codemirror_mode": {
        "name": "ipython",
        "version": 3
      },
      "file_extension": ".py",
      "mimetype": "text/x-python",
      "name": "python",
      "nbconvert_exporter": "python",
      "pygments_lexer": "ipython3",
      "version": "3.7.6"
    },
    "colab": {
      "name": "VGG_19L_sandbox.ipynb",
      "provenance": [],
      "machine_shape": "hm",
      "include_colab_link": true
    },
    "accelerator": "GPU"
  },
  "cells": [
    {
      "cell_type": "markdown",
      "metadata": {
        "id": "view-in-github",
        "colab_type": "text"
      },
      "source": [
        "<a href=\"https://colab.research.google.com/github/vigneshvalliappan/MSAI_CV_Project/blob/main/Playground/VGG_19L_sandbox.ipynb\" target=\"_parent\"><img src=\"https://colab.research.google.com/assets/colab-badge.svg\" alt=\"Open In Colab\"/></a>"
      ]
    },
    {
      "cell_type": "code",
      "metadata": {
        "colab": {
          "base_uri": "https://localhost:8080/"
        },
        "id": "wINNYWMY_gR0",
        "outputId": "dab91f68-fb81-449a-8e6e-2cee9d176811"
      },
      "source": [
        "from google.colab import drive\n",
        "drive.mount('/content/drive')"
      ],
      "execution_count": null,
      "outputs": [
        {
          "output_type": "stream",
          "name": "stdout",
          "text": [
            "Mounted at /content/drive\n"
          ]
        }
      ]
    },
    {
      "cell_type": "code",
      "metadata": {
        "id": "BL_styY-c8_T"
      },
      "source": [
        "import pandas as pd\n",
        "import numpy as np\n",
        "import cv2\n",
        "from matplotlib import pyplot as plt\n",
        "import json\n",
        "\n",
        "import torch\n",
        "import torch.nn as nn\n",
        "import torch.nn.functional as F\n",
        "import torch.optim as optim\n",
        "from random import randint\n",
        "import time"
      ],
      "execution_count": null,
      "outputs": []
    },
    {
      "cell_type": "code",
      "metadata": {
        "id": "4ukKgo2S0dYo"
      },
      "source": [
        "from __future__ import print_function, division\n",
        "import os\n",
        "from skimage import io, transform\n",
        "\n",
        "from torch.utils.data import Dataset, DataLoader\n",
        "from torchvision import transforms, utils\n",
        "\n",
        "# Ignore warnings\n",
        "import warnings\n",
        "warnings.filterwarnings(\"ignore\")\n",
        "\n",
        "plt.ion()   # interactive mode"
      ],
      "execution_count": null,
      "outputs": []
    },
    {
      "cell_type": "code",
      "metadata": {
        "id": "LuYdLo52jBY8",
        "colab": {
          "base_uri": "https://localhost:8080/"
        },
        "outputId": "deb84b0c-33f1-45cc-aeee-df63f8db49d9"
      },
      "source": [
        "# decide whether to compute using GPU\n",
        "\n",
        "device= torch.device(\"cuda\")\n",
        "#device= torch.device(\"cpu\")\n",
        "print(device)"
      ],
      "execution_count": null,
      "outputs": [
        {
          "output_type": "stream",
          "name": "stdout",
          "text": [
            "cuda\n"
          ]
        }
      ]
    },
    {
      "cell_type": "code",
      "metadata": {
        "id": "RVtGHwNQc8_Z",
        "colab": {
          "base_uri": "https://localhost:8080/"
        },
        "outputId": "a0f83c01-60c6-41e4-cce4-4a2dc12fb8b2"
      },
      "source": [
        "fold_0 = pd.read_csv('/content/drive/MyDrive/MSAI CV/MSAI CV Project/Data/fold_0_data.txt',sep='\\t')\n",
        "fold_1 = pd.read_csv('/content/drive/MyDrive/MSAI CV/MSAI CV Project/Data/fold_1_data.txt',sep='\\t')\n",
        "fold_2 = pd.read_csv('/content/drive/MyDrive/MSAI CV/MSAI CV Project/Data/fold_2_data.txt',sep='\\t')\n",
        "fold_3 = pd.read_csv('/content/drive/MyDrive/MSAI CV/MSAI CV Project/Data/fold_3_data.txt',sep='\\t')\n",
        "fold_4 = pd.read_csv('/content/drive/MyDrive/MSAI CV/MSAI CV Project/Data/fold_4_data.txt',sep='\\t')\n",
        "fold_combined = pd.concat([fold_0,fold_1,fold_2,fold_3,fold_4],ignore_index=True)\n",
        "print(f'Number of rows: {len(fold_combined)}')\n",
        "fold_combined.info()"
      ],
      "execution_count": null,
      "outputs": [
        {
          "output_type": "stream",
          "name": "stdout",
          "text": [
            "Number of rows: 19370\n",
            "<class 'pandas.core.frame.DataFrame'>\n",
            "RangeIndex: 19370 entries, 0 to 19369\n",
            "Data columns (total 12 columns):\n",
            " #   Column              Non-Null Count  Dtype \n",
            "---  ------              --------------  ----- \n",
            " 0   user_id             19370 non-null  object\n",
            " 1   original_image      19370 non-null  object\n",
            " 2   face_id             19370 non-null  int64 \n",
            " 3   age                 19370 non-null  object\n",
            " 4   gender              18591 non-null  object\n",
            " 5   x                   19370 non-null  int64 \n",
            " 6   y                   19370 non-null  int64 \n",
            " 7   dx                  19370 non-null  int64 \n",
            " 8   dy                  19370 non-null  int64 \n",
            " 9   tilt_ang            19370 non-null  int64 \n",
            " 10  fiducial_yaw_angle  19370 non-null  int64 \n",
            " 11  fiducial_score      19370 non-null  int64 \n",
            "dtypes: int64(8), object(4)\n",
            "memory usage: 1.8+ MB\n"
          ]
        }
      ]
    },
    {
      "cell_type": "code",
      "metadata": {
        "id": "3Qvtze9Bc8_c",
        "colab": {
          "base_uri": "https://localhost:8080/",
          "height": 206
        },
        "outputId": "aaf779ef-df80-4fd1-dbf5-4f3c0fd57206"
      },
      "source": [
        "fold_combined.head()"
      ],
      "execution_count": null,
      "outputs": [
        {
          "output_type": "execute_result",
          "data": {
            "text/html": [
              "<div>\n",
              "<style scoped>\n",
              "    .dataframe tbody tr th:only-of-type {\n",
              "        vertical-align: middle;\n",
              "    }\n",
              "\n",
              "    .dataframe tbody tr th {\n",
              "        vertical-align: top;\n",
              "    }\n",
              "\n",
              "    .dataframe thead th {\n",
              "        text-align: right;\n",
              "    }\n",
              "</style>\n",
              "<table border=\"1\" class=\"dataframe\">\n",
              "  <thead>\n",
              "    <tr style=\"text-align: right;\">\n",
              "      <th></th>\n",
              "      <th>user_id</th>\n",
              "      <th>original_image</th>\n",
              "      <th>face_id</th>\n",
              "      <th>age</th>\n",
              "      <th>gender</th>\n",
              "      <th>x</th>\n",
              "      <th>y</th>\n",
              "      <th>dx</th>\n",
              "      <th>dy</th>\n",
              "      <th>tilt_ang</th>\n",
              "      <th>fiducial_yaw_angle</th>\n",
              "      <th>fiducial_score</th>\n",
              "    </tr>\n",
              "  </thead>\n",
              "  <tbody>\n",
              "    <tr>\n",
              "      <th>0</th>\n",
              "      <td>30601258@N03</td>\n",
              "      <td>10399646885_67c7d20df9_o.jpg</td>\n",
              "      <td>1</td>\n",
              "      <td>(25, 32)</td>\n",
              "      <td>f</td>\n",
              "      <td>0</td>\n",
              "      <td>414</td>\n",
              "      <td>1086</td>\n",
              "      <td>1383</td>\n",
              "      <td>-115</td>\n",
              "      <td>30</td>\n",
              "      <td>17</td>\n",
              "    </tr>\n",
              "    <tr>\n",
              "      <th>1</th>\n",
              "      <td>30601258@N03</td>\n",
              "      <td>10424815813_e94629b1ec_o.jpg</td>\n",
              "      <td>2</td>\n",
              "      <td>(25, 32)</td>\n",
              "      <td>m</td>\n",
              "      <td>301</td>\n",
              "      <td>105</td>\n",
              "      <td>640</td>\n",
              "      <td>641</td>\n",
              "      <td>0</td>\n",
              "      <td>0</td>\n",
              "      <td>94</td>\n",
              "    </tr>\n",
              "    <tr>\n",
              "      <th>2</th>\n",
              "      <td>30601258@N03</td>\n",
              "      <td>10437979845_5985be4b26_o.jpg</td>\n",
              "      <td>1</td>\n",
              "      <td>(25, 32)</td>\n",
              "      <td>f</td>\n",
              "      <td>2395</td>\n",
              "      <td>876</td>\n",
              "      <td>771</td>\n",
              "      <td>771</td>\n",
              "      <td>175</td>\n",
              "      <td>-30</td>\n",
              "      <td>74</td>\n",
              "    </tr>\n",
              "    <tr>\n",
              "      <th>3</th>\n",
              "      <td>30601258@N03</td>\n",
              "      <td>10437979845_5985be4b26_o.jpg</td>\n",
              "      <td>3</td>\n",
              "      <td>(25, 32)</td>\n",
              "      <td>m</td>\n",
              "      <td>752</td>\n",
              "      <td>1255</td>\n",
              "      <td>484</td>\n",
              "      <td>485</td>\n",
              "      <td>180</td>\n",
              "      <td>0</td>\n",
              "      <td>47</td>\n",
              "    </tr>\n",
              "    <tr>\n",
              "      <th>4</th>\n",
              "      <td>30601258@N03</td>\n",
              "      <td>11816644924_075c3d8d59_o.jpg</td>\n",
              "      <td>2</td>\n",
              "      <td>(25, 32)</td>\n",
              "      <td>m</td>\n",
              "      <td>175</td>\n",
              "      <td>80</td>\n",
              "      <td>769</td>\n",
              "      <td>768</td>\n",
              "      <td>-75</td>\n",
              "      <td>0</td>\n",
              "      <td>34</td>\n",
              "    </tr>\n",
              "  </tbody>\n",
              "</table>\n",
              "</div>"
            ],
            "text/plain": [
              "        user_id  ... fiducial_score\n",
              "0  30601258@N03  ...             17\n",
              "1  30601258@N03  ...             94\n",
              "2  30601258@N03  ...             74\n",
              "3  30601258@N03  ...             47\n",
              "4  30601258@N03  ...             34\n",
              "\n",
              "[5 rows x 12 columns]"
            ]
          },
          "metadata": {},
          "execution_count": 6
        }
      ]
    },
    {
      "cell_type": "code",
      "metadata": {
        "id": "VQ9kUgs6c8_e",
        "colab": {
          "base_uri": "https://localhost:8080/",
          "height": 335
        },
        "outputId": "9b2b47e7-4c23-4a44-d5a6-35fd6a8d6732"
      },
      "source": [
        "# age break down\n",
        "print(fold_combined.age.unique())\n",
        "fold_combined.age.value_counts().plot.pie()"
      ],
      "execution_count": null,
      "outputs": [
        {
          "output_type": "stream",
          "name": "stdout",
          "text": [
            "['(25, 32)' '(38, 43)' '(4, 6)' '(60, 100)' '(15, 20)' '(48, 53)'\n",
            " '(8, 12)' '(0, 2)' 'None' '(38, 48)' '35' '3' '55' '58' '22' '13' '45'\n",
            " '36' '23' '(38, 42)' '(8, 23)' '(27, 32)' '57' '56' '2' '29' '34' '42'\n",
            " '46' '32']\n"
          ]
        },
        {
          "output_type": "execute_result",
          "data": {
            "text/plain": [
              "<matplotlib.axes._subplots.AxesSubplot at 0x7f9305dbb450>"
            ]
          },
          "metadata": {},
          "execution_count": 7
        },
        {
          "output_type": "display_data",
          "data": {
            "image/png": "[encoded data removed]",
            "text/plain": [
              "<Figure size 432x288 with 1 Axes>"
            ]
          },
          "metadata": {}
        }
      ]
    },
    {
      "cell_type": "code",
      "metadata": {
        "id": "kd9yrigfc8_e",
        "colab": {
          "base_uri": "https://localhost:8080/",
          "height": 296
        },
        "outputId": "74cd34fc-3b50-4e5e-be76-a093e4af09a7"
      },
      "source": [
        "# gender break down\n",
        "fold_combined.groupby(['gender'])['gender'].count().plot.bar()"
      ],
      "execution_count": null,
      "outputs": [
        {
          "output_type": "execute_result",
          "data": {
            "text/plain": [
              "<matplotlib.axes._subplots.AxesSubplot at 0x7f9303819b10>"
            ]
          },
          "metadata": {},
          "execution_count": 8
        },
        {
          "output_type": "display_data",
          "data": {
            "image/png": "[encoded data removed]",
            "text/plain": [
              "<Figure size 432x288 with 1 Axes>"
            ]
          },
          "metadata": {
            "needs_background": "light"
          }
        }
      ]
    },
    {
      "cell_type": "code",
      "metadata": {
        "id": "8cGs3rgUc8_f",
        "colab": {
          "base_uri": "https://localhost:8080/"
        },
        "outputId": "0d143b72-f9e8-4804-a399-997df58476d3"
      },
      "source": [
        "# new column to record the file path\n",
        "fold_combined['image_path'] = '/content/drive/MyDrive/MSAI CV/MSAI CV Project/Data/faces/' + fold_combined['user_id'] + '/coarse_tilt_aligned_face.' + fold_combined['face_id'].astype('str') + '.' + fold_combined['original_image']\n",
        "fold_combined['image_path']"
      ],
      "execution_count": null,
      "outputs": [
        {
          "output_type": "execute_result",
          "data": {
            "text/plain": [
              "0        /content/drive/MyDrive/MSAI CV/MSAI CV Project...\n",
              "1        /content/drive/MyDrive/MSAI CV/MSAI CV Project...\n",
              "2        /content/drive/MyDrive/MSAI CV/MSAI CV Project...\n",
              "3        /content/drive/MyDrive/MSAI CV/MSAI CV Project...\n",
              "4        /content/drive/MyDrive/MSAI CV/MSAI CV Project...\n",
              "                               ...                        \n",
              "19365    /content/drive/MyDrive/MSAI CV/MSAI CV Project...\n",
              "19366    /content/drive/MyDrive/MSAI CV/MSAI CV Project...\n",
              "19367    /content/drive/MyDrive/MSAI CV/MSAI CV Project...\n",
              "19368    /content/drive/MyDrive/MSAI CV/MSAI CV Project...\n",
              "19369    /content/drive/MyDrive/MSAI CV/MSAI CV Project...\n",
              "Name: image_path, Length: 19370, dtype: object"
            ]
          },
          "metadata": {},
          "execution_count": 9
        }
      ]
    },
    {
      "cell_type": "code",
      "metadata": {
        "colab": {
          "base_uri": "https://localhost:8080/"
        },
        "id": "beu5-Uwv3HtV",
        "outputId": "975b5950-a764-43cd-dc9d-609cb565add8"
      },
      "source": [
        "# new column to record the landmarks file\n",
        "fold_combined['landmarks_path'] = '/content/drive/MyDrive/MSAI CV/MSAI CV Project/Data/faces/' + fold_combined['user_id'] + '/landmarks.' + fold_combined['face_id'].astype('str') + '.' + fold_combined['original_image'].apply(lambda x: x[:len(x)-3]) + 'txt'\n",
        "fold_combined['landmarks_path']"
      ],
      "execution_count": null,
      "outputs": [
        {
          "output_type": "execute_result",
          "data": {
            "text/plain": [
              "0        /content/drive/MyDrive/MSAI CV/MSAI CV Project...\n",
              "1        /content/drive/MyDrive/MSAI CV/MSAI CV Project...\n",
              "2        /content/drive/MyDrive/MSAI CV/MSAI CV Project...\n",
              "3        /content/drive/MyDrive/MSAI CV/MSAI CV Project...\n",
              "4        /content/drive/MyDrive/MSAI CV/MSAI CV Project...\n",
              "                               ...                        \n",
              "19365    /content/drive/MyDrive/MSAI CV/MSAI CV Project...\n",
              "19366    /content/drive/MyDrive/MSAI CV/MSAI CV Project...\n",
              "19367    /content/drive/MyDrive/MSAI CV/MSAI CV Project...\n",
              "19368    /content/drive/MyDrive/MSAI CV/MSAI CV Project...\n",
              "19369    /content/drive/MyDrive/MSAI CV/MSAI CV Project...\n",
              "Name: landmarks_path, Length: 19370, dtype: object"
            ]
          },
          "metadata": {},
          "execution_count": 10
        }
      ]
    },
    {
      "cell_type": "code",
      "metadata": {
        "id": "Wq3TAINjc8_g",
        "colab": {
          "base_uri": "https://localhost:8080/"
        },
        "outputId": "4cac6070-c18d-4343-b1be-fe8e857fbc31"
      },
      "source": [
        "# filtered of unlabelled data\n",
        "print(len(fold_combined))\n",
        "fold_combined = fold_combined[fold_combined['age'] != 'None']\n",
        "fold_combined = fold_combined[fold_combined['gender'] != 'u']\n",
        "fold_combined = fold_combined[fold_combined['gender'].notna()]\n",
        "print(len(fold_combined))"
      ],
      "execution_count": null,
      "outputs": [
        {
          "output_type": "stream",
          "name": "stdout",
          "text": [
            "19370\n",
            "17452\n"
          ]
        }
      ]
    },
    {
      "cell_type": "code",
      "metadata": {
        "id": "QWGCNOSJc8_g",
        "colab": {
          "base_uri": "https://localhost:8080/"
        },
        "outputId": "117ece40-1a19-4567-8bf6-d439903db225"
      },
      "source": [
        "# formulating age class\n",
        "with open('/content/drive/MyDrive/MSAI CV/MSAI CV Project/Data/age_class.json') as f:\n",
        "    age_class = json.load(f)\n",
        "\n",
        "fold_combined['age'] = fold_combined['age'].apply(lambda x: age_class[x])\n",
        "fold_combined.age.value_counts()"
      ],
      "execution_count": null,
      "outputs": [
        {
          "output_type": "execute_result",
          "data": {
            "text/plain": [
              "25-36    5493\n",
              "38-47    2435\n",
              "8-14     2286\n",
              "4-6      2139\n",
              "15-24    1885\n",
              "0-3      1418\n",
              "48-59     930\n",
              "60+       866\n",
              "Name: age, dtype: int64"
            ]
          },
          "metadata": {},
          "execution_count": 12
        }
      ]
    },
    {
      "cell_type": "code",
      "metadata": {
        "id": "IS_yaTDrc8_h",
        "colab": {
          "base_uri": "https://localhost:8080/"
        },
        "outputId": "46013132-f9bb-4fe0-ca63-444b0f44bb62"
      },
      "source": [
        "# convert class to int\n",
        "def labelling_age(age_range):\n",
        "    if age_range == '0-3':\n",
        "        return 0\n",
        "    elif age_range == '4-6':\n",
        "        return 1\n",
        "    elif age_range == '8-14':\n",
        "        return 2\n",
        "    elif age_range == '15-24':\n",
        "        return 3\n",
        "    elif age_range == '25-36':\n",
        "        return 4\n",
        "    elif age_range == '38-47':\n",
        "        return 5\n",
        "    elif age_range == '48-59':\n",
        "        return 6\n",
        "    elif age_range == '60+':\n",
        "        return 7\n",
        "\n",
        "\n",
        "fold_combined['label_age'] = fold_combined['age'].apply(labelling_age)\n",
        "fold_combined.label_age.value_counts()"
      ],
      "execution_count": null,
      "outputs": [
        {
          "output_type": "execute_result",
          "data": {
            "text/plain": [
              "4    5493\n",
              "5    2435\n",
              "2    2286\n",
              "1    2139\n",
              "3    1885\n",
              "0    1418\n",
              "6     930\n",
              "7     866\n",
              "Name: label_age, dtype: int64"
            ]
          },
          "metadata": {},
          "execution_count": 13
        }
      ]
    },
    {
      "cell_type": "code",
      "metadata": {
        "id": "BRCxImEXc8_j",
        "colab": {
          "base_uri": "https://localhost:8080/"
        },
        "outputId": "297477d2-4579-42e9-d352-1eefdedf41cb"
      },
      "source": [
        "# gender class\n",
        "fold_combined.gender.value_counts()"
      ],
      "execution_count": null,
      "outputs": [
        {
          "output_type": "execute_result",
          "data": {
            "text/plain": [
              "f    9332\n",
              "m    8120\n",
              "Name: gender, dtype: int64"
            ]
          },
          "metadata": {},
          "execution_count": 14
        }
      ]
    },
    {
      "cell_type": "code",
      "metadata": {
        "id": "Px3yGt_Oc8_j",
        "colab": {
          "base_uri": "https://localhost:8080/"
        },
        "outputId": "7f99ac11-6feb-4c33-ef07-80b0c742b357"
      },
      "source": [
        "# convert class to int\n",
        "def labelling_gender(gender_range):\n",
        "    if gender_range == 'm':\n",
        "        result = 0\n",
        "    elif gender_range == 'f':\n",
        "        result = 1\n",
        "    else:\n",
        "        print(gender_range)\n",
        "    return result\n",
        "\n",
        "fold_combined['label_gender'] = fold_combined['gender'].apply(labelling_gender)\n",
        "fold_combined.label_gender.value_counts()"
      ],
      "execution_count": null,
      "outputs": [
        {
          "output_type": "execute_result",
          "data": {
            "text/plain": [
              "1    9332\n",
              "0    8120\n",
              "Name: label_gender, dtype: int64"
            ]
          },
          "metadata": {},
          "execution_count": 15
        }
      ]
    },
    {
      "cell_type": "code",
      "metadata": {
        "id": "WnOuMqB-c8_k",
        "colab": {
          "base_uri": "https://localhost:8080/",
          "height": 771
        },
        "outputId": "36f3a383-7044-45e9-bba3-340e027e509c"
      },
      "source": [
        "fold_combined"
      ],
      "execution_count": null,
      "outputs": [
        {
          "output_type": "execute_result",
          "data": {
            "text/html": [
              "<div>\n",
              "<style scoped>\n",
              "    .dataframe tbody tr th:only-of-type {\n",
              "        vertical-align: middle;\n",
              "    }\n",
              "\n",
              "    .dataframe tbody tr th {\n",
              "        vertical-align: top;\n",
              "    }\n",
              "\n",
              "    .dataframe thead th {\n",
              "        text-align: right;\n",
              "    }\n",
              "</style>\n",
              "<table border=\"1\" class=\"dataframe\">\n",
              "  <thead>\n",
              "    <tr style=\"text-align: right;\">\n",
              "      <th></th>\n",
              "      <th>user_id</th>\n",
              "      <th>original_image</th>\n",
              "      <th>face_id</th>\n",
              "      <th>age</th>\n",
              "      <th>gender</th>\n",
              "      <th>x</th>\n",
              "      <th>y</th>\n",
              "      <th>dx</th>\n",
              "      <th>dy</th>\n",
              "      <th>tilt_ang</th>\n",
              "      <th>fiducial_yaw_angle</th>\n",
              "      <th>fiducial_score</th>\n",
              "      <th>image_path</th>\n",
              "      <th>landmarks_path</th>\n",
              "      <th>label_age</th>\n",
              "      <th>label_gender</th>\n",
              "    </tr>\n",
              "  </thead>\n",
              "  <tbody>\n",
              "    <tr>\n",
              "      <th>0</th>\n",
              "      <td>30601258@N03</td>\n",
              "      <td>10399646885_67c7d20df9_o.jpg</td>\n",
              "      <td>1</td>\n",
              "      <td>25-36</td>\n",
              "      <td>f</td>\n",
              "      <td>0</td>\n",
              "      <td>414</td>\n",
              "      <td>1086</td>\n",
              "      <td>1383</td>\n",
              "      <td>-115</td>\n",
              "      <td>30</td>\n",
              "      <td>17</td>\n",
              "      <td>/content/drive/MyDrive/MSAI CV/MSAI CV Project...</td>\n",
              "      <td>/content/drive/MyDrive/MSAI CV/MSAI CV Project...</td>\n",
              "      <td>4</td>\n",
              "      <td>1</td>\n",
              "    </tr>\n",
              "    <tr>\n",
              "      <th>1</th>\n",
              "      <td>30601258@N03</td>\n",
              "      <td>10424815813_e94629b1ec_o.jpg</td>\n",
              "      <td>2</td>\n",
              "      <td>25-36</td>\n",
              "      <td>m</td>\n",
              "      <td>301</td>\n",
              "      <td>105</td>\n",
              "      <td>640</td>\n",
              "      <td>641</td>\n",
              "      <td>0</td>\n",
              "      <td>0</td>\n",
              "      <td>94</td>\n",
              "      <td>/content/drive/MyDrive/MSAI CV/MSAI CV Project...</td>\n",
              "      <td>/content/drive/MyDrive/MSAI CV/MSAI CV Project...</td>\n",
              "      <td>4</td>\n",
              "      <td>0</td>\n",
              "    </tr>\n",
              "    <tr>\n",
              "      <th>2</th>\n",
              "      <td>30601258@N03</td>\n",
              "      <td>10437979845_5985be4b26_o.jpg</td>\n",
              "      <td>1</td>\n",
              "      <td>25-36</td>\n",
              "      <td>f</td>\n",
              "      <td>2395</td>\n",
              "      <td>876</td>\n",
              "      <td>771</td>\n",
              "      <td>771</td>\n",
              "      <td>175</td>\n",
              "      <td>-30</td>\n",
              "      <td>74</td>\n",
              "      <td>/content/drive/MyDrive/MSAI CV/MSAI CV Project...</td>\n",
              "      <td>/content/drive/MyDrive/MSAI CV/MSAI CV Project...</td>\n",
              "      <td>4</td>\n",
              "      <td>1</td>\n",
              "    </tr>\n",
              "    <tr>\n",
              "      <th>3</th>\n",
              "      <td>30601258@N03</td>\n",
              "      <td>10437979845_5985be4b26_o.jpg</td>\n",
              "      <td>3</td>\n",
              "      <td>25-36</td>\n",
              "      <td>m</td>\n",
              "      <td>752</td>\n",
              "      <td>1255</td>\n",
              "      <td>484</td>\n",
              "      <td>485</td>\n",
              "      <td>180</td>\n",
              "      <td>0</td>\n",
              "      <td>47</td>\n",
              "      <td>/content/drive/MyDrive/MSAI CV/MSAI CV Project...</td>\n",
              "      <td>/content/drive/MyDrive/MSAI CV/MSAI CV Project...</td>\n",
              "      <td>4</td>\n",
              "      <td>0</td>\n",
              "    </tr>\n",
              "    <tr>\n",
              "      <th>4</th>\n",
              "      <td>30601258@N03</td>\n",
              "      <td>11816644924_075c3d8d59_o.jpg</td>\n",
              "      <td>2</td>\n",
              "      <td>25-36</td>\n",
              "      <td>m</td>\n",
              "      <td>175</td>\n",
              "      <td>80</td>\n",
              "      <td>769</td>\n",
              "      <td>768</td>\n",
              "      <td>-75</td>\n",
              "      <td>0</td>\n",
              "      <td>34</td>\n",
              "      <td>/content/drive/MyDrive/MSAI CV/MSAI CV Project...</td>\n",
              "      <td>/content/drive/MyDrive/MSAI CV/MSAI CV Project...</td>\n",
              "      <td>4</td>\n",
              "      <td>0</td>\n",
              "    </tr>\n",
              "    <tr>\n",
              "      <th>...</th>\n",
              "      <td>...</td>\n",
              "      <td>...</td>\n",
              "      <td>...</td>\n",
              "      <td>...</td>\n",
              "      <td>...</td>\n",
              "      <td>...</td>\n",
              "      <td>...</td>\n",
              "      <td>...</td>\n",
              "      <td>...</td>\n",
              "      <td>...</td>\n",
              "      <td>...</td>\n",
              "      <td>...</td>\n",
              "      <td>...</td>\n",
              "      <td>...</td>\n",
              "      <td>...</td>\n",
              "      <td>...</td>\n",
              "    </tr>\n",
              "    <tr>\n",
              "      <th>19341</th>\n",
              "      <td>101515718@N03</td>\n",
              "      <td>10587826073_6663f5b654_o.jpg</td>\n",
              "      <td>2280</td>\n",
              "      <td>25-36</td>\n",
              "      <td>f</td>\n",
              "      <td>718</td>\n",
              "      <td>748</td>\n",
              "      <td>492</td>\n",
              "      <td>492</td>\n",
              "      <td>0</td>\n",
              "      <td>0</td>\n",
              "      <td>63</td>\n",
              "      <td>/content/drive/MyDrive/MSAI CV/MSAI CV Project...</td>\n",
              "      <td>/content/drive/MyDrive/MSAI CV/MSAI CV Project...</td>\n",
              "      <td>4</td>\n",
              "      <td>1</td>\n",
              "    </tr>\n",
              "    <tr>\n",
              "      <th>19342</th>\n",
              "      <td>101515718@N03</td>\n",
              "      <td>10587571495_a61785cd06_o.jpg</td>\n",
              "      <td>2278</td>\n",
              "      <td>25-36</td>\n",
              "      <td>m</td>\n",
              "      <td>48</td>\n",
              "      <td>472</td>\n",
              "      <td>768</td>\n",
              "      <td>768</td>\n",
              "      <td>-15</td>\n",
              "      <td>0</td>\n",
              "      <td>25</td>\n",
              "      <td>/content/drive/MyDrive/MSAI CV/MSAI CV Project...</td>\n",
              "      <td>/content/drive/MyDrive/MSAI CV/MSAI CV Project...</td>\n",
              "      <td>4</td>\n",
              "      <td>0</td>\n",
              "    </tr>\n",
              "    <tr>\n",
              "      <th>19343</th>\n",
              "      <td>101515718@N03</td>\n",
              "      <td>10587571495_a61785cd06_o.jpg</td>\n",
              "      <td>2279</td>\n",
              "      <td>25-36</td>\n",
              "      <td>f</td>\n",
              "      <td>950</td>\n",
              "      <td>0</td>\n",
              "      <td>692</td>\n",
              "      <td>687</td>\n",
              "      <td>-5</td>\n",
              "      <td>0</td>\n",
              "      <td>27</td>\n",
              "      <td>/content/drive/MyDrive/MSAI CV/MSAI CV Project...</td>\n",
              "      <td>/content/drive/MyDrive/MSAI CV/MSAI CV Project...</td>\n",
              "      <td>4</td>\n",
              "      <td>1</td>\n",
              "    </tr>\n",
              "    <tr>\n",
              "      <th>19344</th>\n",
              "      <td>50458575@N08</td>\n",
              "      <td>9426695459_9e8b347604_o.jpg</td>\n",
              "      <td>2281</td>\n",
              "      <td>25-36</td>\n",
              "      <td>f</td>\n",
              "      <td>831</td>\n",
              "      <td>895</td>\n",
              "      <td>899</td>\n",
              "      <td>899</td>\n",
              "      <td>0</td>\n",
              "      <td>15</td>\n",
              "      <td>59</td>\n",
              "      <td>/content/drive/MyDrive/MSAI CV/MSAI CV Project...</td>\n",
              "      <td>/content/drive/MyDrive/MSAI CV/MSAI CV Project...</td>\n",
              "      <td>4</td>\n",
              "      <td>1</td>\n",
              "    </tr>\n",
              "    <tr>\n",
              "      <th>19345</th>\n",
              "      <td>50458575@N08</td>\n",
              "      <td>9429464468_1bfc39ecfb_o.jpg</td>\n",
              "      <td>2281</td>\n",
              "      <td>25-36</td>\n",
              "      <td>f</td>\n",
              "      <td>653</td>\n",
              "      <td>1023</td>\n",
              "      <td>555</td>\n",
              "      <td>554</td>\n",
              "      <td>5</td>\n",
              "      <td>30</td>\n",
              "      <td>70</td>\n",
              "      <td>/content/drive/MyDrive/MSAI CV/MSAI CV Project...</td>\n",
              "      <td>/content/drive/MyDrive/MSAI CV/MSAI CV Project...</td>\n",
              "      <td>4</td>\n",
              "      <td>1</td>\n",
              "    </tr>\n",
              "  </tbody>\n",
              "</table>\n",
              "<p>17452 rows × 16 columns</p>\n",
              "</div>"
            ],
            "text/plain": [
              "             user_id                original_image  ...  label_age label_gender\n",
              "0       30601258@N03  10399646885_67c7d20df9_o.jpg  ...          4            1\n",
              "1       30601258@N03  10424815813_e94629b1ec_o.jpg  ...          4            0\n",
              "2       30601258@N03  10437979845_5985be4b26_o.jpg  ...          4            1\n",
              "3       30601258@N03  10437979845_5985be4b26_o.jpg  ...          4            0\n",
              "4       30601258@N03  11816644924_075c3d8d59_o.jpg  ...          4            0\n",
              "...              ...                           ...  ...        ...          ...\n",
              "19341  101515718@N03  10587826073_6663f5b654_o.jpg  ...          4            1\n",
              "19342  101515718@N03  10587571495_a61785cd06_o.jpg  ...          4            0\n",
              "19343  101515718@N03  10587571495_a61785cd06_o.jpg  ...          4            1\n",
              "19344   50458575@N08   9426695459_9e8b347604_o.jpg  ...          4            1\n",
              "19345   50458575@N08   9429464468_1bfc39ecfb_o.jpg  ...          4            1\n",
              "\n",
              "[17452 rows x 16 columns]"
            ]
          },
          "metadata": {},
          "execution_count": 16
        }
      ]
    },
    {
      "cell_type": "code",
      "metadata": {
        "colab": {
          "base_uri": "https://localhost:8080/"
        },
        "id": "F12xjXHoD58g",
        "outputId": "9b026b87-58b9-4e5f-fed4-e89e99407a8e"
      },
      "source": [
        "row_index = 4\n",
        "landmark_eg= pd.read_csv(fold_combined.loc[row_index, 'landmarks_path'])\n",
        "print(landmark_eg)\n",
        "\n",
        "img_eg_path = fold_combined.loc[row_index, 'image_path']\n",
        "landmark_eg = np.asarray(landmark_eg)[1:]\n",
        "landmark_eg = landmark_eg.astype('float').reshape(-1, 2)\n",
        "\n",
        "print(landmark_eg)\n",
        "print('Image name: {}'.format(img_eg_path))\n",
        "print('Landmarks shape: {}'.format(landmark_eg.shape))\n",
        "print('First 4 Landmarks: {}'.format(landmark_eg[:4]))"
      ],
      "execution_count": null,
      "outputs": [
        {
          "output_type": "stream",
          "name": "stdout",
          "text": [
            "                               69       0\n",
            "x      y      dx    dy        x_c     y_c\n",
            "265.31 265.31 65.51 65.51  298.07  298.07\n",
            "251.12 265.31 65.51 65.51  283.87  298.07\n",
            "                    65.51  283.87  298.07\n",
            "278.41 265.31 65.51 65.51  311.17  298.07\n",
            "...                           ...     ...\n",
            "397.42 317.72 65.51 65.51  430.18  350.47\n",
            "410.52 291.52 65.51 65.51  443.28  324.27\n",
            "423.63 265.31 65.51 65.51  456.38  298.07\n",
            "       224.91 65.51 65.51  456.38  257.67\n",
            "       185.61 65.51 65.51  456.38  218.36\n",
            "\n",
            "[69 rows x 2 columns]\n",
            "[[298.07 298.07]\n",
            " [283.87 298.07]\n",
            " [283.87 298.07]\n",
            " [311.17 298.07]\n",
            " [311.17 298.07]\n",
            " [298.07 283.87]\n",
            " [298.07 270.77]\n",
            " [298.07 244.57]\n",
            " [298.07 231.47]\n",
            " [257.67 244.57]\n",
            " [257.67 244.57]\n",
            " [244.57 244.57]\n",
            " [244.57 231.47]\n",
            " [244.57 231.47]\n",
            " [231.47 244.57]\n",
            " [192.16 218.36]\n",
            " [205.26 205.26]\n",
            " [218.36 192.16]\n",
            " [244.57 205.26]\n",
            " [257.67 218.36]\n",
            " [350.47 231.47]\n",
            " [363.58 231.47]\n",
            " [376.68 231.47]\n",
            " [350.47 218.36]\n",
            " [363.58 218.36]\n",
            " [376.68 218.36]\n",
            " [417.07 192.16]\n",
            " [403.97 192.16]\n",
            " [376.68 192.16]\n",
            " [363.58 192.16]\n",
            " [337.37 205.26]\n",
            " [298.07 311.17]\n",
            " [283.87 311.17]\n",
            " [270.77 324.27]\n",
            " [270.77 350.47]\n",
            " [270.77 337.37]\n",
            " [283.87 324.27]\n",
            " [298.07 324.27]\n",
            " [337.37 311.17]\n",
            " [363.58 324.27]\n",
            " [376.68 337.37]\n",
            " [376.68 337.37]\n",
            " [350.47 324.27]\n",
            " [376.68 363.58]\n",
            " [363.58 350.47]\n",
            " [363.58 376.68]\n",
            " [337.37 363.58]\n",
            " [311.17 376.68]\n",
            " [311.17 350.47]\n",
            " [298.07 363.58]\n",
            " [337.37 376.68]\n",
            " [337.37 443.28]\n",
            " [298.07 430.18]\n",
            " [270.77 403.97]\n",
            " [244.57 363.58]\n",
            " [218.36 337.37]\n",
            " [205.26 311.17]\n",
            " [192.16 270.77]\n",
            " [192.16 218.36]\n",
            " [192.16 177.97]\n",
            " [363.58 430.18]\n",
            " [389.78 403.97]\n",
            " [417.07 389.78]\n",
            " [430.18 350.47]\n",
            " [443.28 324.27]\n",
            " [456.38 298.07]\n",
            " [456.38 257.67]\n",
            " [456.38 218.36]]\n",
            "Image name: /content/drive/MyDrive/MSAI CV/MSAI CV Project/Data/faces/30601258@N03/coarse_tilt_aligned_face.2.11816644924_075c3d8d59_o.jpg\n",
            "Landmarks shape: (68, 2)\n",
            "First 4 Landmarks: [[298.07 298.07]\n",
            " [283.87 298.07]\n",
            " [283.87 298.07]\n",
            " [311.17 298.07]]\n"
          ]
        }
      ]
    },
    {
      "cell_type": "code",
      "metadata": {
        "colab": {
          "base_uri": "https://localhost:8080/",
          "height": 269
        },
        "id": "zERrCq5TEJkN",
        "outputId": "aa780d3b-6d75-4874-b02c-cea95954ceba"
      },
      "source": [
        "def show_landmarks(image, landmarks):\n",
        "    \"\"\"Show image with landmarks\"\"\"\n",
        "    plt.imshow(image)\n",
        "    plt.scatter(landmarks[:, 0], landmarks[:, 1], s=10, marker='.', c='r')\n",
        "    plt.pause(0.001)  # pause a bit so that plots are updated\n",
        "\n",
        "plt.figure()\n",
        "show_landmarks(io.imread(img_eg_path),landmark_eg)\n",
        "plt.show()"
      ],
      "execution_count": null,
      "outputs": [
        {
          "output_type": "display_data",
          "data": {
            "image/png": "[encoded data removed]",
            "text/plain": [
              "<Figure size 432x288 with 1 Axes>"
            ]
          },
          "metadata": {
            "needs_background": "light"
          }
        }
      ]
    },
    {
      "cell_type": "code",
      "metadata": {
        "id": "BJYZt9KUuICs"
      },
      "source": [
        "class FaceLandmarksDataset(Dataset):\n",
        "    \"\"\"Face Landmarks dataset.\"\"\"\n",
        "\n",
        "    def __init__(self, csv_file, model, transform=None):\n",
        "        \"\"\"\n",
        "        Args:\n",
        "            csv_file (string): Path to the csv file with annotations.\n",
        "            root_dir (string): Directory with all the images.\n",
        "            transform (callable, optional): Optional transform to be applied\n",
        "                on a sample.\n",
        "        \"\"\"\n",
        "        #self.landmarks_frame = pd.read_csv(csv_file)\n",
        "        self.dataset_df = pd.read_csv(csv_file)\n",
        "        self.model = model\n",
        "        self.transform = transform\n",
        "\n",
        "    def __len__(self):\n",
        "        return len(self.dataset_df)\n",
        "\n",
        "    def __getitem__(self, idx):\n",
        "        if torch.is_tensor(idx):\n",
        "            idx = idx.tolist()\n",
        "\n",
        "        landmark_sample = pd.read_csv(self.dataset_df.loc[idx, 'landmarks_path'])\n",
        "\n",
        "        img_sample_path = self.dataset_df.loc[idx, 'image_path']\n",
        "        landmark_sample = np.asarray(landmark_sample)[1:]\n",
        "        landmark_sample = landmark_sample.astype('float').reshape(-1, 2)\n",
        "\n",
        "        image_sample = io.imread(img_sample_path)\n",
        "        #image_sample = image_sample.astype('float')\n",
        "\n",
        "        if self.model == 'gender':\n",
        "            label = self.dataset_df['label_gender'][idx]\n",
        "        elif self.model == 'age':\n",
        "            label = self.dataset_df['label_age'][idx]\n",
        "        else:\n",
        "            print('Please specify \"gender\" or \"age\".')\n",
        "            label = None\n",
        "\n",
        "        label = np.asarray(label)\n",
        "\n",
        "        #sample = {'image': image_sample, 'landmarks': landmark_sample, 'label': label}\n",
        "        sample = (image_sample, landmark_sample, label)\n",
        "\n",
        "        if self.transform:\n",
        "            sample = self.transform(sample)\n",
        "\n",
        "        return sample"
      ],
      "execution_count": null,
      "outputs": []
    },
    {
      "cell_type": "code",
      "metadata": {
        "id": "1_RIc3_F-PXV"
      },
      "source": [
        "fold_combined.to_csv('/content/drive/MyDrive/MSAI CV/MSAI CV Project/fold_combined.csv')"
      ],
      "execution_count": null,
      "outputs": []
    },
    {
      "cell_type": "code",
      "metadata": {
        "colab": {
          "base_uri": "https://localhost:8080/",
          "height": 612
        },
        "id": "H3G2yZjxl4Rn",
        "outputId": "1786e640-2790-42c0-b0f6-2822138dd70d"
      },
      "source": [
        "face_dataset_trial = FaceLandmarksDataset(csv_file='/content/drive/MyDrive/MSAI CV/MSAI CV Project/fold_combined.csv', model = 'gender')\n",
        "\n",
        "fig = plt.figure()\n",
        "\n",
        "for i in range(len(face_dataset_trial)):\n",
        "    sample = face_dataset_trial[i]\n",
        "\n",
        "    #print(i, sample['image'].shape, sample['landmarks'].shape, sample['label'].shape, sample['label'])\n",
        "    print(i, sample[0].shape, sample[1].shape, sample[2].shape, sample[2])\n",
        "    print(i, sample[0].dtype, sample[1].dtype, sample[2].dtype)\n",
        "\n",
        "    ax = plt.subplot(1, 5, i + 1)\n",
        "    plt.tight_layout()\n",
        "    ax.set_title('Sample #{}'.format(i))\n",
        "    ax.axis('off')\n",
        "    show_landmarks(sample[0], sample[1])\n",
        "\n",
        "    if i == 4:\n",
        "        break"
      ],
      "execution_count": null,
      "outputs": [
        {
          "output_type": "stream",
          "name": "stdout",
          "text": [
            "0 (600, 764, 3) (68, 2) () 1\n",
            "0 uint8 float64 int64\n"
          ]
        },
        {
          "output_type": "display_data",
          "data": {
            "image/png": "[encoded data removed]",
            "text/plain": [
              "<Figure size 432x288 with 1 Axes>"
            ]
          },
          "metadata": {
            "needs_background": "light"
          }
        },
        {
          "output_type": "stream",
          "name": "stdout",
          "text": [
            "1 (601, 600, 3) (68, 2) () 0\n",
            "1 uint8 float64 int64\n"
          ]
        },
        {
          "output_type": "display_data",
          "data": {
            "image/png": "[encoded data removed]",
            "text/plain": [
              "<Figure size 432x288 with 1 Axes>"
            ]
          },
          "metadata": {
            "needs_background": "light"
          }
        },
        {
          "output_type": "stream",
          "name": "stdout",
          "text": [
            "2 (600, 600, 3) (68, 2) () 1\n",
            "2 uint8 float64 int64\n"
          ]
        },
        {
          "output_type": "display_data",
          "data": {
            "image/png": "[encoded data removed]",
            "text/plain": [
              "<Figure size 432x288 with 1 Axes>"
            ]
          },
          "metadata": {
            "needs_background": "light"
          }
        },
        {
          "output_type": "stream",
          "name": "stdout",
          "text": [
            "3 (485, 484, 3) (68, 2) () 0\n",
            "3 uint8 float64 int64\n"
          ]
        },
        {
          "output_type": "display_data",
          "data": {
            "image/png": "[encoded data removed]",
            "text/plain": [
              "<Figure size 432x288 with 1 Axes>"
            ]
          },
          "metadata": {
            "needs_background": "light"
          }
        },
        {
          "output_type": "stream",
          "name": "stdout",
          "text": [
            "4 (601, 600, 3) (68, 2) () 0\n",
            "4 uint8 float64 int64\n"
          ]
        },
        {
          "output_type": "display_data",
          "data": {
            "image/png": "[encoded data removed]",
            "text/plain": [
              "<Figure size 432x288 with 1 Axes>"
            ]
          },
          "metadata": {
            "needs_background": "light"
          }
        }
      ]
    },
    {
      "cell_type": "code",
      "metadata": {
        "id": "HErPlbCI0HKC"
      },
      "source": [
        "class Rescale(object):\n",
        "    \"\"\"Rescale the image in a sample to a given size.\n",
        "\n",
        "    Args:\n",
        "        output_size (tuple or int): Desired output size. If tuple, output is\n",
        "            matched to output_size. If int, smaller of image edges is matched\n",
        "            to output_size keeping aspect ratio the same.\n",
        "    \"\"\"\n",
        "\n",
        "    def __init__(self, output_size):\n",
        "        assert isinstance(output_size, (int, tuple))\n",
        "        self.output_size = output_size\n",
        "\n",
        "    def __call__(self, sample):\n",
        "        #image, landmarks, label = sample['image'], sample['landmarks'], sample['label']\n",
        "        image, landmarks, label = sample[0], sample[1], sample[2]\n",
        "\n",
        "        h, w = image.shape[:2]\n",
        "        #if isinstance(self.output_size, int):\n",
        "            #if h > w:\n",
        "            #    new_h, new_w = self.output_size * h / w, self.output_size\n",
        "            #else:\n",
        "            #    new_h, new_w = self.output_size, self.output_size * w / h\n",
        "        #else:\n",
        "        new_h, new_w = self.output_size, self.output_size \n",
        "\n",
        "        new_h, new_w = int(new_h), int(new_w)\n",
        "\n",
        "        img = transform.resize(image, (new_h, new_w))\n",
        "\n",
        "        # h and w are swapped for landmarks because for images,\n",
        "        # x and y axes are axis 1 and 0 respectively\n",
        "        landmarks = landmarks * [new_w / w, new_h / h]\n",
        "\n",
        "        #return {'image': img, 'landmarks': landmarks, 'label': label}\n",
        "        return (img, landmarks, label)\n",
        "\n",
        "class RandomCrop(object):\n",
        "    \"\"\"Crop randomly the image in a sample.\n",
        "\n",
        "    Args:\n",
        "        output_size (tuple or int): Desired output size. If int, square crop\n",
        "            is made.\n",
        "    \"\"\"\n",
        "\n",
        "    def __init__(self, output_size):\n",
        "        assert isinstance(output_size, (int, tuple))\n",
        "        if isinstance(output_size, int):\n",
        "            self.output_size = (output_size, output_size)\n",
        "        else:\n",
        "            assert len(output_size) == 2\n",
        "            self.output_size = output_size\n",
        "\n",
        "    def __call__(self, sample):\n",
        "        #image, landmarks, label = sample['image'], sample['landmarks'], sample['label']\n",
        "        image, landmarks, label = sample[0], sample[1], sample[2]\n",
        "\n",
        "        h, w = image.shape[:2]\n",
        "        new_h, new_w = self.output_size\n",
        "\n",
        "        top = np.random.randint(0, h - new_h)\n",
        "        left = np.random.randint(0, w - new_w)\n",
        "\n",
        "        image = image[top: top + new_h, left: left + new_w]\n",
        "\n",
        "        landmarks = landmarks - [left, top]\n",
        "\n",
        "        #return {'image': image, 'landmarks': landmarks, 'label': label}\n",
        "        return (image, landmarks, label)\n",
        "\n",
        "class ToTensor(object):\n",
        "    \"\"\"Convert ndarrays in sample to Tensors.\"\"\"\n",
        "\n",
        "    def __call__(self, sample):\n",
        "        #image, landmarks, label = sample['image'], sample['landmarks'], sample['label']\n",
        "        image, landmarks, label = sample[0], sample[1], sample[2]\n",
        "\n",
        "        # swap color axis because\n",
        "        # numpy image: H x W x C\n",
        "        # torch image: C x H x W\n",
        "        image = image.transpose((2, 0, 1))\n",
        "        return (torch.from_numpy(image), torch.from_numpy(landmarks), torch.from_numpy(label))"
      ],
      "execution_count": null,
      "outputs": []
    },
    {
      "cell_type": "code",
      "metadata": {
        "colab": {
          "base_uri": "https://localhost:8080/",
          "height": 499
        },
        "id": "o9gis1Rq4mit",
        "outputId": "ccdf318a-fd01-4600-ff4f-0d6da4512cc0"
      },
      "source": [
        "scale = Rescale(256)\n",
        "crop = RandomCrop(128)\n",
        "composed = transforms.Compose([Rescale(256),\n",
        "                               RandomCrop(224)])\n",
        "\n",
        "# Apply each of the above transforms on sample.\n",
        "fig = plt.figure()\n",
        "sample = face_dataset_trial[0]\n",
        "for i, tsfrm in enumerate([scale, crop, composed]):\n",
        "    transformed_sample = tsfrm(sample)\n",
        "\n",
        "    ax = plt.subplot(1, 3, i + 1)\n",
        "    plt.tight_layout()\n",
        "    ax.set_title(type(tsfrm).__name__)\n",
        "    #show_landmarks(transformed_sample['image'], transformed_sample['landmarks'])\n",
        "    show_landmarks(transformed_sample[0], transformed_sample[1])\n",
        "\n",
        "plt.show()"
      ],
      "execution_count": null,
      "outputs": [
        {
          "output_type": "display_data",
          "data": {
            "image/png": "[encoded data removed]",
            "text/plain": [
              "<Figure size 432x288 with 1 Axes>"
            ]
          },
          "metadata": {
            "needs_background": "light"
          }
        },
        {
          "output_type": "display_data",
          "data": {
            "image/png": "[encoded data removed]",
            "text/plain": [
              "<Figure size 432x288 with 1 Axes>"
            ]
          },
          "metadata": {
            "needs_background": "light"
          }
        },
        {
          "output_type": "display_data",
          "data": {
            "image/png": "[encoded data removed]",
            "text/plain": [
              "<Figure size 432x288 with 1 Axes>"
            ]
          },
          "metadata": {
            "needs_background": "light"
          }
        }
      ]
    },
    {
      "cell_type": "code",
      "metadata": {
        "colab": {
          "base_uri": "https://localhost:8080/"
        },
        "id": "zatcYsML1qRB",
        "outputId": "8e5425a0-4d3c-4d49-bd45-a67bf0c86e94"
      },
      "source": [
        "transformed_dataset = FaceLandmarksDataset(csv_file = '/content/drive/MyDrive/MSAI CV/MSAI CV Project/fold_combined.csv', model = 'gender', transform=transforms.Compose([Rescale(256), ToTensor()]))\n",
        "\n",
        "print(len(transformed_dataset))\n",
        "\n",
        "for i in range(len(transformed_dataset)):\n",
        "    sample = transformed_dataset[i]\n",
        "    #print(i, sample['image'].size(), sample['landmarks'].size(), sample['label'].size())\n",
        "    print(i, sample[0].size(), sample[1].size(), sample[2].size())\n",
        "\n",
        "    if i == 5:\n",
        "        break"
      ],
      "execution_count": null,
      "outputs": [
        {
          "output_type": "stream",
          "name": "stdout",
          "text": [
            "17452\n",
            "0 torch.Size([3, 256, 256]) torch.Size([68, 2]) torch.Size([])\n",
            "1 torch.Size([3, 256, 256]) torch.Size([68, 2]) torch.Size([])\n",
            "2 torch.Size([3, 256, 256]) torch.Size([68, 2]) torch.Size([])\n",
            "3 torch.Size([3, 256, 256]) torch.Size([68, 2]) torch.Size([])\n",
            "4 torch.Size([3, 256, 256]) torch.Size([68, 2]) torch.Size([])\n",
            "5 torch.Size([3, 256, 256]) torch.Size([68, 2]) torch.Size([])\n"
          ]
        }
      ]
    },
    {
      "cell_type": "code",
      "metadata": {
        "id": "i9rP9iEQg5yE"
      },
      "source": [
        "criterion = nn.CrossEntropyLoss()\n",
        "my_lr=0.25 \n",
        "bs= 20"
      ],
      "execution_count": null,
      "outputs": []
    },
    {
      "cell_type": "code",
      "metadata": {
        "colab": {
          "base_uri": "https://localhost:8080/",
          "height": 269
        },
        "id": "FoGPsqtWGQvr",
        "outputId": "2bfb706e-ac94-4e53-86fe-1c62c35c6f7d"
      },
      "source": [
        "\n",
        "train_instances = round(len(transformed_dataset)*0.75)\n",
        "test_instances = len(transformed_dataset) - train_instances\n",
        "\n",
        "train_dataset, test_dataset = torch.utils.data.random_split(transformed_dataset, [train_instances, test_instances], generator=torch.Generator().manual_seed(42))\n",
        "\n",
        "train_dataloader = DataLoader(train_dataset, batch_size=bs, shuffle=True, num_workers=0)\n",
        "print(len(train_dataloader))\n",
        "#print(next(iter(train_dataloader)))\n",
        "\n",
        "train_features, _, train_labels = next(iter(train_dataloader))\n",
        "print(f\"train feature batch shape: {train_features.size()}\")\n",
        "print(f\"train labels batch shape: {train_labels.size()}\")\n",
        "\n",
        "\n",
        "test_dataloader = DataLoader(test_dataset, batch_size=bs, shuffle=True, num_workers=0)\n",
        "print(len(test_dataloader))\n",
        "#print(next(iter(test_dataloader)))\n",
        "\n",
        "test_features, _, test_labels = next(iter(test_dataloader))\n",
        "print(f\"test feature batch shape: {test_features.size()}\")\n",
        "print(f\"test labels batch shape: {test_labels.size()}\")\n",
        "\n",
        "\n",
        "# Helper function to show a batch\n",
        "def show_landmarks_batch(sample_batched):\n",
        "    \"\"\"Show image with landmarks for a batch of samples.\"\"\"\n",
        "    #images_batch, landmarks_batch = sample_batched['image'], sample_batched['landmarks']\n",
        "    images_batch, landmarks_batch = sample_batched[0], sample_batched[1]\n",
        "    batch_size = len(images_batch)\n",
        "    im_size = images_batch.size(2)\n",
        "    grid_border_size = 2\n",
        "\n",
        "    grid = utils.make_grid(images_batch)\n",
        "    plt.imshow(grid.numpy().transpose((1, 2, 0)))\n",
        "\n",
        "    for i in range(batch_size):\n",
        "        plt.scatter(landmarks_batch[i, :, 0].numpy() + i * im_size + (i + 1) * grid_border_size, landmarks_batch[i, :, 1].numpy() + grid_border_size, s=10, marker='.', c='r')\n",
        "\n",
        "        plt.title('Batch from dataloader')\n",
        "\n",
        "\n",
        "for i_batch, sample_batched in enumerate(train_dataloader):\n",
        "    #print(i_batch, sample_batched['image'].size(), sample_batched['landmarks'].size())\n",
        "    print(i_batch, sample_batched[0].size(), sample_batched[1].size(), sample_batched[2].size())\n",
        "\n",
        "    if i_batch == 3:\n",
        "        plt.figure()\n",
        "        show_landmarks_batch(sample_batched)\n",
        "        plt.axis('off')\n",
        "        plt.ioff()\n",
        "        plt.show()\n",
        "        break"
      ],
      "execution_count": null,
      "outputs": [
        {
          "output_type": "stream",
          "name": "stdout",
          "text": [
            "655\n",
            "train feature batch shape: torch.Size([20, 3, 256, 256])\n",
            "train labels batch shape: torch.Size([20])\n",
            "219\n",
            "test feature batch shape: torch.Size([20, 3, 256, 256])\n",
            "test labels batch shape: torch.Size([20])\n",
            "0 torch.Size([20, 3, 256, 256]) torch.Size([20, 68, 2]) torch.Size([20])\n",
            "1 torch.Size([20, 3, 256, 256]) torch.Size([20, 68, 2]) torch.Size([20])\n",
            "2 torch.Size([20, 3, 256, 256]) torch.Size([20, 68, 2]) torch.Size([20])\n",
            "3 torch.Size([20, 3, 256, 256]) torch.Size([20, 68, 2]) torch.Size([20])\n"
          ]
        },
        {
          "output_type": "display_data",
          "data": {
            "image/png": "[encoded data removed]",
            "text/plain": [
              "<Figure size 432x288 with 1 Axes>"
            ]
          },
          "metadata": {
            "needs_background": "light"
          }
        }
      ]
    },
    {
      "cell_type": "markdown",
      "metadata": {
        "id": "O2xpwtXSc8_l"
      },
      "source": [
        "# Gender Model"
      ]
    },
    {
      "cell_type": "code",
      "metadata": {
        "id": "Fpwjpmtwc8_m"
      },
      "source": [
        "#X = fold_combined['filepath']\n",
        "#y = fold_combined['label_gender']"
      ],
      "execution_count": null,
      "outputs": []
    },
    {
      "cell_type": "code",
      "metadata": {
        "id": "yti1CYOkc8_m"
      },
      "source": [
        "#from sklearn.model_selection import train_test_split\n",
        "\n",
        "#X_train, X_test,y_train,y_test = train_test_split(X,y,test_size=0.25,random_state=99)\n",
        "\n",
        "#print(f'train X shape: {len(X_train)}')\n",
        "#print(f'test x shape: {len(X_test)}')\n",
        "#print(f'train y shape: {len(y_train)}')\n",
        "#print(f'test y shape: {len(y_test)}')"
      ],
      "execution_count": null,
      "outputs": []
    },
    {
      "cell_type": "code",
      "metadata": {
        "id": "aSQf1bOSc8_n"
      },
      "source": [
        "#y_train = torch.from_numpy(np.asarray(y_train))\n",
        "#y_train = y_train.type(torch.long)\n",
        "#y_test = torch.from_numpy(np.asarray(y_test))\n",
        "#y_test = y_test.type(torch.long)\n",
        "\n",
        "#print(f'y_train: {y_train.size()}')\n",
        "#print(f'y_test: {y_test.size()}')"
      ],
      "execution_count": null,
      "outputs": []
    },
    {
      "cell_type": "code",
      "metadata": {
        "id": "a9T_nPJPc8_n"
      },
      "source": [
        "#from PIL import Image\n",
        "\n",
        "#def get_image(series):\n",
        "#    results = []\n",
        "#    for row in series:\n",
        "#        image = Image.open(row)\n",
        "#        image = image.resize((256,256))\n",
        "#        results.append(np.asarray(image))\n",
        "#    return results\n",
        "\n",
        "# convert list to array to tensor\n",
        "#X_train_images = torch.from_numpy(np.asarray(get_image(X_train)))\n",
        "#X_train_images = X_train_images.permute(0, 3, 1, 2)\n",
        "#X_train_images = X_train_images.type(torch.float)\n",
        "#print(f'X_train_images: {X_train_images.size()}')\n",
        "\n",
        "#X_test_images = torch.from_numpy(np.asarray(get_image(X_test)))\n",
        "#X_test_images = X_test_images.permute(0, 3, 1, 2)\n",
        "#X_test_images = X_test_images.type(torch.float)\n",
        "#print(f'X_test_images: {X_test_images.size()}')\n"
      ],
      "execution_count": null,
      "outputs": []
    },
    {
      "cell_type": "code",
      "metadata": {
        "id": "d_cImXvAc8_p"
      },
      "source": [
        "class model_gender(nn.Module): # VGG_convnet 19 layers\n",
        "\n",
        "    def __init__(self):\n",
        "        super(model_gender,self).__init__()\n",
        "\n",
        "        # block 1:         3 x 256 x 256 --> 64 x 64 x 64        \n",
        "        self.conv1a = nn.Conv2d(3,   64,  kernel_size=3, padding=1 )\n",
        "        self.conv1b = nn.Conv2d(64,  64,  kernel_size=3, padding=1 )\n",
        "        self.conv1c = nn.Conv2d(64,  64,  kernel_size=3, padding=1 ) # added this layer\n",
        "        self.pool1  = nn.MaxPool2d(4,4)\n",
        "\n",
        "        # block 2:         64 x 64 x 64 --> 128 x 16 x 16\n",
        "        self.conv2a = nn.Conv2d(64,  128, kernel_size=3, padding=1 )\n",
        "        self.conv2b = nn.Conv2d(128, 128, kernel_size=3, padding=1 )\n",
        "        self.conv2c = nn.Conv2d(128, 128, kernel_size=3, padding=1 ) # added this layer\n",
        "        self.pool2  = nn.MaxPool2d(4,4)\n",
        "\n",
        "        # block 3:         128 x 16 x 16 --> 256 x 4 x 4        \n",
        "        self.conv3a = nn.Conv2d(128, 256, kernel_size=3, padding=1 )\n",
        "        self.conv3b = nn.Conv2d(256, 256, kernel_size=3, padding=1 )\n",
        "        self.conv3c = nn.Conv2d(256, 256, kernel_size=3, padding=1 ) # added this layer\n",
        "        self.conv3d = nn.Conv2d(256, 256, kernel_size=3, padding=1 ) # added this layer\n",
        "        self.conv3e = nn.Conv2d(256, 256, kernel_size=3, padding=1 ) # added this layer\n",
        "        self.pool3  = nn.MaxPool2d(4,4)\n",
        "        \n",
        "        #block 4:          256 x 4 x 4 --> 512 x 2 x 2\n",
        "        self.conv4a = nn.Conv2d(256, 512, kernel_size=3, padding=1 )\n",
        "        self.conv4b = nn.Conv2d(512, 512, kernel_size=3, padding=1 ) # added this layer\n",
        "        self.conv4c = nn.Conv2d(512, 512, kernel_size=3, padding=1 ) # added this layer\n",
        "        self.conv4d = nn.Conv2d(512, 512, kernel_size=3, padding=1 ) # added this layer\n",
        "        self.conv4e = nn.Conv2d(512, 512, kernel_size=3, padding=1 ) # added this layer\n",
        "        self.pool4  = nn.MaxPool2d(2,2)\n",
        "\n",
        "        # linear layers:   512 x 2 x 2 --> 2048 --> 4096 --> 4096 --> 10\n",
        "        self.linear1 = nn.Linear(2048, 4096)\n",
        "        self.linear2 = nn.Linear(4096, 4096)\n",
        "        self.linear3 = nn.Linear(4096, 10)\n",
        "        \n",
        "    def forward(self, x):\n",
        "\n",
        "        # block 1:         3 x 32 x 32 --> 64 x 16 x 16\n",
        "        x = self.conv1a(x)\n",
        "        x = torch.relu(x)\n",
        "        x = self.conv1b(x)\n",
        "        x = torch.relu(x)\n",
        "        x = self.conv1c(x) # added this\n",
        "        x = torch.relu(x) # added this\n",
        "        x = self.pool1(x)\n",
        "\n",
        "        # block 2:         64 x 16 x 16 --> 128 x 8 x 8\n",
        "        x = self.conv2a(x)\n",
        "        x = torch.relu(x)\n",
        "        x = self.conv2b(x) \n",
        "        x = torch.relu(x)\n",
        "        x = self.conv2c(x) # added this\n",
        "        x = torch.relu(x) # added this\n",
        "        x = self.pool2(x)\n",
        "\n",
        "        # block 3:         128 x 8 x 8 --> 256 x 4 x 4\n",
        "        x = self.conv3a(x)\n",
        "        x = torch.relu(x)\n",
        "        x = self.conv3b(x)\n",
        "        x = torch.relu(x)\n",
        "        x = self.conv3c(x) # added this\n",
        "        x = torch.relu(x) # added this\n",
        "        x = self.conv3d(x) # added this\n",
        "        x = torch.relu(x) # added this\n",
        "        x = self.conv3e(x) # added this\n",
        "        x = torch.relu(x) # added this\n",
        "        x = self.pool3(x)\n",
        "\n",
        "        #block 4:          256 x 4 x 4 --> 512 x 2 x 2\n",
        "        x = self.conv4a(x)\n",
        "        x = torch.relu(x)\n",
        "        x = self.conv4b(x) # added this\n",
        "        x = torch.relu(x) # added this\n",
        "        x = self.conv4c(x) # added this\n",
        "        x = torch.relu(x) # added this\n",
        "        x = self.conv4d(x) # added this\n",
        "        x = torch.relu(x) # added this\n",
        "        x = self.conv4e(x) # added this\n",
        "        x = torch.relu(x) # added this\n",
        "        x = self.pool4(x)\n",
        "\n",
        "        # linear layers:   512 x 2 x 2 --> 2048 --> 4096 --> 4096 --> 10\n",
        "        x = x.view(-1, 2048)\n",
        "        x = self.linear1(x)\n",
        "        x = F.relu(x)\n",
        "        x = self.linear2(x)\n",
        "        x = F.relu(x)\n",
        "        x = self.linear3(x) \n",
        "        \n",
        "        return x"
      ],
      "execution_count": null,
      "outputs": []
    },
    {
      "cell_type": "code",
      "metadata": {
        "id": "JslGetRZc8_p",
        "colab": {
          "base_uri": "https://localhost:8080/"
        },
        "outputId": "27da51fc-a753-455a-aa41-f64c2a01984e"
      },
      "source": [
        "net_gender = model_gender()\n",
        "print(net_gender)"
      ],
      "execution_count": null,
      "outputs": [
        {
          "output_type": "stream",
          "name": "stdout",
          "text": [
            "model_gender(\n",
            "  (conv1a): Conv2d(3, 64, kernel_size=(3, 3), stride=(1, 1), padding=(1, 1))\n",
            "  (conv1b): Conv2d(64, 64, kernel_size=(3, 3), stride=(1, 1), padding=(1, 1))\n",
            "  (conv1c): Conv2d(64, 64, kernel_size=(3, 3), stride=(1, 1), padding=(1, 1))\n",
            "  (pool1): MaxPool2d(kernel_size=4, stride=4, padding=0, dilation=1, ceil_mode=False)\n",
            "  (conv2a): Conv2d(64, 128, kernel_size=(3, 3), stride=(1, 1), padding=(1, 1))\n",
            "  (conv2b): Conv2d(128, 128, kernel_size=(3, 3), stride=(1, 1), padding=(1, 1))\n",
            "  (conv2c): Conv2d(128, 128, kernel_size=(3, 3), stride=(1, 1), padding=(1, 1))\n",
            "  (pool2): MaxPool2d(kernel_size=4, stride=4, padding=0, dilation=1, ceil_mode=False)\n",
            "  (conv3a): Conv2d(128, 256, kernel_size=(3, 3), stride=(1, 1), padding=(1, 1))\n",
            "  (conv3b): Conv2d(256, 256, kernel_size=(3, 3), stride=(1, 1), padding=(1, 1))\n",
            "  (conv3c): Conv2d(256, 256, kernel_size=(3, 3), stride=(1, 1), padding=(1, 1))\n",
            "  (conv3d): Conv2d(256, 256, kernel_size=(3, 3), stride=(1, 1), padding=(1, 1))\n",
            "  (conv3e): Conv2d(256, 256, kernel_size=(3, 3), stride=(1, 1), padding=(1, 1))\n",
            "  (pool3): MaxPool2d(kernel_size=4, stride=4, padding=0, dilation=1, ceil_mode=False)\n",
            "  (conv4a): Conv2d(256, 512, kernel_size=(3, 3), stride=(1, 1), padding=(1, 1))\n",
            "  (conv4b): Conv2d(512, 512, kernel_size=(3, 3), stride=(1, 1), padding=(1, 1))\n",
            "  (conv4c): Conv2d(512, 512, kernel_size=(3, 3), stride=(1, 1), padding=(1, 1))\n",
            "  (conv4d): Conv2d(512, 512, kernel_size=(3, 3), stride=(1, 1), padding=(1, 1))\n",
            "  (conv4e): Conv2d(512, 512, kernel_size=(3, 3), stride=(1, 1), padding=(1, 1))\n",
            "  (pool4): MaxPool2d(kernel_size=2, stride=2, padding=0, dilation=1, ceil_mode=False)\n",
            "  (linear1): Linear(in_features=2048, out_features=4096, bias=True)\n",
            "  (linear2): Linear(in_features=4096, out_features=4096, bias=True)\n",
            "  (linear3): Linear(in_features=4096, out_features=10, bias=True)\n",
            ")\n"
          ]
        }
      ]
    },
    {
      "cell_type": "code",
      "metadata": {
        "id": "VILStut8jQsc"
      },
      "source": [
        "# send net_gender to device\n",
        "net_gender = net_gender.to(device)"
      ],
      "execution_count": null,
      "outputs": []
    },
    {
      "cell_type": "code",
      "metadata": {
        "id": "RvcS6-Csc8_q"
      },
      "source": [
        "#mean = X_train_images.mean()\n",
        "#print(mean)\n",
        "#std = X_train_images.std()\n",
        "#print(std)"
      ],
      "execution_count": null,
      "outputs": []
    },
    {
      "cell_type": "code",
      "metadata": {
        "id": "o_DspiLWc8_q"
      },
      "source": [
        "def get_error( scores , labels ):\n",
        "\n",
        "    bs=scores.size(0)\n",
        "    predicted_labels = scores.argmax(dim=1)\n",
        "    indicator = (predicted_labels == labels)\n",
        "    num_matches=indicator.sum()\n",
        "    \n",
        "    return 1-num_matches.float()/bs    "
      ],
      "execution_count": null,
      "outputs": []
    },
    {
      "cell_type": "code",
      "metadata": {
        "id": "1mGyxoOuc8_q"
      },
      "source": [
        "def eval_on_test_set():\n",
        "\n",
        "    running_error=0\n",
        "    num_batches=0\n",
        "\n",
        "    for i in range(0,len(test_dataloader),bs):\n",
        "\n",
        "        #minibatch_data =  X_test_images[i:i+bs]\n",
        "        #minibatch_label= y_test[i:i+bs]\n",
        "\n",
        "        minibatch_data, _, minibatch_label=  next(iter(test_face_loader))\n",
        "\n",
        "        #send to GPU, if desired\n",
        "        minibatch_data=minibatch_data.to(device)\n",
        "        minibatch_label=minibatch_label.to(device)\n",
        "        \n",
        "        inputs = (minibatch_data - mean)/std\n",
        "\n",
        "        scores=net_gender( inputs ) \n",
        "\n",
        "        error = get_error( scores , minibatch_label)\n",
        "\n",
        "        running_error += error.item()\n",
        "\n",
        "        num_batches+=1\n",
        "\n",
        "    total_error = running_error/num_batches\n",
        "    print( 'error rate on test set =', total_error*100 ,'percent')"
      ],
      "execution_count": null,
      "outputs": []
    },
    {
      "cell_type": "code",
      "metadata": {
        "id": "zvrT3twAc8_r",
        "colab": {
          "base_uri": "https://localhost:8080/",
          "height": 574
        },
        "outputId": "b539b8f6-0b8a-4e2f-b3bb-da99f87c9e3c"
      },
      "source": [
        "start=time.time()\n",
        "\n",
        "#for epoch in range(1,20):\n",
        "for epoch in range(2):\n",
        "\n",
        "    # divide the learning rate by 2 at epoch 10, 14 and 18\n",
        "    #if epoch==10 or epoch == 14 or epoch==18:\n",
        "    if epoch==1:\n",
        "      my_lr = my_lr / 2\n",
        "    \n",
        "    # create a new optimizer at the beginning of each epoch: give the current learning rate.   \n",
        "    optimizer=torch.optim.SGD( net_gender.parameters() , lr=my_lr )\n",
        "        \n",
        "    # set the running quatities to zero at the beginning of the epoch\n",
        "    running_loss=0\n",
        "    running_error=0\n",
        "    num_batches=0\n",
        "    \n",
        "    # set the order in which to visit the image from the training set\n",
        "    # shuffled_indices=torch.randperm(13089)\n",
        " \n",
        "    for count in range(0,len(train_dataloader),bs):\n",
        "    \n",
        "        # Set the gradients to zeros\n",
        "        optimizer.zero_grad()\n",
        "        \n",
        "        # create a minibatch       \n",
        "        \n",
        "        # indices=shuffled_indices[count:count+bs]\n",
        "        # minibatch_data =  X_train_images[indices]\n",
        "        # minibatch_label=  y_train[indices]\n",
        "\n",
        "        minibatch_data, _, minibatch_label = next(iter(train_dataloader))\n",
        "\n",
        "        minibatch_data = minibatch_data.float()\n",
        "\n",
        "        # send them to the gpu, if desired\n",
        "        minibatch_data=minibatch_data.to(device)\n",
        "        minibatch_label=minibatch_label.to(device)\n",
        "        \n",
        "        # normalize the minibatch (this is the only difference compared to before!)\n",
        "        #inputs = (minibatch_data - mean)/std\n",
        "        inputs = minibatch_data\n",
        "\n",
        "        # tell Pytorch to start tracking all operations that will be done on \"inputs\"\n",
        "        inputs.requires_grad_()\n",
        "\n",
        "        # forward the minibatch through the net \n",
        "        scores=net_gender( inputs ) \n",
        "\n",
        "        # Compute the average of the losses of the data points in the minibatch\n",
        "        loss =  criterion( scores , minibatch_label) \n",
        "        \n",
        "        # backward pass to compute dL/dU, dL/dV and dL/dW   \n",
        "        loss.backward()\n",
        "\n",
        "        # do one step of stochastic gradient descent: U=U-lr(dL/dU), V=V-lr(dL/dU), ...\n",
        "        optimizer.step()\n",
        "        \n",
        "        # START COMPUTING STATS\n",
        "        \n",
        "        # add the loss of this batch to the running loss\n",
        "        running_loss += loss.detach().item()\n",
        "        \n",
        "        # compute the error made on this batch and add it to the running error       \n",
        "        error = get_error( scores.detach() , minibatch_label)\n",
        "        running_error += error.item()\n",
        "        \n",
        "        num_batches+=1\n",
        "        print(f'{num_batches} : {(time.time()-start)/60}')\n",
        "    \n",
        "    \n",
        "    # compute stats for the full training set\n",
        "    total_loss = running_loss/num_batches\n",
        "    total_error = running_error/num_batches\n",
        "    elapsed = (time.time()-start)/60\n",
        "\n",
        "    print('epoch=',epoch, '\\t time=', elapsed,'min','\\t lr=', my_lr  ,'\\t loss=', total_loss , '\\t error=', total_error*100 ,'percent')\n",
        "    eval_on_test_set() \n",
        "    print(' ')"
      ],
      "execution_count": null,
      "outputs": [
        {
          "output_type": "stream",
          "name": "stdout",
          "text": [
            "1 : 0.38103746573130287\n",
            "2 : 0.7374395291010539\n",
            "3 : 1.1199090758959451\n",
            "4 : 1.5268794814745585\n",
            "5 : 1.9342390298843384\n",
            "6 : 2.319557285308838\n",
            "7 : 2.702097396055857\n",
            "8 : 3.0883623878161113\n",
            "9 : 3.467995285987854\n",
            "10 : 3.8378218332926433\n",
            "11 : 4.19453288714091\n"
          ]
        },
        {
          "output_type": "error",
          "ename": "KeyboardInterrupt",
          "evalue": "ignored",
          "traceback": [
            "\u001b[0;31m---------------------------------------------------------------------------\u001b[0m",
            "\u001b[0;31mKeyboardInterrupt\u001b[0m                         Traceback (most recent call last)",
            "\u001b[0;32m<ipython-input-37-b91d7ea0b6f1>\u001b[0m in \u001b[0;36m<module>\u001b[0;34m()\u001b[0m\n\u001b[1;32m     31\u001b[0m         \u001b[0;31m# minibatch_label=  y_train[indices]\u001b[0m\u001b[0;34m\u001b[0m\u001b[0;34m\u001b[0m\u001b[0;34m\u001b[0m\u001b[0m\n\u001b[1;32m     32\u001b[0m \u001b[0;34m\u001b[0m\u001b[0m\n\u001b[0;32m---> 33\u001b[0;31m         \u001b[0mminibatch_data\u001b[0m\u001b[0;34m,\u001b[0m \u001b[0m_\u001b[0m\u001b[0;34m,\u001b[0m \u001b[0mminibatch_label\u001b[0m \u001b[0;34m=\u001b[0m \u001b[0mnext\u001b[0m\u001b[0;34m(\u001b[0m\u001b[0miter\u001b[0m\u001b[0;34m(\u001b[0m\u001b[0mtrain_dataloader\u001b[0m\u001b[0;34m)\u001b[0m\u001b[0;34m)\u001b[0m\u001b[0;34m\u001b[0m\u001b[0;34m\u001b[0m\u001b[0m\n\u001b[0m\u001b[1;32m     34\u001b[0m \u001b[0;34m\u001b[0m\u001b[0m\n\u001b[1;32m     35\u001b[0m         \u001b[0mminibatch_data\u001b[0m \u001b[0;34m=\u001b[0m \u001b[0mminibatch_data\u001b[0m\u001b[0;34m.\u001b[0m\u001b[0mfloat\u001b[0m\u001b[0;34m(\u001b[0m\u001b[0;34m)\u001b[0m\u001b[0;34m\u001b[0m\u001b[0;34m\u001b[0m\u001b[0m\n",
            "\u001b[0;32m/usr/local/lib/python3.7/dist-packages/torch/utils/data/dataloader.py\u001b[0m in \u001b[0;36m__next__\u001b[0;34m(self)\u001b[0m\n\u001b[1;32m    519\u001b[0m             \u001b[0;32mif\u001b[0m \u001b[0mself\u001b[0m\u001b[0;34m.\u001b[0m\u001b[0m_sampler_iter\u001b[0m \u001b[0;32mis\u001b[0m \u001b[0;32mNone\u001b[0m\u001b[0;34m:\u001b[0m\u001b[0;34m\u001b[0m\u001b[0;34m\u001b[0m\u001b[0m\n\u001b[1;32m    520\u001b[0m                 \u001b[0mself\u001b[0m\u001b[0;34m.\u001b[0m\u001b[0m_reset\u001b[0m\u001b[0;34m(\u001b[0m\u001b[0;34m)\u001b[0m\u001b[0;34m\u001b[0m\u001b[0;34m\u001b[0m\u001b[0m\n\u001b[0;32m--> 521\u001b[0;31m             \u001b[0mdata\u001b[0m \u001b[0;34m=\u001b[0m \u001b[0mself\u001b[0m\u001b[0;34m.\u001b[0m\u001b[0m_next_data\u001b[0m\u001b[0;34m(\u001b[0m\u001b[0;34m)\u001b[0m\u001b[0;34m\u001b[0m\u001b[0;34m\u001b[0m\u001b[0m\n\u001b[0m\u001b[1;32m    522\u001b[0m             \u001b[0mself\u001b[0m\u001b[0;34m.\u001b[0m\u001b[0m_num_yielded\u001b[0m \u001b[0;34m+=\u001b[0m \u001b[0;36m1\u001b[0m\u001b[0;34m\u001b[0m\u001b[0;34m\u001b[0m\u001b[0m\n\u001b[1;32m    523\u001b[0m             \u001b[0;32mif\u001b[0m \u001b[0mself\u001b[0m\u001b[0;34m.\u001b[0m\u001b[0m_dataset_kind\u001b[0m \u001b[0;34m==\u001b[0m \u001b[0m_DatasetKind\u001b[0m\u001b[0;34m.\u001b[0m\u001b[0mIterable\u001b[0m \u001b[0;32mand\u001b[0m\u001b[0;31m \u001b[0m\u001b[0;31m\\\u001b[0m\u001b[0;34m\u001b[0m\u001b[0;34m\u001b[0m\u001b[0m\n",
            "\u001b[0;32m/usr/local/lib/python3.7/dist-packages/torch/utils/data/dataloader.py\u001b[0m in \u001b[0;36m_next_data\u001b[0;34m(self)\u001b[0m\n\u001b[1;32m    559\u001b[0m     \u001b[0;32mdef\u001b[0m \u001b[0m_next_data\u001b[0m\u001b[0;34m(\u001b[0m\u001b[0mself\u001b[0m\u001b[0;34m)\u001b[0m\u001b[0;34m:\u001b[0m\u001b[0;34m\u001b[0m\u001b[0;34m\u001b[0m\u001b[0m\n\u001b[1;32m    560\u001b[0m         \u001b[0mindex\u001b[0m \u001b[0;34m=\u001b[0m \u001b[0mself\u001b[0m\u001b[0;34m.\u001b[0m\u001b[0m_next_index\u001b[0m\u001b[0;34m(\u001b[0m\u001b[0;34m)\u001b[0m  \u001b[0;31m# may raise StopIteration\u001b[0m\u001b[0;34m\u001b[0m\u001b[0;34m\u001b[0m\u001b[0m\n\u001b[0;32m--> 561\u001b[0;31m         \u001b[0mdata\u001b[0m \u001b[0;34m=\u001b[0m \u001b[0mself\u001b[0m\u001b[0;34m.\u001b[0m\u001b[0m_dataset_fetcher\u001b[0m\u001b[0;34m.\u001b[0m\u001b[0mfetch\u001b[0m\u001b[0;34m(\u001b[0m\u001b[0mindex\u001b[0m\u001b[0;34m)\u001b[0m  \u001b[0;31m# may raise StopIteration\u001b[0m\u001b[0;34m\u001b[0m\u001b[0;34m\u001b[0m\u001b[0m\n\u001b[0m\u001b[1;32m    562\u001b[0m         \u001b[0;32mif\u001b[0m \u001b[0mself\u001b[0m\u001b[0;34m.\u001b[0m\u001b[0m_pin_memory\u001b[0m\u001b[0;34m:\u001b[0m\u001b[0;34m\u001b[0m\u001b[0;34m\u001b[0m\u001b[0m\n\u001b[1;32m    563\u001b[0m             \u001b[0mdata\u001b[0m \u001b[0;34m=\u001b[0m \u001b[0m_utils\u001b[0m\u001b[0;34m.\u001b[0m\u001b[0mpin_memory\u001b[0m\u001b[0;34m.\u001b[0m\u001b[0mpin_memory\u001b[0m\u001b[0;34m(\u001b[0m\u001b[0mdata\u001b[0m\u001b[0;34m)\u001b[0m\u001b[0;34m\u001b[0m\u001b[0;34m\u001b[0m\u001b[0m\n",
            "\u001b[0;32m/usr/local/lib/python3.7/dist-packages/torch/utils/data/_utils/fetch.py\u001b[0m in \u001b[0;36mfetch\u001b[0;34m(self, possibly_batched_index)\u001b[0m\n\u001b[1;32m     47\u001b[0m     \u001b[0;32mdef\u001b[0m \u001b[0mfetch\u001b[0m\u001b[0;34m(\u001b[0m\u001b[0mself\u001b[0m\u001b[0;34m,\u001b[0m \u001b[0mpossibly_batched_index\u001b[0m\u001b[0;34m)\u001b[0m\u001b[0;34m:\u001b[0m\u001b[0;34m\u001b[0m\u001b[0;34m\u001b[0m\u001b[0m\n\u001b[1;32m     48\u001b[0m         \u001b[0;32mif\u001b[0m \u001b[0mself\u001b[0m\u001b[0;34m.\u001b[0m\u001b[0mauto_collation\u001b[0m\u001b[0;34m:\u001b[0m\u001b[0;34m\u001b[0m\u001b[0;34m\u001b[0m\u001b[0m\n\u001b[0;32m---> 49\u001b[0;31m             \u001b[0mdata\u001b[0m \u001b[0;34m=\u001b[0m \u001b[0;34m[\u001b[0m\u001b[0mself\u001b[0m\u001b[0;34m.\u001b[0m\u001b[0mdataset\u001b[0m\u001b[0;34m[\u001b[0m\u001b[0midx\u001b[0m\u001b[0;34m]\u001b[0m \u001b[0;32mfor\u001b[0m \u001b[0midx\u001b[0m \u001b[0;32min\u001b[0m \u001b[0mpossibly_batched_index\u001b[0m\u001b[0;34m]\u001b[0m\u001b[0;34m\u001b[0m\u001b[0;34m\u001b[0m\u001b[0m\n\u001b[0m\u001b[1;32m     50\u001b[0m         \u001b[0;32melse\u001b[0m\u001b[0;34m:\u001b[0m\u001b[0;34m\u001b[0m\u001b[0;34m\u001b[0m\u001b[0m\n\u001b[1;32m     51\u001b[0m             \u001b[0mdata\u001b[0m \u001b[0;34m=\u001b[0m \u001b[0mself\u001b[0m\u001b[0;34m.\u001b[0m\u001b[0mdataset\u001b[0m\u001b[0;34m[\u001b[0m\u001b[0mpossibly_batched_index\u001b[0m\u001b[0;34m]\u001b[0m\u001b[0;34m\u001b[0m\u001b[0;34m\u001b[0m\u001b[0m\n",
            "\u001b[0;32m/usr/local/lib/python3.7/dist-packages/torch/utils/data/_utils/fetch.py\u001b[0m in \u001b[0;36m<listcomp>\u001b[0;34m(.0)\u001b[0m\n\u001b[1;32m     47\u001b[0m     \u001b[0;32mdef\u001b[0m \u001b[0mfetch\u001b[0m\u001b[0;34m(\u001b[0m\u001b[0mself\u001b[0m\u001b[0;34m,\u001b[0m \u001b[0mpossibly_batched_index\u001b[0m\u001b[0;34m)\u001b[0m\u001b[0;34m:\u001b[0m\u001b[0;34m\u001b[0m\u001b[0;34m\u001b[0m\u001b[0m\n\u001b[1;32m     48\u001b[0m         \u001b[0;32mif\u001b[0m \u001b[0mself\u001b[0m\u001b[0;34m.\u001b[0m\u001b[0mauto_collation\u001b[0m\u001b[0;34m:\u001b[0m\u001b[0;34m\u001b[0m\u001b[0;34m\u001b[0m\u001b[0m\n\u001b[0;32m---> 49\u001b[0;31m             \u001b[0mdata\u001b[0m \u001b[0;34m=\u001b[0m \u001b[0;34m[\u001b[0m\u001b[0mself\u001b[0m\u001b[0;34m.\u001b[0m\u001b[0mdataset\u001b[0m\u001b[0;34m[\u001b[0m\u001b[0midx\u001b[0m\u001b[0;34m]\u001b[0m \u001b[0;32mfor\u001b[0m \u001b[0midx\u001b[0m \u001b[0;32min\u001b[0m \u001b[0mpossibly_batched_index\u001b[0m\u001b[0;34m]\u001b[0m\u001b[0;34m\u001b[0m\u001b[0;34m\u001b[0m\u001b[0m\n\u001b[0m\u001b[1;32m     50\u001b[0m         \u001b[0;32melse\u001b[0m\u001b[0;34m:\u001b[0m\u001b[0;34m\u001b[0m\u001b[0;34m\u001b[0m\u001b[0m\n\u001b[1;32m     51\u001b[0m             \u001b[0mdata\u001b[0m \u001b[0;34m=\u001b[0m \u001b[0mself\u001b[0m\u001b[0;34m.\u001b[0m\u001b[0mdataset\u001b[0m\u001b[0;34m[\u001b[0m\u001b[0mpossibly_batched_index\u001b[0m\u001b[0;34m]\u001b[0m\u001b[0;34m\u001b[0m\u001b[0;34m\u001b[0m\u001b[0m\n",
            "\u001b[0;32m/usr/local/lib/python3.7/dist-packages/torch/utils/data/dataset.py\u001b[0m in \u001b[0;36m__getitem__\u001b[0;34m(self, idx)\u001b[0m\n\u001b[1;32m    361\u001b[0m         \u001b[0;32mif\u001b[0m \u001b[0misinstance\u001b[0m\u001b[0;34m(\u001b[0m\u001b[0midx\u001b[0m\u001b[0;34m,\u001b[0m \u001b[0mlist\u001b[0m\u001b[0;34m)\u001b[0m\u001b[0;34m:\u001b[0m\u001b[0;34m\u001b[0m\u001b[0;34m\u001b[0m\u001b[0m\n\u001b[1;32m    362\u001b[0m             \u001b[0;32mreturn\u001b[0m \u001b[0mself\u001b[0m\u001b[0;34m.\u001b[0m\u001b[0mdataset\u001b[0m\u001b[0;34m[\u001b[0m\u001b[0;34m[\u001b[0m\u001b[0mself\u001b[0m\u001b[0;34m.\u001b[0m\u001b[0mindices\u001b[0m\u001b[0;34m[\u001b[0m\u001b[0mi\u001b[0m\u001b[0;34m]\u001b[0m \u001b[0;32mfor\u001b[0m \u001b[0mi\u001b[0m \u001b[0;32min\u001b[0m \u001b[0midx\u001b[0m\u001b[0;34m]\u001b[0m\u001b[0;34m]\u001b[0m\u001b[0;34m\u001b[0m\u001b[0;34m\u001b[0m\u001b[0m\n\u001b[0;32m--> 363\u001b[0;31m         \u001b[0;32mreturn\u001b[0m \u001b[0mself\u001b[0m\u001b[0;34m.\u001b[0m\u001b[0mdataset\u001b[0m\u001b[0;34m[\u001b[0m\u001b[0mself\u001b[0m\u001b[0;34m.\u001b[0m\u001b[0mindices\u001b[0m\u001b[0;34m[\u001b[0m\u001b[0midx\u001b[0m\u001b[0;34m]\u001b[0m\u001b[0;34m]\u001b[0m\u001b[0;34m\u001b[0m\u001b[0;34m\u001b[0m\u001b[0m\n\u001b[0m\u001b[1;32m    364\u001b[0m \u001b[0;34m\u001b[0m\u001b[0m\n\u001b[1;32m    365\u001b[0m     \u001b[0;32mdef\u001b[0m \u001b[0m__len__\u001b[0m\u001b[0;34m(\u001b[0m\u001b[0mself\u001b[0m\u001b[0;34m)\u001b[0m\u001b[0;34m:\u001b[0m\u001b[0;34m\u001b[0m\u001b[0;34m\u001b[0m\u001b[0m\n",
            "\u001b[0;32m<ipython-input-19-efe8ec298ef6>\u001b[0m in \u001b[0;36m__getitem__\u001b[0;34m(self, idx)\u001b[0m\n\u001b[1;32m     22\u001b[0m             \u001b[0midx\u001b[0m \u001b[0;34m=\u001b[0m \u001b[0midx\u001b[0m\u001b[0;34m.\u001b[0m\u001b[0mtolist\u001b[0m\u001b[0;34m(\u001b[0m\u001b[0;34m)\u001b[0m\u001b[0;34m\u001b[0m\u001b[0;34m\u001b[0m\u001b[0m\n\u001b[1;32m     23\u001b[0m \u001b[0;34m\u001b[0m\u001b[0m\n\u001b[0;32m---> 24\u001b[0;31m         \u001b[0mlandmark_sample\u001b[0m \u001b[0;34m=\u001b[0m \u001b[0mpd\u001b[0m\u001b[0;34m.\u001b[0m\u001b[0mread_csv\u001b[0m\u001b[0;34m(\u001b[0m\u001b[0mself\u001b[0m\u001b[0;34m.\u001b[0m\u001b[0mdataset_df\u001b[0m\u001b[0;34m.\u001b[0m\u001b[0mloc\u001b[0m\u001b[0;34m[\u001b[0m\u001b[0midx\u001b[0m\u001b[0;34m,\u001b[0m \u001b[0;34m'landmarks_path'\u001b[0m\u001b[0;34m]\u001b[0m\u001b[0;34m)\u001b[0m\u001b[0;34m\u001b[0m\u001b[0;34m\u001b[0m\u001b[0m\n\u001b[0m\u001b[1;32m     25\u001b[0m \u001b[0;34m\u001b[0m\u001b[0m\n\u001b[1;32m     26\u001b[0m         \u001b[0mimg_sample_path\u001b[0m \u001b[0;34m=\u001b[0m \u001b[0mself\u001b[0m\u001b[0;34m.\u001b[0m\u001b[0mdataset_df\u001b[0m\u001b[0;34m.\u001b[0m\u001b[0mloc\u001b[0m\u001b[0;34m[\u001b[0m\u001b[0midx\u001b[0m\u001b[0;34m,\u001b[0m \u001b[0;34m'image_path'\u001b[0m\u001b[0;34m]\u001b[0m\u001b[0;34m\u001b[0m\u001b[0;34m\u001b[0m\u001b[0m\n",
            "\u001b[0;32m/usr/local/lib/python3.7/dist-packages/pandas/io/parsers.py\u001b[0m in \u001b[0;36mread_csv\u001b[0;34m(filepath_or_buffer, sep, delimiter, header, names, index_col, usecols, squeeze, prefix, mangle_dupe_cols, dtype, engine, converters, true_values, false_values, skipinitialspace, skiprows, skipfooter, nrows, na_values, keep_default_na, na_filter, verbose, skip_blank_lines, parse_dates, infer_datetime_format, keep_date_col, date_parser, dayfirst, cache_dates, iterator, chunksize, compression, thousands, decimal, lineterminator, quotechar, quoting, doublequote, escapechar, comment, encoding, dialect, error_bad_lines, warn_bad_lines, delim_whitespace, low_memory, memory_map, float_precision)\u001b[0m\n\u001b[1;32m    686\u001b[0m     )\n\u001b[1;32m    687\u001b[0m \u001b[0;34m\u001b[0m\u001b[0m\n\u001b[0;32m--> 688\u001b[0;31m     \u001b[0;32mreturn\u001b[0m \u001b[0m_read\u001b[0m\u001b[0;34m(\u001b[0m\u001b[0mfilepath_or_buffer\u001b[0m\u001b[0;34m,\u001b[0m \u001b[0mkwds\u001b[0m\u001b[0;34m)\u001b[0m\u001b[0;34m\u001b[0m\u001b[0;34m\u001b[0m\u001b[0m\n\u001b[0m\u001b[1;32m    689\u001b[0m \u001b[0;34m\u001b[0m\u001b[0m\n\u001b[1;32m    690\u001b[0m \u001b[0;34m\u001b[0m\u001b[0m\n",
            "\u001b[0;32m/usr/local/lib/python3.7/dist-packages/pandas/io/parsers.py\u001b[0m in \u001b[0;36m_read\u001b[0;34m(filepath_or_buffer, kwds)\u001b[0m\n\u001b[1;32m    452\u001b[0m \u001b[0;34m\u001b[0m\u001b[0m\n\u001b[1;32m    453\u001b[0m     \u001b[0;31m# Create the parser.\u001b[0m\u001b[0;34m\u001b[0m\u001b[0;34m\u001b[0m\u001b[0;34m\u001b[0m\u001b[0m\n\u001b[0;32m--> 454\u001b[0;31m     \u001b[0mparser\u001b[0m \u001b[0;34m=\u001b[0m \u001b[0mTextFileReader\u001b[0m\u001b[0;34m(\u001b[0m\u001b[0mfp_or_buf\u001b[0m\u001b[0;34m,\u001b[0m \u001b[0;34m**\u001b[0m\u001b[0mkwds\u001b[0m\u001b[0;34m)\u001b[0m\u001b[0;34m\u001b[0m\u001b[0;34m\u001b[0m\u001b[0m\n\u001b[0m\u001b[1;32m    455\u001b[0m \u001b[0;34m\u001b[0m\u001b[0m\n\u001b[1;32m    456\u001b[0m     \u001b[0;32mif\u001b[0m \u001b[0mchunksize\u001b[0m \u001b[0;32mor\u001b[0m \u001b[0miterator\u001b[0m\u001b[0;34m:\u001b[0m\u001b[0;34m\u001b[0m\u001b[0;34m\u001b[0m\u001b[0m\n",
            "\u001b[0;32m/usr/local/lib/python3.7/dist-packages/pandas/io/parsers.py\u001b[0m in \u001b[0;36m__init__\u001b[0;34m(self, f, engine, **kwds)\u001b[0m\n\u001b[1;32m    946\u001b[0m             \u001b[0mself\u001b[0m\u001b[0;34m.\u001b[0m\u001b[0moptions\u001b[0m\u001b[0;34m[\u001b[0m\u001b[0;34m\"has_index_names\"\u001b[0m\u001b[0;34m]\u001b[0m \u001b[0;34m=\u001b[0m \u001b[0mkwds\u001b[0m\u001b[0;34m[\u001b[0m\u001b[0;34m\"has_index_names\"\u001b[0m\u001b[0;34m]\u001b[0m\u001b[0;34m\u001b[0m\u001b[0;34m\u001b[0m\u001b[0m\n\u001b[1;32m    947\u001b[0m \u001b[0;34m\u001b[0m\u001b[0m\n\u001b[0;32m--> 948\u001b[0;31m         \u001b[0mself\u001b[0m\u001b[0;34m.\u001b[0m\u001b[0m_make_engine\u001b[0m\u001b[0;34m(\u001b[0m\u001b[0mself\u001b[0m\u001b[0;34m.\u001b[0m\u001b[0mengine\u001b[0m\u001b[0;34m)\u001b[0m\u001b[0;34m\u001b[0m\u001b[0;34m\u001b[0m\u001b[0m\n\u001b[0m\u001b[1;32m    949\u001b[0m \u001b[0;34m\u001b[0m\u001b[0m\n\u001b[1;32m    950\u001b[0m     \u001b[0;32mdef\u001b[0m \u001b[0mclose\u001b[0m\u001b[0;34m(\u001b[0m\u001b[0mself\u001b[0m\u001b[0;34m)\u001b[0m\u001b[0;34m:\u001b[0m\u001b[0;34m\u001b[0m\u001b[0;34m\u001b[0m\u001b[0m\n",
            "\u001b[0;32m/usr/local/lib/python3.7/dist-packages/pandas/io/parsers.py\u001b[0m in \u001b[0;36m_make_engine\u001b[0;34m(self, engine)\u001b[0m\n\u001b[1;32m   1178\u001b[0m     \u001b[0;32mdef\u001b[0m \u001b[0m_make_engine\u001b[0m\u001b[0;34m(\u001b[0m\u001b[0mself\u001b[0m\u001b[0;34m,\u001b[0m \u001b[0mengine\u001b[0m\u001b[0;34m=\u001b[0m\u001b[0;34m\"c\"\u001b[0m\u001b[0;34m)\u001b[0m\u001b[0;34m:\u001b[0m\u001b[0;34m\u001b[0m\u001b[0;34m\u001b[0m\u001b[0m\n\u001b[1;32m   1179\u001b[0m         \u001b[0;32mif\u001b[0m \u001b[0mengine\u001b[0m \u001b[0;34m==\u001b[0m \u001b[0;34m\"c\"\u001b[0m\u001b[0;34m:\u001b[0m\u001b[0;34m\u001b[0m\u001b[0;34m\u001b[0m\u001b[0m\n\u001b[0;32m-> 1180\u001b[0;31m             \u001b[0mself\u001b[0m\u001b[0;34m.\u001b[0m\u001b[0m_engine\u001b[0m \u001b[0;34m=\u001b[0m \u001b[0mCParserWrapper\u001b[0m\u001b[0;34m(\u001b[0m\u001b[0mself\u001b[0m\u001b[0;34m.\u001b[0m\u001b[0mf\u001b[0m\u001b[0;34m,\u001b[0m \u001b[0;34m**\u001b[0m\u001b[0mself\u001b[0m\u001b[0;34m.\u001b[0m\u001b[0moptions\u001b[0m\u001b[0;34m)\u001b[0m\u001b[0;34m\u001b[0m\u001b[0;34m\u001b[0m\u001b[0m\n\u001b[0m\u001b[1;32m   1181\u001b[0m         \u001b[0;32melse\u001b[0m\u001b[0;34m:\u001b[0m\u001b[0;34m\u001b[0m\u001b[0;34m\u001b[0m\u001b[0m\n\u001b[1;32m   1182\u001b[0m             \u001b[0;32mif\u001b[0m \u001b[0mengine\u001b[0m \u001b[0;34m==\u001b[0m \u001b[0;34m\"python\"\u001b[0m\u001b[0;34m:\u001b[0m\u001b[0;34m\u001b[0m\u001b[0;34m\u001b[0m\u001b[0m\n",
            "\u001b[0;32m/usr/local/lib/python3.7/dist-packages/pandas/io/parsers.py\u001b[0m in \u001b[0;36m__init__\u001b[0;34m(self, src, **kwds)\u001b[0m\n\u001b[1;32m   2008\u001b[0m         \u001b[0mkwds\u001b[0m\u001b[0;34m[\u001b[0m\u001b[0;34m\"usecols\"\u001b[0m\u001b[0;34m]\u001b[0m \u001b[0;34m=\u001b[0m \u001b[0mself\u001b[0m\u001b[0;34m.\u001b[0m\u001b[0musecols\u001b[0m\u001b[0;34m\u001b[0m\u001b[0;34m\u001b[0m\u001b[0m\n\u001b[1;32m   2009\u001b[0m \u001b[0;34m\u001b[0m\u001b[0m\n\u001b[0;32m-> 2010\u001b[0;31m         \u001b[0mself\u001b[0m\u001b[0;34m.\u001b[0m\u001b[0m_reader\u001b[0m \u001b[0;34m=\u001b[0m \u001b[0mparsers\u001b[0m\u001b[0;34m.\u001b[0m\u001b[0mTextReader\u001b[0m\u001b[0;34m(\u001b[0m\u001b[0msrc\u001b[0m\u001b[0;34m,\u001b[0m \u001b[0;34m**\u001b[0m\u001b[0mkwds\u001b[0m\u001b[0;34m)\u001b[0m\u001b[0;34m\u001b[0m\u001b[0;34m\u001b[0m\u001b[0m\n\u001b[0m\u001b[1;32m   2011\u001b[0m         \u001b[0mself\u001b[0m\u001b[0;34m.\u001b[0m\u001b[0munnamed_cols\u001b[0m \u001b[0;34m=\u001b[0m \u001b[0mself\u001b[0m\u001b[0;34m.\u001b[0m\u001b[0m_reader\u001b[0m\u001b[0;34m.\u001b[0m\u001b[0munnamed_cols\u001b[0m\u001b[0;34m\u001b[0m\u001b[0;34m\u001b[0m\u001b[0m\n\u001b[1;32m   2012\u001b[0m \u001b[0;34m\u001b[0m\u001b[0m\n",
            "\u001b[0;31mKeyboardInterrupt\u001b[0m: "
          ]
        }
      ]
    },
    {
      "cell_type": "code",
      "metadata": {
        "id": "bvxHZJcwc8_s"
      },
      "source": [
        ""
      ],
      "execution_count": null,
      "outputs": []
    }
  ]
}