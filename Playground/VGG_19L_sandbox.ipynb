{
  "nbformat": 4,
  "nbformat_minor": 0,
  "metadata": {
    "interpreter": {
      "hash": "8ab70c8717d59d3d18e55ddb9fc009ca9a9cdea0e10f7027a2b729168083aba5"
    },
    "kernelspec": {
      "display_name": "Python 3",
      "language": "python",
      "name": "python3"
    },
    "language_info": {
      "codemirror_mode": {
        "name": "ipython",
        "version": 3
      },
      "file_extension": ".py",
      "mimetype": "text/x-python",
      "name": "python",
      "nbconvert_exporter": "python",
      "pygments_lexer": "ipython3",
      "version": "3.7.6"
    },
    "colab": {
      "name": "VGG_19L_sandbox.ipynb",
      "provenance": [],
      "machine_shape": "hm",
      "include_colab_link": true
    },
    "accelerator": "GPU"
  },
  "cells": [
    {
      "cell_type": "markdown",
      "metadata": {
        "id": "view-in-github",
        "colab_type": "text"
      },
      "source": [
        "<a href=\"https://colab.research.google.com/github/vigneshvalliappan/MSAI_CV_Project/blob/main/Playground/VGG_19L_sandbox.ipynb\" target=\"_parent\"><img src=\"https://colab.research.google.com/assets/colab-badge.svg\" alt=\"Open In Colab\"/></a>"
      ]
    },
    {
      "cell_type": "code",
      "metadata": {
        "colab": {
          "base_uri": "https://localhost:8080/"
        },
        "id": "wINNYWMY_gR0",
        "outputId": "9606d940-76f9-42ad-dc9e-ab122f0aa76c"
      },
      "source": [
        "from google.colab import drive\n",
        "drive.mount('/content/drive')"
      ],
      "execution_count": 1,
      "outputs": [
        {
          "output_type": "stream",
          "name": "stdout",
          "text": [
            "Mounted at /content/drive\n"
          ]
        }
      ]
    },
    {
      "cell_type": "code",
      "metadata": {
        "id": "BL_styY-c8_T"
      },
      "source": [
        "import pandas as pd\n",
        "import numpy as np\n",
        "import cv2\n",
        "from matplotlib import pyplot as plt\n",
        "import json\n",
        "\n",
        "import torch\n",
        "import torch.nn as nn\n",
        "import torch.nn.functional as F\n",
        "import torch.optim as optim\n",
        "from random import randint\n",
        "import time"
      ],
      "execution_count": 2,
      "outputs": []
    },
    {
      "cell_type": "code",
      "metadata": {
        "id": "4ukKgo2S0dYo"
      },
      "source": [
        "from __future__ import print_function, division\n",
        "import os\n",
        "from skimage import io, transform\n",
        "\n",
        "from torch.utils.data import Dataset, DataLoader\n",
        "from torchvision import transforms, utils\n",
        "\n",
        "# Ignore warnings\n",
        "import warnings\n",
        "warnings.filterwarnings(\"ignore\")\n",
        "\n",
        "plt.ion()   # interactive mode"
      ],
      "execution_count": 3,
      "outputs": []
    },
    {
      "cell_type": "code",
      "metadata": {
        "id": "LuYdLo52jBY8",
        "colab": {
          "base_uri": "https://localhost:8080/"
        },
        "outputId": "e5436a79-a785-4ff0-96d7-7118091676ed"
      },
      "source": [
        "# decide whether to compute using GPU\n",
        "\n",
        "device= torch.device(\"cuda\")\n",
        "#device= torch.device(\"cpu\")\n",
        "print(device)"
      ],
      "execution_count": 4,
      "outputs": [
        {
          "output_type": "stream",
          "name": "stdout",
          "text": [
            "cuda\n"
          ]
        }
      ]
    },
    {
      "cell_type": "code",
      "metadata": {
        "id": "RVtGHwNQc8_Z",
        "colab": {
          "base_uri": "https://localhost:8080/"
        },
        "outputId": "fe66878d-5b3f-4053-8c00-46157c8e7d31"
      },
      "source": [
        "fold_0 = pd.read_csv('/content/drive/MyDrive/MSAI CV/MSAI CV Project/Data/fold_0_data.txt',sep='\\t')\n",
        "fold_1 = pd.read_csv('/content/drive/MyDrive/MSAI CV/MSAI CV Project/Data/fold_1_data.txt',sep='\\t')\n",
        "fold_2 = pd.read_csv('/content/drive/MyDrive/MSAI CV/MSAI CV Project/Data/fold_2_data.txt',sep='\\t')\n",
        "fold_3 = pd.read_csv('/content/drive/MyDrive/MSAI CV/MSAI CV Project/Data/fold_3_data.txt',sep='\\t')\n",
        "fold_4 = pd.read_csv('/content/drive/MyDrive/MSAI CV/MSAI CV Project/Data/fold_4_data.txt',sep='\\t')\n",
        "fold_combined = pd.concat([fold_0,fold_1,fold_2,fold_3,fold_4],ignore_index=True)\n",
        "print(f'Number of rows: {len(fold_combined)}')\n",
        "fold_combined.info()"
      ],
      "execution_count": 5,
      "outputs": [
        {
          "output_type": "stream",
          "name": "stdout",
          "text": [
            "Number of rows: 19370\n",
            "<class 'pandas.core.frame.DataFrame'>\n",
            "RangeIndex: 19370 entries, 0 to 19369\n",
            "Data columns (total 12 columns):\n",
            " #   Column              Non-Null Count  Dtype \n",
            "---  ------              --------------  ----- \n",
            " 0   user_id             19370 non-null  object\n",
            " 1   original_image      19370 non-null  object\n",
            " 2   face_id             19370 non-null  int64 \n",
            " 3   age                 19370 non-null  object\n",
            " 4   gender              18591 non-null  object\n",
            " 5   x                   19370 non-null  int64 \n",
            " 6   y                   19370 non-null  int64 \n",
            " 7   dx                  19370 non-null  int64 \n",
            " 8   dy                  19370 non-null  int64 \n",
            " 9   tilt_ang            19370 non-null  int64 \n",
            " 10  fiducial_yaw_angle  19370 non-null  int64 \n",
            " 11  fiducial_score      19370 non-null  int64 \n",
            "dtypes: int64(8), object(4)\n",
            "memory usage: 1.8+ MB\n"
          ]
        }
      ]
    },
    {
      "cell_type": "code",
      "metadata": {
        "id": "3Qvtze9Bc8_c",
        "colab": {
          "base_uri": "https://localhost:8080/",
          "height": 206
        },
        "outputId": "dec07047-08cd-4cf8-efc8-b618e2830f50"
      },
      "source": [
        "fold_combined.head()"
      ],
      "execution_count": 6,
      "outputs": [
        {
          "output_type": "execute_result",
          "data": {
            "text/html": [
              "<div>\n",
              "<style scoped>\n",
              "    .dataframe tbody tr th:only-of-type {\n",
              "        vertical-align: middle;\n",
              "    }\n",
              "\n",
              "    .dataframe tbody tr th {\n",
              "        vertical-align: top;\n",
              "    }\n",
              "\n",
              "    .dataframe thead th {\n",
              "        text-align: right;\n",
              "    }\n",
              "</style>\n",
              "<table border=\"1\" class=\"dataframe\">\n",
              "  <thead>\n",
              "    <tr style=\"text-align: right;\">\n",
              "      <th></th>\n",
              "      <th>user_id</th>\n",
              "      <th>original_image</th>\n",
              "      <th>face_id</th>\n",
              "      <th>age</th>\n",
              "      <th>gender</th>\n",
              "      <th>x</th>\n",
              "      <th>y</th>\n",
              "      <th>dx</th>\n",
              "      <th>dy</th>\n",
              "      <th>tilt_ang</th>\n",
              "      <th>fiducial_yaw_angle</th>\n",
              "      <th>fiducial_score</th>\n",
              "    </tr>\n",
              "  </thead>\n",
              "  <tbody>\n",
              "    <tr>\n",
              "      <th>0</th>\n",
              "      <td>30601258@N03</td>\n",
              "      <td>10399646885_67c7d20df9_o.jpg</td>\n",
              "      <td>1</td>\n",
              "      <td>(25, 32)</td>\n",
              "      <td>f</td>\n",
              "      <td>0</td>\n",
              "      <td>414</td>\n",
              "      <td>1086</td>\n",
              "      <td>1383</td>\n",
              "      <td>-115</td>\n",
              "      <td>30</td>\n",
              "      <td>17</td>\n",
              "    </tr>\n",
              "    <tr>\n",
              "      <th>1</th>\n",
              "      <td>30601258@N03</td>\n",
              "      <td>10424815813_e94629b1ec_o.jpg</td>\n",
              "      <td>2</td>\n",
              "      <td>(25, 32)</td>\n",
              "      <td>m</td>\n",
              "      <td>301</td>\n",
              "      <td>105</td>\n",
              "      <td>640</td>\n",
              "      <td>641</td>\n",
              "      <td>0</td>\n",
              "      <td>0</td>\n",
              "      <td>94</td>\n",
              "    </tr>\n",
              "    <tr>\n",
              "      <th>2</th>\n",
              "      <td>30601258@N03</td>\n",
              "      <td>10437979845_5985be4b26_o.jpg</td>\n",
              "      <td>1</td>\n",
              "      <td>(25, 32)</td>\n",
              "      <td>f</td>\n",
              "      <td>2395</td>\n",
              "      <td>876</td>\n",
              "      <td>771</td>\n",
              "      <td>771</td>\n",
              "      <td>175</td>\n",
              "      <td>-30</td>\n",
              "      <td>74</td>\n",
              "    </tr>\n",
              "    <tr>\n",
              "      <th>3</th>\n",
              "      <td>30601258@N03</td>\n",
              "      <td>10437979845_5985be4b26_o.jpg</td>\n",
              "      <td>3</td>\n",
              "      <td>(25, 32)</td>\n",
              "      <td>m</td>\n",
              "      <td>752</td>\n",
              "      <td>1255</td>\n",
              "      <td>484</td>\n",
              "      <td>485</td>\n",
              "      <td>180</td>\n",
              "      <td>0</td>\n",
              "      <td>47</td>\n",
              "    </tr>\n",
              "    <tr>\n",
              "      <th>4</th>\n",
              "      <td>30601258@N03</td>\n",
              "      <td>11816644924_075c3d8d59_o.jpg</td>\n",
              "      <td>2</td>\n",
              "      <td>(25, 32)</td>\n",
              "      <td>m</td>\n",
              "      <td>175</td>\n",
              "      <td>80</td>\n",
              "      <td>769</td>\n",
              "      <td>768</td>\n",
              "      <td>-75</td>\n",
              "      <td>0</td>\n",
              "      <td>34</td>\n",
              "    </tr>\n",
              "  </tbody>\n",
              "</table>\n",
              "</div>"
            ],
            "text/plain": [
              "        user_id  ... fiducial_score\n",
              "0  30601258@N03  ...             17\n",
              "1  30601258@N03  ...             94\n",
              "2  30601258@N03  ...             74\n",
              "3  30601258@N03  ...             47\n",
              "4  30601258@N03  ...             34\n",
              "\n",
              "[5 rows x 12 columns]"
            ]
          },
          "metadata": {},
          "execution_count": 6
        }
      ]
    },
    {
      "cell_type": "code",
      "metadata": {
        "id": "VQ9kUgs6c8_e",
        "colab": {
          "base_uri": "https://localhost:8080/",
          "height": 335
        },
        "outputId": "354b1f9f-bb09-4dcb-e6a3-603387eeab93"
      },
      "source": [
        "# age break down\n",
        "print(fold_combined.age.unique())\n",
        "fold_combined.age.value_counts().plot.pie()"
      ],
      "execution_count": 7,
      "outputs": [
        {
          "output_type": "stream",
          "name": "stdout",
          "text": [
            "['(25, 32)' '(38, 43)' '(4, 6)' '(60, 100)' '(15, 20)' '(48, 53)'\n",
            " '(8, 12)' '(0, 2)' 'None' '(38, 48)' '35' '3' '55' '58' '22' '13' '45'\n",
            " '36' '23' '(38, 42)' '(8, 23)' '(27, 32)' '57' '56' '2' '29' '34' '42'\n",
            " '46' '32']\n"
          ]
        },
        {
          "output_type": "execute_result",
          "data": {
            "text/plain": [
              "<matplotlib.axes._subplots.AxesSubplot at 0x7fa74aefebd0>"
            ]
          },
          "metadata": {},
          "execution_count": 7
        },
        {
          "output_type": "display_data",
          "data": {
            "image/png": "[encoded data removed]",
            "text/plain": [
              "<Figure size 432x288 with 1 Axes>"
            ]
          },
          "metadata": {}
        }
      ]
    },
    {
      "cell_type": "code",
      "metadata": {
        "id": "kd9yrigfc8_e",
        "colab": {
          "base_uri": "https://localhost:8080/",
          "height": 296
        },
        "outputId": "4b269e72-fdfd-4a6a-8130-f22142d986f7"
      },
      "source": [
        "# gender break down\n",
        "fold_combined.groupby(['gender'])['gender'].count().plot.bar()"
      ],
      "execution_count": 8,
      "outputs": [
        {
          "output_type": "execute_result",
          "data": {
            "text/plain": [
              "<matplotlib.axes._subplots.AxesSubplot at 0x7fa748976890>"
            ]
          },
          "metadata": {},
          "execution_count": 8
        },
        {
          "output_type": "display_data",
          "data": {
            "image/png": "[encoded data removed]",
            "text/plain": [
              "<Figure size 432x288 with 1 Axes>"
            ]
          },
          "metadata": {
            "needs_background": "light"
          }
        }
      ]
    },
    {
      "cell_type": "code",
      "metadata": {
        "id": "8cGs3rgUc8_f",
        "colab": {
          "base_uri": "https://localhost:8080/"
        },
        "outputId": "84680544-cff7-4086-af61-7ed3ca4f0569"
      },
      "source": [
        "# new column to record the file path\n",
        "fold_combined['image_path'] = '/content/drive/MyDrive/MSAI CV/MSAI CV Project/Data/faces/' + fold_combined['user_id'] + '/coarse_tilt_aligned_face.' + fold_combined['face_id'].astype('str') + '.' + fold_combined['original_image']\n",
        "fold_combined['image_path']"
      ],
      "execution_count": 9,
      "outputs": [
        {
          "output_type": "execute_result",
          "data": {
            "text/plain": [
              "0        /content/drive/MyDrive/MSAI CV/MSAI CV Project...\n",
              "1        /content/drive/MyDrive/MSAI CV/MSAI CV Project...\n",
              "2        /content/drive/MyDrive/MSAI CV/MSAI CV Project...\n",
              "3        /content/drive/MyDrive/MSAI CV/MSAI CV Project...\n",
              "4        /content/drive/MyDrive/MSAI CV/MSAI CV Project...\n",
              "                               ...                        \n",
              "19365    /content/drive/MyDrive/MSAI CV/MSAI CV Project...\n",
              "19366    /content/drive/MyDrive/MSAI CV/MSAI CV Project...\n",
              "19367    /content/drive/MyDrive/MSAI CV/MSAI CV Project...\n",
              "19368    /content/drive/MyDrive/MSAI CV/MSAI CV Project...\n",
              "19369    /content/drive/MyDrive/MSAI CV/MSAI CV Project...\n",
              "Name: image_path, Length: 19370, dtype: object"
            ]
          },
          "metadata": {},
          "execution_count": 9
        }
      ]
    },
    {
      "cell_type": "code",
      "metadata": {
        "colab": {
          "base_uri": "https://localhost:8080/"
        },
        "id": "beu5-Uwv3HtV",
        "outputId": "9066c49f-a9cb-4e60-c5f4-8d21203c936b"
      },
      "source": [
        "# new column to record the landmarks file\n",
        "fold_combined['landmarks_path'] = '/content/drive/MyDrive/MSAI CV/MSAI CV Project/Data/faces/' + fold_combined['user_id'] + '/landmarks.' + fold_combined['face_id'].astype('str') + '.' + fold_combined['original_image'].apply(lambda x: x[:len(x)-3]) + 'txt'\n",
        "fold_combined['landmarks_path']"
      ],
      "execution_count": 10,
      "outputs": [
        {
          "output_type": "execute_result",
          "data": {
            "text/plain": [
              "0        /content/drive/MyDrive/MSAI CV/MSAI CV Project...\n",
              "1        /content/drive/MyDrive/MSAI CV/MSAI CV Project...\n",
              "2        /content/drive/MyDrive/MSAI CV/MSAI CV Project...\n",
              "3        /content/drive/MyDrive/MSAI CV/MSAI CV Project...\n",
              "4        /content/drive/MyDrive/MSAI CV/MSAI CV Project...\n",
              "                               ...                        \n",
              "19365    /content/drive/MyDrive/MSAI CV/MSAI CV Project...\n",
              "19366    /content/drive/MyDrive/MSAI CV/MSAI CV Project...\n",
              "19367    /content/drive/MyDrive/MSAI CV/MSAI CV Project...\n",
              "19368    /content/drive/MyDrive/MSAI CV/MSAI CV Project...\n",
              "19369    /content/drive/MyDrive/MSAI CV/MSAI CV Project...\n",
              "Name: landmarks_path, Length: 19370, dtype: object"
            ]
          },
          "metadata": {},
          "execution_count": 10
        }
      ]
    },
    {
      "cell_type": "code",
      "metadata": {
        "id": "Wq3TAINjc8_g",
        "colab": {
          "base_uri": "https://localhost:8080/"
        },
        "outputId": "5f7c8d8f-bd48-4f54-ced1-f7de2f2e9f77"
      },
      "source": [
        "# filtered of unlabelled data\n",
        "print(len(fold_combined))\n",
        "fold_combined = fold_combined[fold_combined['age'] != 'None']\n",
        "fold_combined = fold_combined[fold_combined['gender'] != 'u']\n",
        "fold_combined = fold_combined[fold_combined['gender'].notna()]\n",
        "print(len(fold_combined))"
      ],
      "execution_count": 11,
      "outputs": [
        {
          "output_type": "stream",
          "name": "stdout",
          "text": [
            "19370\n",
            "17452\n"
          ]
        }
      ]
    },
    {
      "cell_type": "code",
      "metadata": {
        "id": "QWGCNOSJc8_g",
        "colab": {
          "base_uri": "https://localhost:8080/"
        },
        "outputId": "73e7589b-4219-4883-9b5a-96312282faa6"
      },
      "source": [
        "# formulating age class\n",
        "with open('/content/drive/MyDrive/MSAI CV/MSAI CV Project/Data/age_class.json') as f:\n",
        "    age_class = json.load(f)\n",
        "\n",
        "fold_combined['age'] = fold_combined['age'].apply(lambda x: age_class[x])\n",
        "fold_combined.age.value_counts()"
      ],
      "execution_count": 12,
      "outputs": [
        {
          "output_type": "execute_result",
          "data": {
            "text/plain": [
              "25-36    5493\n",
              "38-47    2435\n",
              "8-14     2286\n",
              "4-6      2139\n",
              "15-24    1885\n",
              "0-3      1418\n",
              "48-59     930\n",
              "60+       866\n",
              "Name: age, dtype: int64"
            ]
          },
          "metadata": {},
          "execution_count": 12
        }
      ]
    },
    {
      "cell_type": "code",
      "metadata": {
        "id": "IS_yaTDrc8_h",
        "colab": {
          "base_uri": "https://localhost:8080/"
        },
        "outputId": "57662927-ddb2-4206-f6ea-ce4e8b2f1090"
      },
      "source": [
        "# convert class to int\n",
        "def labelling_age(age_range):\n",
        "    if age_range == '0-3':\n",
        "        return 0\n",
        "    elif age_range == '4-6':\n",
        "        return 1\n",
        "    elif age_range == '8-14':\n",
        "        return 2\n",
        "    elif age_range == '15-24':\n",
        "        return 3\n",
        "    elif age_range == '25-36':\n",
        "        return 4\n",
        "    elif age_range == '38-47':\n",
        "        return 5\n",
        "    elif age_range == '48-59':\n",
        "        return 6\n",
        "    elif age_range == '60+':\n",
        "        return 7\n",
        "\n",
        "\n",
        "fold_combined['label_age'] = fold_combined['age'].apply(labelling_age)\n",
        "fold_combined.label_age.value_counts()"
      ],
      "execution_count": 13,
      "outputs": [
        {
          "output_type": "execute_result",
          "data": {
            "text/plain": [
              "4    5493\n",
              "5    2435\n",
              "2    2286\n",
              "1    2139\n",
              "3    1885\n",
              "0    1418\n",
              "6     930\n",
              "7     866\n",
              "Name: label_age, dtype: int64"
            ]
          },
          "metadata": {},
          "execution_count": 13
        }
      ]
    },
    {
      "cell_type": "code",
      "metadata": {
        "id": "BRCxImEXc8_j",
        "colab": {
          "base_uri": "https://localhost:8080/"
        },
        "outputId": "f238d552-fca8-4275-fea3-4e4830e1f303"
      },
      "source": [
        "# gender class\n",
        "fold_combined.gender.value_counts()"
      ],
      "execution_count": 14,
      "outputs": [
        {
          "output_type": "execute_result",
          "data": {
            "text/plain": [
              "f    9332\n",
              "m    8120\n",
              "Name: gender, dtype: int64"
            ]
          },
          "metadata": {},
          "execution_count": 14
        }
      ]
    },
    {
      "cell_type": "code",
      "metadata": {
        "id": "Px3yGt_Oc8_j",
        "colab": {
          "base_uri": "https://localhost:8080/"
        },
        "outputId": "c6d6de30-06be-4d31-f35f-82a21c0b9156"
      },
      "source": [
        "# convert class to int\n",
        "def labelling_gender(gender_range):\n",
        "    if gender_range == 'm':\n",
        "        result = 0\n",
        "    elif gender_range == 'f':\n",
        "        result = 1\n",
        "    else:\n",
        "        print(gender_range)\n",
        "    return result\n",
        "\n",
        "fold_combined['label_gender'] = fold_combined['gender'].apply(labelling_gender)\n",
        "fold_combined.label_gender.value_counts()"
      ],
      "execution_count": 15,
      "outputs": [
        {
          "output_type": "execute_result",
          "data": {
            "text/plain": [
              "1    9332\n",
              "0    8120\n",
              "Name: label_gender, dtype: int64"
            ]
          },
          "metadata": {},
          "execution_count": 15
        }
      ]
    },
    {
      "cell_type": "code",
      "metadata": {
        "id": "WnOuMqB-c8_k",
        "colab": {
          "base_uri": "https://localhost:8080/",
          "height": 771
        },
        "outputId": "6cf58c03-2b45-4b75-f29b-a6a5ae7f5e99"
      },
      "source": [
        "fold_combined"
      ],
      "execution_count": 16,
      "outputs": [
        {
          "output_type": "execute_result",
          "data": {
            "text/html": [
              "<div>\n",
              "<style scoped>\n",
              "    .dataframe tbody tr th:only-of-type {\n",
              "        vertical-align: middle;\n",
              "    }\n",
              "\n",
              "    .dataframe tbody tr th {\n",
              "        vertical-align: top;\n",
              "    }\n",
              "\n",
              "    .dataframe thead th {\n",
              "        text-align: right;\n",
              "    }\n",
              "</style>\n",
              "<table border=\"1\" class=\"dataframe\">\n",
              "  <thead>\n",
              "    <tr style=\"text-align: right;\">\n",
              "      <th></th>\n",
              "      <th>user_id</th>\n",
              "      <th>original_image</th>\n",
              "      <th>face_id</th>\n",
              "      <th>age</th>\n",
              "      <th>gender</th>\n",
              "      <th>x</th>\n",
              "      <th>y</th>\n",
              "      <th>dx</th>\n",
              "      <th>dy</th>\n",
              "      <th>tilt_ang</th>\n",
              "      <th>fiducial_yaw_angle</th>\n",
              "      <th>fiducial_score</th>\n",
              "      <th>image_path</th>\n",
              "      <th>landmarks_path</th>\n",
              "      <th>label_age</th>\n",
              "      <th>label_gender</th>\n",
              "    </tr>\n",
              "  </thead>\n",
              "  <tbody>\n",
              "    <tr>\n",
              "      <th>0</th>\n",
              "      <td>30601258@N03</td>\n",
              "      <td>10399646885_67c7d20df9_o.jpg</td>\n",
              "      <td>1</td>\n",
              "      <td>25-36</td>\n",
              "      <td>f</td>\n",
              "      <td>0</td>\n",
              "      <td>414</td>\n",
              "      <td>1086</td>\n",
              "      <td>1383</td>\n",
              "      <td>-115</td>\n",
              "      <td>30</td>\n",
              "      <td>17</td>\n",
              "      <td>/content/drive/MyDrive/MSAI CV/MSAI CV Project...</td>\n",
              "      <td>/content/drive/MyDrive/MSAI CV/MSAI CV Project...</td>\n",
              "      <td>4</td>\n",
              "      <td>1</td>\n",
              "    </tr>\n",
              "    <tr>\n",
              "      <th>1</th>\n",
              "      <td>30601258@N03</td>\n",
              "      <td>10424815813_e94629b1ec_o.jpg</td>\n",
              "      <td>2</td>\n",
              "      <td>25-36</td>\n",
              "      <td>m</td>\n",
              "      <td>301</td>\n",
              "      <td>105</td>\n",
              "      <td>640</td>\n",
              "      <td>641</td>\n",
              "      <td>0</td>\n",
              "      <td>0</td>\n",
              "      <td>94</td>\n",
              "      <td>/content/drive/MyDrive/MSAI CV/MSAI CV Project...</td>\n",
              "      <td>/content/drive/MyDrive/MSAI CV/MSAI CV Project...</td>\n",
              "      <td>4</td>\n",
              "      <td>0</td>\n",
              "    </tr>\n",
              "    <tr>\n",
              "      <th>2</th>\n",
              "      <td>30601258@N03</td>\n",
              "      <td>10437979845_5985be4b26_o.jpg</td>\n",
              "      <td>1</td>\n",
              "      <td>25-36</td>\n",
              "      <td>f</td>\n",
              "      <td>2395</td>\n",
              "      <td>876</td>\n",
              "      <td>771</td>\n",
              "      <td>771</td>\n",
              "      <td>175</td>\n",
              "      <td>-30</td>\n",
              "      <td>74</td>\n",
              "      <td>/content/drive/MyDrive/MSAI CV/MSAI CV Project...</td>\n",
              "      <td>/content/drive/MyDrive/MSAI CV/MSAI CV Project...</td>\n",
              "      <td>4</td>\n",
              "      <td>1</td>\n",
              "    </tr>\n",
              "    <tr>\n",
              "      <th>3</th>\n",
              "      <td>30601258@N03</td>\n",
              "      <td>10437979845_5985be4b26_o.jpg</td>\n",
              "      <td>3</td>\n",
              "      <td>25-36</td>\n",
              "      <td>m</td>\n",
              "      <td>752</td>\n",
              "      <td>1255</td>\n",
              "      <td>484</td>\n",
              "      <td>485</td>\n",
              "      <td>180</td>\n",
              "      <td>0</td>\n",
              "      <td>47</td>\n",
              "      <td>/content/drive/MyDrive/MSAI CV/MSAI CV Project...</td>\n",
              "      <td>/content/drive/MyDrive/MSAI CV/MSAI CV Project...</td>\n",
              "      <td>4</td>\n",
              "      <td>0</td>\n",
              "    </tr>\n",
              "    <tr>\n",
              "      <th>4</th>\n",
              "      <td>30601258@N03</td>\n",
              "      <td>11816644924_075c3d8d59_o.jpg</td>\n",
              "      <td>2</td>\n",
              "      <td>25-36</td>\n",
              "      <td>m</td>\n",
              "      <td>175</td>\n",
              "      <td>80</td>\n",
              "      <td>769</td>\n",
              "      <td>768</td>\n",
              "      <td>-75</td>\n",
              "      <td>0</td>\n",
              "      <td>34</td>\n",
              "      <td>/content/drive/MyDrive/MSAI CV/MSAI CV Project...</td>\n",
              "      <td>/content/drive/MyDrive/MSAI CV/MSAI CV Project...</td>\n",
              "      <td>4</td>\n",
              "      <td>0</td>\n",
              "    </tr>\n",
              "    <tr>\n",
              "      <th>...</th>\n",
              "      <td>...</td>\n",
              "      <td>...</td>\n",
              "      <td>...</td>\n",
              "      <td>...</td>\n",
              "      <td>...</td>\n",
              "      <td>...</td>\n",
              "      <td>...</td>\n",
              "      <td>...</td>\n",
              "      <td>...</td>\n",
              "      <td>...</td>\n",
              "      <td>...</td>\n",
              "      <td>...</td>\n",
              "      <td>...</td>\n",
              "      <td>...</td>\n",
              "      <td>...</td>\n",
              "      <td>...</td>\n",
              "    </tr>\n",
              "    <tr>\n",
              "      <th>19341</th>\n",
              "      <td>101515718@N03</td>\n",
              "      <td>10587826073_6663f5b654_o.jpg</td>\n",
              "      <td>2280</td>\n",
              "      <td>25-36</td>\n",
              "      <td>f</td>\n",
              "      <td>718</td>\n",
              "      <td>748</td>\n",
              "      <td>492</td>\n",
              "      <td>492</td>\n",
              "      <td>0</td>\n",
              "      <td>0</td>\n",
              "      <td>63</td>\n",
              "      <td>/content/drive/MyDrive/MSAI CV/MSAI CV Project...</td>\n",
              "      <td>/content/drive/MyDrive/MSAI CV/MSAI CV Project...</td>\n",
              "      <td>4</td>\n",
              "      <td>1</td>\n",
              "    </tr>\n",
              "    <tr>\n",
              "      <th>19342</th>\n",
              "      <td>101515718@N03</td>\n",
              "      <td>10587571495_a61785cd06_o.jpg</td>\n",
              "      <td>2278</td>\n",
              "      <td>25-36</td>\n",
              "      <td>m</td>\n",
              "      <td>48</td>\n",
              "      <td>472</td>\n",
              "      <td>768</td>\n",
              "      <td>768</td>\n",
              "      <td>-15</td>\n",
              "      <td>0</td>\n",
              "      <td>25</td>\n",
              "      <td>/content/drive/MyDrive/MSAI CV/MSAI CV Project...</td>\n",
              "      <td>/content/drive/MyDrive/MSAI CV/MSAI CV Project...</td>\n",
              "      <td>4</td>\n",
              "      <td>0</td>\n",
              "    </tr>\n",
              "    <tr>\n",
              "      <th>19343</th>\n",
              "      <td>101515718@N03</td>\n",
              "      <td>10587571495_a61785cd06_o.jpg</td>\n",
              "      <td>2279</td>\n",
              "      <td>25-36</td>\n",
              "      <td>f</td>\n",
              "      <td>950</td>\n",
              "      <td>0</td>\n",
              "      <td>692</td>\n",
              "      <td>687</td>\n",
              "      <td>-5</td>\n",
              "      <td>0</td>\n",
              "      <td>27</td>\n",
              "      <td>/content/drive/MyDrive/MSAI CV/MSAI CV Project...</td>\n",
              "      <td>/content/drive/MyDrive/MSAI CV/MSAI CV Project...</td>\n",
              "      <td>4</td>\n",
              "      <td>1</td>\n",
              "    </tr>\n",
              "    <tr>\n",
              "      <th>19344</th>\n",
              "      <td>50458575@N08</td>\n",
              "      <td>9426695459_9e8b347604_o.jpg</td>\n",
              "      <td>2281</td>\n",
              "      <td>25-36</td>\n",
              "      <td>f</td>\n",
              "      <td>831</td>\n",
              "      <td>895</td>\n",
              "      <td>899</td>\n",
              "      <td>899</td>\n",
              "      <td>0</td>\n",
              "      <td>15</td>\n",
              "      <td>59</td>\n",
              "      <td>/content/drive/MyDrive/MSAI CV/MSAI CV Project...</td>\n",
              "      <td>/content/drive/MyDrive/MSAI CV/MSAI CV Project...</td>\n",
              "      <td>4</td>\n",
              "      <td>1</td>\n",
              "    </tr>\n",
              "    <tr>\n",
              "      <th>19345</th>\n",
              "      <td>50458575@N08</td>\n",
              "      <td>9429464468_1bfc39ecfb_o.jpg</td>\n",
              "      <td>2281</td>\n",
              "      <td>25-36</td>\n",
              "      <td>f</td>\n",
              "      <td>653</td>\n",
              "      <td>1023</td>\n",
              "      <td>555</td>\n",
              "      <td>554</td>\n",
              "      <td>5</td>\n",
              "      <td>30</td>\n",
              "      <td>70</td>\n",
              "      <td>/content/drive/MyDrive/MSAI CV/MSAI CV Project...</td>\n",
              "      <td>/content/drive/MyDrive/MSAI CV/MSAI CV Project...</td>\n",
              "      <td>4</td>\n",
              "      <td>1</td>\n",
              "    </tr>\n",
              "  </tbody>\n",
              "</table>\n",
              "<p>17452 rows × 16 columns</p>\n",
              "</div>"
            ],
            "text/plain": [
              "             user_id                original_image  ...  label_age label_gender\n",
              "0       30601258@N03  10399646885_67c7d20df9_o.jpg  ...          4            1\n",
              "1       30601258@N03  10424815813_e94629b1ec_o.jpg  ...          4            0\n",
              "2       30601258@N03  10437979845_5985be4b26_o.jpg  ...          4            1\n",
              "3       30601258@N03  10437979845_5985be4b26_o.jpg  ...          4            0\n",
              "4       30601258@N03  11816644924_075c3d8d59_o.jpg  ...          4            0\n",
              "...              ...                           ...  ...        ...          ...\n",
              "19341  101515718@N03  10587826073_6663f5b654_o.jpg  ...          4            1\n",
              "19342  101515718@N03  10587571495_a61785cd06_o.jpg  ...          4            0\n",
              "19343  101515718@N03  10587571495_a61785cd06_o.jpg  ...          4            1\n",
              "19344   50458575@N08   9426695459_9e8b347604_o.jpg  ...          4            1\n",
              "19345   50458575@N08   9429464468_1bfc39ecfb_o.jpg  ...          4            1\n",
              "\n",
              "[17452 rows x 16 columns]"
            ]
          },
          "metadata": {},
          "execution_count": 16
        }
      ]
    },
    {
      "cell_type": "code",
      "metadata": {
        "colab": {
          "base_uri": "https://localhost:8080/"
        },
        "id": "F12xjXHoD58g",
        "outputId": "b2cf35e1-f496-499f-83c2-d233e245aa33"
      },
      "source": [
        "row_index = 4\n",
        "landmark_eg= pd.read_csv(fold_combined.loc[row_index, 'landmarks_path'])\n",
        "print(landmark_eg)\n",
        "\n",
        "img_eg_path = fold_combined.loc[row_index, 'image_path']\n",
        "landmark_eg = np.asarray(landmark_eg)[1:]\n",
        "landmark_eg = landmark_eg.astype('float').reshape(-1, 2)\n",
        "\n",
        "print(landmark_eg)\n",
        "print('Image name: {}'.format(img_eg_path))\n",
        "print('Landmarks shape: {}'.format(landmark_eg.shape))\n",
        "print('First 4 Landmarks: {}'.format(landmark_eg[:4]))"
      ],
      "execution_count": 17,
      "outputs": [
        {
          "output_type": "stream",
          "name": "stdout",
          "text": [
            "                               69       0\n",
            "x      y      dx    dy        x_c     y_c\n",
            "265.31 265.31 65.51 65.51  298.07  298.07\n",
            "251.12 265.31 65.51 65.51  283.87  298.07\n",
            "                    65.51  283.87  298.07\n",
            "278.41 265.31 65.51 65.51  311.17  298.07\n",
            "...                           ...     ...\n",
            "397.42 317.72 65.51 65.51  430.18  350.47\n",
            "410.52 291.52 65.51 65.51  443.28  324.27\n",
            "423.63 265.31 65.51 65.51  456.38  298.07\n",
            "       224.91 65.51 65.51  456.38  257.67\n",
            "       185.61 65.51 65.51  456.38  218.36\n",
            "\n",
            "[69 rows x 2 columns]\n",
            "[[298.07 298.07]\n",
            " [283.87 298.07]\n",
            " [283.87 298.07]\n",
            " [311.17 298.07]\n",
            " [311.17 298.07]\n",
            " [298.07 283.87]\n",
            " [298.07 270.77]\n",
            " [298.07 244.57]\n",
            " [298.07 231.47]\n",
            " [257.67 244.57]\n",
            " [257.67 244.57]\n",
            " [244.57 244.57]\n",
            " [244.57 231.47]\n",
            " [244.57 231.47]\n",
            " [231.47 244.57]\n",
            " [192.16 218.36]\n",
            " [205.26 205.26]\n",
            " [218.36 192.16]\n",
            " [244.57 205.26]\n",
            " [257.67 218.36]\n",
            " [350.47 231.47]\n",
            " [363.58 231.47]\n",
            " [376.68 231.47]\n",
            " [350.47 218.36]\n",
            " [363.58 218.36]\n",
            " [376.68 218.36]\n",
            " [417.07 192.16]\n",
            " [403.97 192.16]\n",
            " [376.68 192.16]\n",
            " [363.58 192.16]\n",
            " [337.37 205.26]\n",
            " [298.07 311.17]\n",
            " [283.87 311.17]\n",
            " [270.77 324.27]\n",
            " [270.77 350.47]\n",
            " [270.77 337.37]\n",
            " [283.87 324.27]\n",
            " [298.07 324.27]\n",
            " [337.37 311.17]\n",
            " [363.58 324.27]\n",
            " [376.68 337.37]\n",
            " [376.68 337.37]\n",
            " [350.47 324.27]\n",
            " [376.68 363.58]\n",
            " [363.58 350.47]\n",
            " [363.58 376.68]\n",
            " [337.37 363.58]\n",
            " [311.17 376.68]\n",
            " [311.17 350.47]\n",
            " [298.07 363.58]\n",
            " [337.37 376.68]\n",
            " [337.37 443.28]\n",
            " [298.07 430.18]\n",
            " [270.77 403.97]\n",
            " [244.57 363.58]\n",
            " [218.36 337.37]\n",
            " [205.26 311.17]\n",
            " [192.16 270.77]\n",
            " [192.16 218.36]\n",
            " [192.16 177.97]\n",
            " [363.58 430.18]\n",
            " [389.78 403.97]\n",
            " [417.07 389.78]\n",
            " [430.18 350.47]\n",
            " [443.28 324.27]\n",
            " [456.38 298.07]\n",
            " [456.38 257.67]\n",
            " [456.38 218.36]]\n",
            "Image name: /content/drive/MyDrive/MSAI CV/MSAI CV Project/Data/faces/30601258@N03/coarse_tilt_aligned_face.2.11816644924_075c3d8d59_o.jpg\n",
            "Landmarks shape: (68, 2)\n",
            "First 4 Landmarks: [[298.07 298.07]\n",
            " [283.87 298.07]\n",
            " [283.87 298.07]\n",
            " [311.17 298.07]]\n"
          ]
        }
      ]
    },
    {
      "cell_type": "code",
      "metadata": {
        "colab": {
          "base_uri": "https://localhost:8080/",
          "height": 269
        },
        "id": "zERrCq5TEJkN",
        "outputId": "599ad008-3b9d-4923-8c72-7bdaa0776970"
      },
      "source": [
        "def show_landmarks(image, landmarks):\n",
        "    \"\"\"Show image with landmarks\"\"\"\n",
        "    plt.imshow(image)\n",
        "    plt.scatter(landmarks[:, 0], landmarks[:, 1], s=10, marker='.', c='r')\n",
        "    plt.pause(0.001)  # pause a bit so that plots are updated\n",
        "\n",
        "plt.figure()\n",
        "show_landmarks(io.imread(img_eg_path),landmark_eg)\n",
        "plt.show()"
      ],
      "execution_count": 18,
      "outputs": [
        {
          "output_type": "display_data",
          "data": {
            "image/png": "[encoded data removed]",
            "text/plain": [
              "<Figure size 432x288 with 1 Axes>"
            ]
          },
          "metadata": {
            "needs_background": "light"
          }
        }
      ]
    },
    {
      "cell_type": "code",
      "metadata": {
        "id": "BJYZt9KUuICs"
      },
      "source": [
        "class FaceLandmarksDataset(Dataset):\n",
        "    \"\"\"Face Landmarks dataset.\"\"\"\n",
        "\n",
        "    def __init__(self, csv_file, model, transform=None):\n",
        "        \"\"\"\n",
        "        Args:\n",
        "            csv_file (string): Path to the csv file with annotations.\n",
        "            root_dir (string): Directory with all the images.\n",
        "            transform (callable, optional): Optional transform to be applied\n",
        "                on a sample.\n",
        "        \"\"\"\n",
        "        #self.landmarks_frame = pd.read_csv(csv_file)\n",
        "        self.dataset_df = pd.read_csv(csv_file)\n",
        "        self.model = model\n",
        "        self.transform = transform\n",
        "\n",
        "    def __len__(self):\n",
        "        return len(self.dataset_df)\n",
        "\n",
        "    def __getitem__(self, idx):\n",
        "        if torch.is_tensor(idx):\n",
        "            idx = idx.tolist()\n",
        "\n",
        "        landmark_sample = pd.read_csv(self.dataset_df.loc[idx, 'landmarks_path'])\n",
        "\n",
        "        img_sample_path = self.dataset_df.loc[idx, 'image_path']\n",
        "        landmark_sample = np.asarray(landmark_sample)[1:]\n",
        "        landmark_sample = landmark_sample.astype('float').reshape(-1, 2)\n",
        "\n",
        "        image_sample = io.imread(img_sample_path)\n",
        "        #image_sample = image_sample.astype('float')\n",
        "\n",
        "        if self.model == 'gender':\n",
        "            label = self.dataset_df['label_gender'][idx]\n",
        "        elif self.model == 'age':\n",
        "            label = self.dataset_df['label_age'][idx]\n",
        "        else:\n",
        "            print('Please specify \"gender\" or \"age\".')\n",
        "            label = None\n",
        "\n",
        "        label = np.asarray(label)\n",
        "\n",
        "        #sample = {'image': image_sample, 'landmarks': landmark_sample, 'label': label}\n",
        "        sample = (image_sample, landmark_sample, label)\n",
        "\n",
        "        if self.transform:\n",
        "            sample = self.transform(sample)\n",
        "\n",
        "        return sample"
      ],
      "execution_count": 19,
      "outputs": []
    },
    {
      "cell_type": "code",
      "metadata": {
        "id": "1_RIc3_F-PXV"
      },
      "source": [
        "fold_combined.to_csv('/content/drive/MyDrive/MSAI CV/MSAI CV Project/fold_combined.csv')"
      ],
      "execution_count": 20,
      "outputs": []
    },
    {
      "cell_type": "code",
      "metadata": {
        "colab": {
          "base_uri": "https://localhost:8080/",
          "height": 612
        },
        "id": "H3G2yZjxl4Rn",
        "outputId": "03a9aa79-3874-4d34-a292-c52b1694a7ac"
      },
      "source": [
        "face_dataset_trial = FaceLandmarksDataset(csv_file='/content/drive/MyDrive/MSAI CV/MSAI CV Project/fold_combined.csv', model = 'gender')\n",
        "\n",
        "fig = plt.figure()\n",
        "\n",
        "for i in range(len(face_dataset_trial)):\n",
        "    sample = face_dataset_trial[i]\n",
        "\n",
        "    #print(i, sample['image'].shape, sample['landmarks'].shape, sample['label'].shape, sample['label'])\n",
        "    print(i, sample[0].shape, sample[1].shape, sample[2].shape, sample[2])\n",
        "    print(i, sample[0].dtype, sample[1].dtype, sample[2].dtype)\n",
        "\n",
        "    ax = plt.subplot(1, 5, i + 1)\n",
        "    plt.tight_layout()\n",
        "    ax.set_title('Sample #{}'.format(i))\n",
        "    ax.axis('off')\n",
        "    show_landmarks(sample[0], sample[1])\n",
        "\n",
        "    if i == 4:\n",
        "        break"
      ],
      "execution_count": 21,
      "outputs": [
        {
          "output_type": "stream",
          "name": "stdout",
          "text": [
            "0 (600, 764, 3) (68, 2) () 1\n",
            "0 uint8 float64 int64\n"
          ]
        },
        {
          "output_type": "display_data",
          "data": {
            "image/png": "[encoded data removed]",
            "text/plain": [
              "<Figure size 432x288 with 1 Axes>"
            ]
          },
          "metadata": {
            "needs_background": "light"
          }
        },
        {
          "output_type": "stream",
          "name": "stdout",
          "text": [
            "1 (601, 600, 3) (68, 2) () 0\n",
            "1 uint8 float64 int64\n"
          ]
        },
        {
          "output_type": "display_data",
          "data": {
            "image/png": "[encoded data removed]",
            "text/plain": [
              "<Figure size 432x288 with 1 Axes>"
            ]
          },
          "metadata": {
            "needs_background": "light"
          }
        },
        {
          "output_type": "stream",
          "name": "stdout",
          "text": [
            "2 (600, 600, 3) (68, 2) () 1\n",
            "2 uint8 float64 int64\n"
          ]
        },
        {
          "output_type": "display_data",
          "data": {
            "image/png": "[encoded data removed]",
            "text/plain": [
              "<Figure size 432x288 with 1 Axes>"
            ]
          },
          "metadata": {
            "needs_background": "light"
          }
        },
        {
          "output_type": "stream",
          "name": "stdout",
          "text": [
            "3 (485, 484, 3) (68, 2) () 0\n",
            "3 uint8 float64 int64\n"
          ]
        },
        {
          "output_type": "display_data",
          "data": {
            "image/png": "[encoded data removed]",
            "text/plain": [
              "<Figure size 432x288 with 1 Axes>"
            ]
          },
          "metadata": {
            "needs_background": "light"
          }
        },
        {
          "output_type": "stream",
          "name": "stdout",
          "text": [
            "4 (601, 600, 3) (68, 2) () 0\n",
            "4 uint8 float64 int64\n"
          ]
        },
        {
          "output_type": "display_data",
          "data": {
            "image/png": "[encoded data removed]",
            "text/plain": [
              "<Figure size 432x288 with 1 Axes>"
            ]
          },
          "metadata": {
            "needs_background": "light"
          }
        }
      ]
    },
    {
      "cell_type": "code",
      "metadata": {
        "id": "HErPlbCI0HKC"
      },
      "source": [
        "class Rescale(object):\n",
        "    \"\"\"Rescale the image in a sample to a given size.\n",
        "\n",
        "    Args:\n",
        "        output_size (tuple or int): Desired output size. If tuple, output is\n",
        "            matched to output_size. If int, smaller of image edges is matched\n",
        "            to output_size keeping aspect ratio the same.\n",
        "    \"\"\"\n",
        "\n",
        "    def __init__(self, output_size):\n",
        "        assert isinstance(output_size, (int, tuple))\n",
        "        self.output_size = output_size\n",
        "\n",
        "    def __call__(self, sample):\n",
        "        #image, landmarks, label = sample['image'], sample['landmarks'], sample['label']\n",
        "        image, landmarks, label = sample[0], sample[1], sample[2]\n",
        "\n",
        "        h, w = image.shape[:2]\n",
        "        #if isinstance(self.output_size, int):\n",
        "            #if h > w:\n",
        "            #    new_h, new_w = self.output_size * h / w, self.output_size\n",
        "            #else:\n",
        "            #    new_h, new_w = self.output_size, self.output_size * w / h\n",
        "        #else:\n",
        "        new_h, new_w = self.output_size, self.output_size \n",
        "\n",
        "        new_h, new_w = int(new_h), int(new_w)\n",
        "\n",
        "        img = transform.resize(image, (new_h, new_w))\n",
        "\n",
        "        # h and w are swapped for landmarks because for images,\n",
        "        # x and y axes are axis 1 and 0 respectively\n",
        "        landmarks = landmarks * [new_w / w, new_h / h]\n",
        "\n",
        "        #return {'image': img, 'landmarks': landmarks, 'label': label}\n",
        "        return (img, landmarks, label)\n",
        "\n",
        "class RandomCrop(object):\n",
        "    \"\"\"Crop randomly the image in a sample.\n",
        "\n",
        "    Args:\n",
        "        output_size (tuple or int): Desired output size. If int, square crop\n",
        "            is made.\n",
        "    \"\"\"\n",
        "\n",
        "    def __init__(self, output_size):\n",
        "        assert isinstance(output_size, (int, tuple))\n",
        "        if isinstance(output_size, int):\n",
        "            self.output_size = (output_size, output_size)\n",
        "        else:\n",
        "            assert len(output_size) == 2\n",
        "            self.output_size = output_size\n",
        "\n",
        "    def __call__(self, sample):\n",
        "        #image, landmarks, label = sample['image'], sample['landmarks'], sample['label']\n",
        "        image, landmarks, label = sample[0], sample[1], sample[2]\n",
        "\n",
        "        h, w = image.shape[:2]\n",
        "        new_h, new_w = self.output_size\n",
        "\n",
        "        top = np.random.randint(0, h - new_h)\n",
        "        left = np.random.randint(0, w - new_w)\n",
        "\n",
        "        image = image[top: top + new_h, left: left + new_w]\n",
        "\n",
        "        landmarks = landmarks - [left, top]\n",
        "\n",
        "        #return {'image': image, 'landmarks': landmarks, 'label': label}\n",
        "        return (image, landmarks, label)\n",
        "\n",
        "class ToTensor(object):\n",
        "    \"\"\"Convert ndarrays in sample to Tensors.\"\"\"\n",
        "\n",
        "    def __call__(self, sample):\n",
        "        #image, landmarks, label = sample['image'], sample['landmarks'], sample['label']\n",
        "        image, landmarks, label = sample[0], sample[1], sample[2]\n",
        "\n",
        "        # swap color axis because\n",
        "        # numpy image: H x W x C\n",
        "        # torch image: C x H x W\n",
        "        image = image.transpose((2, 0, 1))\n",
        "        return (torch.from_numpy(image), torch.from_numpy(landmarks), torch.from_numpy(label))"
      ],
      "execution_count": 22,
      "outputs": []
    },
    {
      "cell_type": "code",
      "metadata": {
        "colab": {
          "base_uri": "https://localhost:8080/",
          "height": 499
        },
        "id": "o9gis1Rq4mit",
        "outputId": "f22f7b2c-ab7b-48c9-f80b-3590cf65efd2"
      },
      "source": [
        "scale = Rescale(256)\n",
        "crop = RandomCrop(128)\n",
        "composed = transforms.Compose([Rescale(256),\n",
        "                               RandomCrop(224)])\n",
        "\n",
        "# Apply each of the above transforms on sample.\n",
        "fig = plt.figure()\n",
        "sample = face_dataset_trial[0]\n",
        "for i, tsfrm in enumerate([scale, crop, composed]):\n",
        "    transformed_sample = tsfrm(sample)\n",
        "\n",
        "    ax = plt.subplot(1, 3, i + 1)\n",
        "    plt.tight_layout()\n",
        "    ax.set_title(type(tsfrm).__name__)\n",
        "    #show_landmarks(transformed_sample['image'], transformed_sample['landmarks'])\n",
        "    show_landmarks(transformed_sample[0], transformed_sample[1])\n",
        "\n",
        "plt.show()"
      ],
      "execution_count": 23,
      "outputs": [
        {
          "output_type": "display_data",
          "data": {
            "image/png": "[encoded data removed]",
            "text/plain": [
              "<Figure size 432x288 with 1 Axes>"
            ]
          },
          "metadata": {
            "needs_background": "light"
          }
        },
        {
          "output_type": "display_data",
          "data": {
            "image/png": "[encoded data removed]",
            "text/plain": [
              "<Figure size 432x288 with 1 Axes>"
            ]
          },
          "metadata": {
            "needs_background": "light"
          }
        },
        {
          "output_type": "display_data",
          "data": {
            "image/png": "[encoded data removed]",
            "text/plain": [
              "<Figure size 432x288 with 1 Axes>"
            ]
          },
          "metadata": {
            "needs_background": "light"
          }
        }
      ]
    },
    {
      "cell_type": "code",
      "metadata": {
        "colab": {
          "base_uri": "https://localhost:8080/"
        },
        "id": "zatcYsML1qRB",
        "outputId": "9a42232b-a88f-490a-acc9-a706d43dd858"
      },
      "source": [
        "transformed_dataset = FaceLandmarksDataset(csv_file = '/content/drive/MyDrive/MSAI CV/MSAI CV Project/fold_combined.csv', model = 'gender', transform=transforms.Compose([Rescale(256), ToTensor()]))\n",
        "\n",
        "print(len(transformed_dataset))\n",
        "\n",
        "for i in range(len(transformed_dataset)):\n",
        "    sample = transformed_dataset[i]\n",
        "    #print(i, sample['image'].size(), sample['landmarks'].size(), sample['label'].size())\n",
        "    print(i, sample[0].size(), sample[1].size(), sample[2].size())\n",
        "\n",
        "    if i == 5:\n",
        "        break"
      ],
      "execution_count": 24,
      "outputs": [
        {
          "output_type": "stream",
          "name": "stdout",
          "text": [
            "17452\n",
            "0 torch.Size([3, 256, 256]) torch.Size([68, 2]) torch.Size([])\n",
            "1 torch.Size([3, 256, 256]) torch.Size([68, 2]) torch.Size([])\n",
            "2 torch.Size([3, 256, 256]) torch.Size([68, 2]) torch.Size([])\n",
            "3 torch.Size([3, 256, 256]) torch.Size([68, 2]) torch.Size([])\n",
            "4 torch.Size([3, 256, 256]) torch.Size([68, 2]) torch.Size([])\n",
            "5 torch.Size([3, 256, 256]) torch.Size([68, 2]) torch.Size([])\n"
          ]
        }
      ]
    },
    {
      "cell_type": "code",
      "metadata": {
        "id": "i9rP9iEQg5yE"
      },
      "source": [
        "criterion = nn.CrossEntropyLoss()\n",
        "my_lr=0.25 \n",
        "bs= 20"
      ],
      "execution_count": 25,
      "outputs": []
    },
    {
      "cell_type": "code",
      "metadata": {
        "colab": {
          "base_uri": "https://localhost:8080/",
          "height": 269
        },
        "id": "FoGPsqtWGQvr",
        "outputId": "48757d2a-ccfd-47ae-b4d4-b3f4009be6fe"
      },
      "source": [
        "\n",
        "train_instances = round(len(transformed_dataset)*0.75)\n",
        "test_instances = len(transformed_dataset) - train_instances\n",
        "\n",
        "train_dataset, test_dataset = torch.utils.data.random_split(transformed_dataset, [train_instances, test_instances], generator=torch.Generator().manual_seed(42))\n",
        "\n",
        "train_dataloader = DataLoader(train_dataset, batch_size=bs, shuffle=True, num_workers=0)\n",
        "print(len(train_dataloader))\n",
        "#print(next(iter(train_dataloader)))\n",
        "\n",
        "train_features, _, train_labels = next(iter(train_dataloader))\n",
        "print(f\"train feature batch shape: {train_features.size()}\")\n",
        "print(f\"train labels batch shape: {train_labels.size()}\")\n",
        "\n",
        "\n",
        "test_dataloader = DataLoader(test_dataset, batch_size=bs, shuffle=True, num_workers=0)\n",
        "print(len(test_dataloader))\n",
        "#print(next(iter(test_dataloader)))\n",
        "\n",
        "test_features, _, test_labels = next(iter(test_dataloader))\n",
        "print(f\"test feature batch shape: {test_features.size()}\")\n",
        "print(f\"test labels batch shape: {test_labels.size()}\")\n",
        "\n",
        "\n",
        "# Helper function to show a batch\n",
        "def show_landmarks_batch(sample_batched):\n",
        "    \"\"\"Show image with landmarks for a batch of samples.\"\"\"\n",
        "    #images_batch, landmarks_batch = sample_batched['image'], sample_batched['landmarks']\n",
        "    images_batch, landmarks_batch = sample_batched[0], sample_batched[1]\n",
        "    batch_size = len(images_batch)\n",
        "    im_size = images_batch.size(2)\n",
        "    grid_border_size = 2\n",
        "\n",
        "    grid = utils.make_grid(images_batch)\n",
        "    plt.imshow(grid.numpy().transpose((1, 2, 0)))\n",
        "\n",
        "    for i in range(batch_size):\n",
        "        plt.scatter(landmarks_batch[i, :, 0].numpy() + i * im_size + (i + 1) * grid_border_size, landmarks_batch[i, :, 1].numpy() + grid_border_size, s=10, marker='.', c='r')\n",
        "\n",
        "        plt.title('Batch from dataloader')\n",
        "\n",
        "\n",
        "for i_batch, sample_batched in enumerate(train_dataloader):\n",
        "    #print(i_batch, sample_batched['image'].size(), sample_batched['landmarks'].size())\n",
        "    print(i_batch, sample_batched[0].size(), sample_batched[1].size(), sample_batched[2].size())\n",
        "\n",
        "    if i_batch == 3:\n",
        "        plt.figure()\n",
        "        show_landmarks_batch(sample_batched)\n",
        "        plt.axis('off')\n",
        "        plt.ioff()\n",
        "        plt.show()\n",
        "        break"
      ],
      "execution_count": 26,
      "outputs": [
        {
          "output_type": "stream",
          "name": "stdout",
          "text": [
            "655\n",
            "train feature batch shape: torch.Size([20, 3, 256, 256])\n",
            "train labels batch shape: torch.Size([20])\n",
            "219\n",
            "test feature batch shape: torch.Size([20, 3, 256, 256])\n",
            "test labels batch shape: torch.Size([20])\n",
            "0 torch.Size([20, 3, 256, 256]) torch.Size([20, 68, 2]) torch.Size([20])\n",
            "1 torch.Size([20, 3, 256, 256]) torch.Size([20, 68, 2]) torch.Size([20])\n",
            "2 torch.Size([20, 3, 256, 256]) torch.Size([20, 68, 2]) torch.Size([20])\n",
            "3 torch.Size([20, 3, 256, 256]) torch.Size([20, 68, 2]) torch.Size([20])\n"
          ]
        },
        {
          "output_type": "display_data",
          "data": {
            "image/png": "[encoded data removed]",
            "text/plain": [
              "<Figure size 432x288 with 1 Axes>"
            ]
          },
          "metadata": {
            "needs_background": "light"
          }
        }
      ]
    },
    {
      "cell_type": "markdown",
      "metadata": {
        "id": "O2xpwtXSc8_l"
      },
      "source": [
        "# Gender Model"
      ]
    },
    {
      "cell_type": "code",
      "metadata": {
        "id": "Fpwjpmtwc8_m"
      },
      "source": [
        "#X = fold_combined['filepath']\n",
        "#y = fold_combined['label_gender']"
      ],
      "execution_count": 27,
      "outputs": []
    },
    {
      "cell_type": "code",
      "metadata": {
        "id": "yti1CYOkc8_m"
      },
      "source": [
        "#from sklearn.model_selection import train_test_split\n",
        "\n",
        "#X_train, X_test,y_train,y_test = train_test_split(X,y,test_size=0.25,random_state=99)\n",
        "\n",
        "#print(f'train X shape: {len(X_train)}')\n",
        "#print(f'test x shape: {len(X_test)}')\n",
        "#print(f'train y shape: {len(y_train)}')\n",
        "#print(f'test y shape: {len(y_test)}')"
      ],
      "execution_count": 28,
      "outputs": []
    },
    {
      "cell_type": "code",
      "metadata": {
        "id": "aSQf1bOSc8_n"
      },
      "source": [
        "#y_train = torch.from_numpy(np.asarray(y_train))\n",
        "#y_train = y_train.type(torch.long)\n",
        "#y_test = torch.from_numpy(np.asarray(y_test))\n",
        "#y_test = y_test.type(torch.long)\n",
        "\n",
        "#print(f'y_train: {y_train.size()}')\n",
        "#print(f'y_test: {y_test.size()}')"
      ],
      "execution_count": 29,
      "outputs": []
    },
    {
      "cell_type": "code",
      "metadata": {
        "id": "a9T_nPJPc8_n"
      },
      "source": [
        "#from PIL import Image\n",
        "\n",
        "#def get_image(series):\n",
        "#    results = []\n",
        "#    for row in series:\n",
        "#        image = Image.open(row)\n",
        "#        image = image.resize((256,256))\n",
        "#        results.append(np.asarray(image))\n",
        "#    return results\n",
        "\n",
        "# convert list to array to tensor\n",
        "#X_train_images = torch.from_numpy(np.asarray(get_image(X_train)))\n",
        "#X_train_images = X_train_images.permute(0, 3, 1, 2)\n",
        "#X_train_images = X_train_images.type(torch.float)\n",
        "#print(f'X_train_images: {X_train_images.size()}')\n",
        "\n",
        "#X_test_images = torch.from_numpy(np.asarray(get_image(X_test)))\n",
        "#X_test_images = X_test_images.permute(0, 3, 1, 2)\n",
        "#X_test_images = X_test_images.type(torch.float)\n",
        "#print(f'X_test_images: {X_test_images.size()}')\n"
      ],
      "execution_count": 30,
      "outputs": []
    },
    {
      "cell_type": "code",
      "metadata": {
        "id": "d_cImXvAc8_p"
      },
      "source": [
        "class model_gender(nn.Module): # VGG_convnet 19 layers\n",
        "\n",
        "    def __init__(self):\n",
        "        super(model_gender,self).__init__()\n",
        "\n",
        "        # block 1:         3 x 256 x 256 --> 64 x 64 x 64        \n",
        "        self.conv1a = nn.Conv2d(3,   64,  kernel_size=3, padding=1 )\n",
        "        self.conv1b = nn.Conv2d(64,  64,  kernel_size=3, padding=1 )\n",
        "        self.conv1c = nn.Conv2d(64,  64,  kernel_size=3, padding=1 ) # added this layer\n",
        "        self.pool1  = nn.MaxPool2d(4,4)\n",
        "\n",
        "        # block 2:         64 x 64 x 64 --> 128 x 16 x 16\n",
        "        self.conv2a = nn.Conv2d(64,  128, kernel_size=3, padding=1 )\n",
        "        self.conv2b = nn.Conv2d(128, 128, kernel_size=3, padding=1 )\n",
        "        self.conv2c = nn.Conv2d(128, 128, kernel_size=3, padding=1 ) # added this layer\n",
        "        self.pool2  = nn.MaxPool2d(4,4)\n",
        "\n",
        "        # block 3:         128 x 16 x 16 --> 256 x 4 x 4        \n",
        "        self.conv3a = nn.Conv2d(128, 256, kernel_size=3, padding=1 )\n",
        "        self.conv3b = nn.Conv2d(256, 256, kernel_size=3, padding=1 )\n",
        "        self.conv3c = nn.Conv2d(256, 256, kernel_size=3, padding=1 ) # added this layer\n",
        "        self.conv3d = nn.Conv2d(256, 256, kernel_size=3, padding=1 ) # added this layer\n",
        "        self.conv3e = nn.Conv2d(256, 256, kernel_size=3, padding=1 ) # added this layer\n",
        "        self.pool3  = nn.MaxPool2d(4,4)\n",
        "        \n",
        "        #block 4:          256 x 4 x 4 --> 512 x 2 x 2\n",
        "        self.conv4a = nn.Conv2d(256, 512, kernel_size=3, padding=1 )\n",
        "        self.conv4b = nn.Conv2d(512, 512, kernel_size=3, padding=1 ) # added this layer\n",
        "        self.conv4c = nn.Conv2d(512, 512, kernel_size=3, padding=1 ) # added this layer\n",
        "        self.conv4d = nn.Conv2d(512, 512, kernel_size=3, padding=1 ) # added this layer\n",
        "        self.conv4e = nn.Conv2d(512, 512, kernel_size=3, padding=1 ) # added this layer\n",
        "        self.pool4  = nn.MaxPool2d(2,2)\n",
        "\n",
        "        # linear layers:   512 x 2 x 2 --> 2048 --> 4096 --> 4096 --> 10\n",
        "        self.linear1 = nn.Linear(2048, 4096)\n",
        "        self.linear2 = nn.Linear(4096, 4096)\n",
        "        self.linear3 = nn.Linear(4096, 10)\n",
        "        \n",
        "    def forward(self, x):\n",
        "\n",
        "        # block 1:         3 x 32 x 32 --> 64 x 16 x 16\n",
        "        x = self.conv1a(x)\n",
        "        x = torch.relu(x)\n",
        "        x = self.conv1b(x)\n",
        "        x = torch.relu(x)\n",
        "        x = self.conv1c(x) # added this\n",
        "        x = torch.relu(x) # added this\n",
        "        x = self.pool1(x)\n",
        "\n",
        "        # block 2:         64 x 16 x 16 --> 128 x 8 x 8\n",
        "        x = self.conv2a(x)\n",
        "        x = torch.relu(x)\n",
        "        x = self.conv2b(x) \n",
        "        x = torch.relu(x)\n",
        "        x = self.conv2c(x) # added this\n",
        "        x = torch.relu(x) # added this\n",
        "        x = self.pool2(x)\n",
        "\n",
        "        # block 3:         128 x 8 x 8 --> 256 x 4 x 4\n",
        "        x = self.conv3a(x)\n",
        "        x = torch.relu(x)\n",
        "        x = self.conv3b(x)\n",
        "        x = torch.relu(x)\n",
        "        x = self.conv3c(x) # added this\n",
        "        x = torch.relu(x) # added this\n",
        "        x = self.conv3d(x) # added this\n",
        "        x = torch.relu(x) # added this\n",
        "        x = self.conv3e(x) # added this\n",
        "        x = torch.relu(x) # added this\n",
        "        x = self.pool3(x)\n",
        "\n",
        "        #block 4:          256 x 4 x 4 --> 512 x 2 x 2\n",
        "        x = self.conv4a(x)\n",
        "        x = torch.relu(x)\n",
        "        x = self.conv4b(x) # added this\n",
        "        x = torch.relu(x) # added this\n",
        "        x = self.conv4c(x) # added this\n",
        "        x = torch.relu(x) # added this\n",
        "        x = self.conv4d(x) # added this\n",
        "        x = torch.relu(x) # added this\n",
        "        x = self.conv4e(x) # added this\n",
        "        x = torch.relu(x) # added this\n",
        "        x = self.pool4(x)\n",
        "\n",
        "        # linear layers:   512 x 2 x 2 --> 2048 --> 4096 --> 4096 --> 10\n",
        "        x = x.view(-1, 2048)\n",
        "        x = self.linear1(x)\n",
        "        x = F.relu(x)\n",
        "        x = self.linear2(x)\n",
        "        x = F.relu(x)\n",
        "        x = self.linear3(x) \n",
        "        \n",
        "        return x"
      ],
      "execution_count": 31,
      "outputs": []
    },
    {
      "cell_type": "code",
      "metadata": {
        "id": "JslGetRZc8_p",
        "colab": {
          "base_uri": "https://localhost:8080/"
        },
        "outputId": "363a8ab9-cfd8-4716-932d-cadcf5a4ce39"
      },
      "source": [
        "net_gender = model_gender()\n",
        "print(net_gender)"
      ],
      "execution_count": 32,
      "outputs": [
        {
          "output_type": "stream",
          "name": "stdout",
          "text": [
            "model_gender(\n",
            "  (conv1a): Conv2d(3, 64, kernel_size=(3, 3), stride=(1, 1), padding=(1, 1))\n",
            "  (conv1b): Conv2d(64, 64, kernel_size=(3, 3), stride=(1, 1), padding=(1, 1))\n",
            "  (conv1c): Conv2d(64, 64, kernel_size=(3, 3), stride=(1, 1), padding=(1, 1))\n",
            "  (pool1): MaxPool2d(kernel_size=4, stride=4, padding=0, dilation=1, ceil_mode=False)\n",
            "  (conv2a): Conv2d(64, 128, kernel_size=(3, 3), stride=(1, 1), padding=(1, 1))\n",
            "  (conv2b): Conv2d(128, 128, kernel_size=(3, 3), stride=(1, 1), padding=(1, 1))\n",
            "  (conv2c): Conv2d(128, 128, kernel_size=(3, 3), stride=(1, 1), padding=(1, 1))\n",
            "  (pool2): MaxPool2d(kernel_size=4, stride=4, padding=0, dilation=1, ceil_mode=False)\n",
            "  (conv3a): Conv2d(128, 256, kernel_size=(3, 3), stride=(1, 1), padding=(1, 1))\n",
            "  (conv3b): Conv2d(256, 256, kernel_size=(3, 3), stride=(1, 1), padding=(1, 1))\n",
            "  (conv3c): Conv2d(256, 256, kernel_size=(3, 3), stride=(1, 1), padding=(1, 1))\n",
            "  (conv3d): Conv2d(256, 256, kernel_size=(3, 3), stride=(1, 1), padding=(1, 1))\n",
            "  (conv3e): Conv2d(256, 256, kernel_size=(3, 3), stride=(1, 1), padding=(1, 1))\n",
            "  (pool3): MaxPool2d(kernel_size=4, stride=4, padding=0, dilation=1, ceil_mode=False)\n",
            "  (conv4a): Conv2d(256, 512, kernel_size=(3, 3), stride=(1, 1), padding=(1, 1))\n",
            "  (conv4b): Conv2d(512, 512, kernel_size=(3, 3), stride=(1, 1), padding=(1, 1))\n",
            "  (conv4c): Conv2d(512, 512, kernel_size=(3, 3), stride=(1, 1), padding=(1, 1))\n",
            "  (conv4d): Conv2d(512, 512, kernel_size=(3, 3), stride=(1, 1), padding=(1, 1))\n",
            "  (conv4e): Conv2d(512, 512, kernel_size=(3, 3), stride=(1, 1), padding=(1, 1))\n",
            "  (pool4): MaxPool2d(kernel_size=2, stride=2, padding=0, dilation=1, ceil_mode=False)\n",
            "  (linear1): Linear(in_features=2048, out_features=4096, bias=True)\n",
            "  (linear2): Linear(in_features=4096, out_features=4096, bias=True)\n",
            "  (linear3): Linear(in_features=4096, out_features=10, bias=True)\n",
            ")\n"
          ]
        }
      ]
    },
    {
      "cell_type": "code",
      "metadata": {
        "id": "VILStut8jQsc"
      },
      "source": [
        "# send net_gender to device\n",
        "net_gender = net_gender.to(device)"
      ],
      "execution_count": 33,
      "outputs": []
    },
    {
      "cell_type": "code",
      "metadata": {
        "id": "RvcS6-Csc8_q"
      },
      "source": [
        "#mean = X_train_images.mean()\n",
        "#print(mean)\n",
        "#std = X_train_images.std()\n",
        "#print(std)"
      ],
      "execution_count": 34,
      "outputs": []
    },
    {
      "cell_type": "code",
      "metadata": {
        "id": "o_DspiLWc8_q"
      },
      "source": [
        "def get_error( scores , labels ):\n",
        "\n",
        "    bs=scores.size(0)\n",
        "    predicted_labels = scores.argmax(dim=1)\n",
        "    indicator = (predicted_labels == labels)\n",
        "    num_matches=indicator.sum()\n",
        "    \n",
        "    return 1-num_matches.float()/bs    "
      ],
      "execution_count": 35,
      "outputs": []
    },
    {
      "cell_type": "code",
      "metadata": {
        "id": "1mGyxoOuc8_q"
      },
      "source": [
        "def eval_on_test_set():\n",
        "\n",
        "    running_error=0\n",
        "    num_batches=0\n",
        "\n",
        "    for i in range(0,len(test_dataloader),bs):\n",
        "\n",
        "        #minibatch_data =  X_test_images[i:i+bs]\n",
        "        #minibatch_label= y_test[i:i+bs]\n",
        "\n",
        "        minibatch_data, _, minibatch_label=  next(iter(test_dataloader))\n",
        "\n",
        "        minibatch_data = minibatch_data.float()\n",
        "\n",
        "        #send to GPU, if desired\n",
        "        minibatch_data=minibatch_data.to(device)\n",
        "        minibatch_label=minibatch_label.to(device)\n",
        "        \n",
        "        #inputs = (minibatch_data - mean)/std\n",
        "\n",
        "        inputs = minibatch_data\n",
        "\n",
        "        scores=net_gender( inputs ) \n",
        "\n",
        "        error = get_error( scores , minibatch_label)\n",
        "\n",
        "        running_error += error.item()\n",
        "\n",
        "        num_batches+=1\n",
        "\n",
        "    total_error = running_error/num_batches\n",
        "    print( 'error rate on test set =', total_error*100 ,'percent')"
      ],
      "execution_count": 36,
      "outputs": []
    },
    {
      "cell_type": "code",
      "metadata": {
        "id": "zvrT3twAc8_r",
        "colab": {
          "base_uri": "https://localhost:8080/"
        },
        "outputId": "a9b58e6a-a86c-4989-d928-b328a667c782"
      },
      "source": [
        "start=time.time()\n",
        "\n",
        "for epoch in range(1, 21):\n",
        "#for epoch in range(2):\n",
        "\n",
        "    # divide the learning rate by 2 at epoch 10, 14 and 18\n",
        "    if epoch==10 or epoch == 14 or epoch==18:\n",
        "      my_lr = my_lr / 2\n",
        "    \n",
        "    # create a new optimizer at the beginning of each epoch: give the current learning rate.   \n",
        "    optimizer=torch.optim.SGD( net_gender.parameters() , lr=my_lr )\n",
        "        \n",
        "    # set the running quatities to zero at the beginning of the epoch\n",
        "    running_loss=0\n",
        "    running_error=0\n",
        "    num_batches=0\n",
        "    \n",
        "    # set the order in which to visit the image from the training set\n",
        "    # shuffled_indices=torch.randperm(13089)\n",
        " \n",
        "    for count in range(0,len(train_dataloader),bs):\n",
        "    \n",
        "        # Set the gradients to zeros\n",
        "        optimizer.zero_grad()\n",
        "        \n",
        "        # create a minibatch       \n",
        "        \n",
        "        # indices=shuffled_indices[count:count+bs]\n",
        "        # minibatch_data =  X_train_images[indices]\n",
        "        # minibatch_label=  y_train[indices]\n",
        "\n",
        "        minibatch_data, _, minibatch_label = next(iter(train_dataloader))\n",
        "\n",
        "        minibatch_data = minibatch_data.float()\n",
        "\n",
        "        # send them to the gpu, if desired\n",
        "        minibatch_data=minibatch_data.to(device)\n",
        "        minibatch_label=minibatch_label.to(device)\n",
        "        \n",
        "        # normalize the minibatch (this is the only difference compared to before!)\n",
        "        #inputs = (minibatch_data - mean)/std\n",
        "        inputs = minibatch_data\n",
        "\n",
        "        # tell Pytorch to start tracking all operations that will be done on \"inputs\"\n",
        "        inputs.requires_grad_()\n",
        "\n",
        "        # forward the minibatch through the net \n",
        "        scores=net_gender( inputs ) \n",
        "\n",
        "        # Compute the average of the losses of the data points in the minibatch\n",
        "        loss =  criterion( scores , minibatch_label) \n",
        "        \n",
        "        # backward pass to compute dL/dU, dL/dV and dL/dW   \n",
        "        loss.backward()\n",
        "\n",
        "        # do one step of stochastic gradient descent: U=U-lr(dL/dU), V=V-lr(dL/dU), ...\n",
        "        optimizer.step()\n",
        "        \n",
        "        # START COMPUTING STATS\n",
        "        \n",
        "        # add the loss of this batch to the running loss\n",
        "        running_loss += loss.detach().item()\n",
        "        \n",
        "        # compute the error made on this batch and add it to the running error       \n",
        "        error = get_error( scores.detach() , minibatch_label)\n",
        "        running_error += error.item()\n",
        "        \n",
        "        num_batches+=1\n",
        "        print(f'{num_batches} : {(time.time()-start)/60}')\n",
        "    \n",
        "    \n",
        "    # compute stats for the full training set\n",
        "    total_loss = running_loss/num_batches\n",
        "    total_error = running_error/num_batches\n",
        "    elapsed = (time.time()-start)/60\n",
        "\n",
        "    print('epoch=',epoch, '\\t time=', elapsed,'min','\\t lr=', my_lr  ,'\\t loss=', total_loss , '\\t error=', total_error*100 ,'percent')\n",
        "    eval_on_test_set() \n",
        "    print(' ')"
      ],
      "execution_count": 37,
      "outputs": [
        {
          "output_type": "stream",
          "name": "stdout",
          "text": [
            "1 : 0.20089571475982665\n",
            "2 : 0.4073639750480652\n",
            "3 : 0.5942663828531901\n",
            "4 : 0.7880402008692423\n",
            "5 : 0.9746198336283366\n",
            "6 : 1.1645761330922444\n",
            "7 : 1.3724643429120382\n",
            "8 : 1.5704698006312052\n",
            "9 : 1.7722364902496337\n",
            "10 : 1.9691129604975381\n",
            "11 : 2.1688273708025614\n",
            "12 : 2.3697924971580506\n",
            "13 : 2.570761263370514\n",
            "14 : 2.7592859903971356\n",
            "15 : 2.94922323624293\n",
            "16 : 3.150524648030599\n",
            "17 : 3.323849248886108\n",
            "18 : 3.5184977730115254\n",
            "19 : 3.7230524897575377\n",
            "20 : 3.897873051961263\n",
            "21 : 4.103094176451365\n",
            "22 : 4.3223066329956055\n",
            "23 : 4.513326684633891\n",
            "24 : 4.709686541557312\n",
            "25 : 4.877034318447113\n",
            "26 : 5.122436249256134\n",
            "27 : 5.319278311729431\n",
            "28 : 5.514147428671519\n",
            "29 : 5.7182251135508215\n",
            "30 : 5.917657073338827\n",
            "31 : 6.1099155902862545\n",
            "32 : 6.312834390004476\n",
            "33 : 6.503988250096639\n",
            "epoch= 1 \t time= 6.503990089893341 min \t lr= 0.25 \t loss= 1.0786370526660571 \t error= 53.63636323899934 percent\n",
            "error rate on test set = 45.90908939188177 percent\n",
            " \n",
            "1 : 8.833005166053772\n",
            "2 : 9.04326669772466\n",
            "3 : 9.23072107632955\n",
            "4 : 9.442123345534007\n",
            "5 : 9.603417114416759\n",
            "6 : 9.804745252927145\n",
            "7 : 9.992989198366802\n",
            "8 : 10.185289033253987\n",
            "9 : 10.384869428475698\n",
            "10 : 10.601212207476298\n",
            "11 : 10.777400088310241\n",
            "12 : 10.953459858894348\n",
            "13 : 11.10648946762085\n",
            "14 : 11.319889092445374\n",
            "15 : 11.557805593808492\n",
            "16 : 11.715235579013825\n",
            "17 : 11.880012814203898\n",
            "18 : 12.12763754526774\n",
            "19 : 12.322144643465679\n",
            "20 : 12.531418371200562\n",
            "21 : 12.72256246805191\n",
            "22 : 12.882457089424133\n",
            "23 : 13.055626912911732\n",
            "24 : 13.249041708310445\n",
            "25 : 13.459237595399221\n",
            "26 : 13.64286435842514\n",
            "27 : 13.844450298945109\n",
            "28 : 14.023921998341878\n",
            "29 : 14.18819526831309\n",
            "30 : 14.376429470380147\n",
            "31 : 14.578201750914255\n",
            "32 : 14.758756419022879\n",
            "33 : 14.936558576424916\n",
            "epoch= 2 \t time= 14.936560674508412 min \t lr= 0.25 \t loss= 0.7393046870376124 \t error= 47.42424144889369 percent\n",
            "error rate on test set = 45.90908830816095 percent\n",
            " \n",
            "1 : 17.16143843730291\n",
            "2 : 17.38634990056356\n",
            "3 : 17.564941747983298\n",
            "4 : 17.734898134072623\n",
            "5 : 17.90533289909363\n",
            "6 : 18.10310205221176\n",
            "7 : 18.265957140922545\n",
            "8 : 18.465396853288016\n",
            "9 : 18.654507791996004\n",
            "10 : 18.8137552579244\n",
            "11 : 18.99265408118566\n",
            "12 : 19.175662167867024\n",
            "13 : 19.363892622788747\n",
            "14 : 19.53036483923594\n",
            "15 : 19.732658672332764\n",
            "16 : 19.886974155902863\n",
            "17 : 20.05658518075943\n",
            "18 : 20.232132923603057\n",
            "19 : 20.405642370382946\n",
            "20 : 20.559635285536448\n",
            "21 : 20.718641261259716\n",
            "22 : 20.924813135464987\n",
            "23 : 21.090842779477438\n",
            "24 : 21.276815390586854\n",
            "25 : 21.462356853485108\n",
            "26 : 21.624708779652913\n",
            "27 : 21.78690395752589\n",
            "28 : 21.951061097780862\n",
            "29 : 22.128768952687583\n",
            "30 : 22.308726938565574\n",
            "31 : 22.495520087083182\n",
            "32 : 22.68443370660146\n",
            "33 : 22.891995100180306\n",
            "epoch= 3 \t time= 22.891996796925863 min \t lr= 0.25 \t loss= 0.7348278977654197 \t error= 50.30302947217768 percent\n",
            "error rate on test set = 45.90908885002136 percent\n",
            " \n",
            "1 : 25.007177114486694\n",
            "2 : 25.173168436686197\n",
            "3 : 25.348950227101643\n",
            "4 : 25.507282630602518\n",
            "5 : 25.647582606474558\n",
            "6 : 25.830643355846405\n",
            "7 : 26.013768243789674\n",
            "8 : 26.167088194688162\n",
            "9 : 26.33435267607371\n",
            "10 : 26.532701102892556\n",
            "11 : 26.700587316354117\n",
            "12 : 26.875685862700145\n",
            "13 : 27.093471284707388\n",
            "14 : 27.264889001846313\n",
            "15 : 27.423414186636606\n",
            "16 : 27.5989826520284\n",
            "17 : 27.76077948411306\n",
            "18 : 27.898842537403105\n",
            "19 : 28.057865623633067\n",
            "20 : 28.241353857517243\n",
            "21 : 28.42483928600947\n",
            "22 : 28.601200942198435\n",
            "23 : 28.811906492710115\n",
            "24 : 28.955613923072814\n",
            "25 : 29.129313349723816\n",
            "26 : 29.325189630190533\n",
            "27 : 29.520831994215648\n",
            "28 : 29.700308656692506\n",
            "29 : 29.83534036477407\n",
            "30 : 29.984089195728302\n",
            "31 : 30.153577121098838\n",
            "32 : 30.31749879916509\n",
            "33 : 30.49518528779348\n",
            "epoch= 4 \t time= 30.495187457402547 min \t lr= 0.25 \t loss= 0.7331241026069178 \t error= 50.303028749697134 percent\n",
            "error rate on test set = 46.81818105957725 percent\n",
            " \n",
            "1 : 32.506567152341205\n",
            "2 : 32.60360930363337\n",
            "3 : 32.77089025179545\n",
            "4 : 32.90642562707265\n",
            "5 : 33.06415729125341\n",
            "6 : 33.21662228902181\n",
            "7 : 33.356711355845135\n",
            "8 : 33.491288685798644\n",
            "9 : 33.64554380575816\n",
            "10 : 33.8163699388504\n",
            "11 : 33.9737450559934\n",
            "12 : 34.17531649271647\n",
            "13 : 34.34763006766637\n",
            "14 : 34.5145065665245\n",
            "15 : 34.684706672032675\n",
            "16 : 34.86258911689122\n",
            "17 : 35.01350626150767\n",
            "18 : 35.167361573378244\n",
            "19 : 35.30500911871592\n",
            "20 : 35.49064916372299\n",
            "21 : 35.64071324268977\n",
            "22 : 35.81838161945343\n",
            "23 : 35.96464112202327\n",
            "24 : 36.116384239991504\n",
            "25 : 36.2766538977623\n",
            "26 : 36.44529212713242\n",
            "27 : 36.622509344418845\n",
            "28 : 36.81019095182419\n",
            "29 : 36.95920370817184\n",
            "30 : 37.114923469225566\n",
            "31 : 37.28918184836706\n",
            "32 : 37.421855596701306\n",
            "33 : 37.54082851012548\n",
            "epoch= 5 \t time= 37.54083054065704 min \t lr= 0.25 \t loss= 0.7142515814665592 \t error= 46.96969570535602 percent\n",
            "error rate on test set = 46.36363549665971 percent\n",
            " \n",
            "1 : 39.48375157912572\n",
            "2 : 39.67039216359456\n",
            "3 : 39.84277474482854\n",
            "4 : 39.9757994333903\n",
            "5 : 40.1301388502121\n",
            "6 : 40.302770817279814\n",
            "7 : 40.49263575871785\n",
            "8 : 40.63972776333491\n",
            "9 : 40.777410972118375\n",
            "10 : 40.93248783747355\n",
            "11 : 41.073898522059125\n",
            "12 : 41.25142521063487\n",
            "13 : 41.40602657397588\n",
            "14 : 41.58190503120422\n",
            "15 : 41.72934843699137\n",
            "16 : 41.86060152053833\n",
            "17 : 42.012090027332306\n",
            "18 : 42.147950041294095\n",
            "19 : 42.30110771258672\n",
            "20 : 42.462521986166635\n",
            "21 : 42.59813103278478\n",
            "22 : 42.74655148983002\n",
            "23 : 42.887341936429344\n",
            "24 : 43.070059871673585\n",
            "25 : 43.207424696286516\n",
            "26 : 43.3601296544075\n",
            "27 : 43.510832738876346\n",
            "28 : 43.643317663669585\n",
            "29 : 43.78700642983119\n",
            "30 : 43.93831890424092\n",
            "31 : 44.1156528433164\n",
            "32 : 44.267526149749756\n",
            "33 : 44.419420639673866\n",
            "epoch= 6 \t time= 44.419422908624014 min \t lr= 0.25 \t loss= 0.7153303009091001 \t error= 49.090907971064254 percent\n",
            "error rate on test set = 49.54545226964084 percent\n",
            " \n",
            "1 : 46.17932782173157\n",
            "2 : 46.3219469388326\n",
            "3 : 46.500243254502614\n",
            "4 : 46.646125753720604\n",
            "5 : 46.78546481132507\n",
            "6 : 46.93992518186569\n",
            "7 : 47.11481278737386\n",
            "8 : 47.269536487261455\n",
            "9 : 47.420956047375995\n",
            "10 : 47.532001161575316\n",
            "11 : 47.70891089042028\n",
            "12 : 47.8468603293101\n",
            "13 : 48.01174755096436\n",
            "14 : 48.1496284365654\n",
            "15 : 48.29530625740687\n",
            "16 : 48.43331381877263\n",
            "17 : 48.58301698764165\n",
            "18 : 48.72116318146388\n",
            "19 : 48.84353378216426\n",
            "20 : 48.9748762011528\n",
            "21 : 49.12016240755717\n",
            "22 : 49.28325852155685\n",
            "23 : 49.40263835191727\n",
            "24 : 49.56071625947952\n",
            "25 : 49.70308618148168\n",
            "26 : 49.84070947567622\n",
            "27 : 49.969785559177396\n",
            "28 : 50.1039803703626\n",
            "29 : 50.24910055398941\n",
            "30 : 50.41686184008916\n",
            "31 : 50.50581682920456\n",
            "32 : 50.69861096938451\n",
            "33 : 50.861435039838156\n",
            "epoch= 7 \t time= 50.86143712997436 min \t lr= 0.25 \t loss= 0.7214410250837152 \t error= 50.75757377075426 percent\n",
            "error rate on test set = 44.999998266046696 percent\n",
            " \n",
            "1 : 52.555825006961825\n",
            "2 : 52.71479706366857\n",
            "3 : 52.8887353181839\n",
            "4 : 53.01983837683996\n",
            "5 : 53.16055959065755\n",
            "6 : 53.398020247618355\n",
            "7 : 53.53996697664261\n",
            "8 : 53.70485192139943\n",
            "9 : 53.85974067846934\n",
            "10 : 53.99291083415349\n",
            "11 : 54.15747341314952\n",
            "12 : 54.31883499622345\n",
            "13 : 54.44939021666845\n",
            "14 : 54.600982296466825\n",
            "15 : 54.71427936156591\n",
            "16 : 54.826636068026225\n",
            "17 : 54.981246749560036\n",
            "18 : 55.090382754802704\n",
            "19 : 55.23755628665288\n",
            "20 : 55.36707382599513\n",
            "21 : 55.4568665266037\n",
            "22 : 55.53952427705129\n",
            "23 : 55.70696262121201\n",
            "24 : 55.8316113114357\n",
            "25 : 55.965965759754184\n",
            "26 : 56.08117759625117\n",
            "27 : 56.217704033851625\n",
            "28 : 56.383489441871646\n",
            "29 : 56.45773091316223\n",
            "30 : 56.636531186103824\n",
            "31 : 56.74164650440216\n",
            "32 : 56.87590792973836\n",
            "33 : 56.97663199901581\n",
            "epoch= 8 \t time= 56.976633814970654 min \t lr= 0.25 \t loss= 0.7151541529279767 \t error= 49.99999837441878 percent\n",
            "error rate on test set = 57.72727131843567 percent\n",
            " \n",
            "1 : 58.46914778550466\n",
            "2 : 58.609546812375385\n",
            "3 : 58.72533093293508\n",
            "4 : 58.87822922468185\n",
            "5 : 59.01910882393519\n",
            "6 : 59.171021513144176\n",
            "7 : 59.29850979646047\n",
            "8 : 59.44292490084966\n",
            "9 : 59.60836845239003\n",
            "10 : 59.73536777496338\n",
            "11 : 59.861439017454785\n",
            "12 : 59.97181870142619\n",
            "13 : 60.127492527167\n",
            "14 : 60.27916507720947\n",
            "15 : 60.44281680981318\n",
            "16 : 60.56957349777222\n",
            "17 : 60.69173301458359\n",
            "18 : 60.800729898611706\n",
            "19 : 60.911285531520846\n",
            "20 : 60.98895789782206\n",
            "21 : 61.12603525718053\n",
            "22 : 61.25495309829712\n",
            "23 : 61.4082499106725\n",
            "24 : 61.52964922984441\n",
            "25 : 61.67190300623576\n",
            "26 : 61.787527306874594\n",
            "27 : 61.91320765415828\n",
            "28 : 62.036305129528046\n",
            "29 : 62.19033858378728\n",
            "30 : 62.32631715933482\n",
            "31 : 62.46840884685516\n",
            "32 : 62.61816817124684\n",
            "33 : 62.78479184707006\n",
            "epoch= 9 \t time= 62.78479471206665 min \t lr= 0.25 \t loss= 0.7169902035684297 \t error= 49.24242261684302 percent\n",
            "error rate on test set = 44.09090714021163 percent\n",
            " \n",
            "1 : 64.45334074497222\n",
            "2 : 64.60654797554017\n",
            "3 : 64.77215478817622\n",
            "4 : 64.8990737080574\n",
            "5 : 65.03700340986252\n",
            "6 : 65.1526222507159\n",
            "7 : 65.28893947601318\n",
            "8 : 65.3850932876269\n",
            "9 : 65.43687112728755\n",
            "10 : 65.58186447620392\n",
            "11 : 65.69083204666774\n",
            "12 : 65.78359878063202\n",
            "13 : 65.90741122166315\n",
            "14 : 66.01916495164235\n",
            "15 : 66.14172686735789\n",
            "16 : 66.27908141613007\n",
            "17 : 66.39379366636277\n",
            "18 : 66.51378752390544\n",
            "19 : 66.65018755992254\n",
            "20 : 66.76475493510564\n",
            "21 : 66.95605226357777\n",
            "22 : 67.06890715758006\n",
            "23 : 67.17558468182882\n",
            "24 : 67.27997436126073\n",
            "25 : 67.36168570915858\n",
            "26 : 67.47091554403305\n",
            "27 : 67.60077226161957\n",
            "28 : 67.71078752279281\n",
            "29 : 67.80104024807612\n",
            "30 : 67.90210839509965\n",
            "31 : 68.02971612215042\n",
            "32 : 68.1583135565122\n",
            "33 : 68.26082035303116\n",
            "epoch= 10 \t time= 68.26082221269607 min \t lr= 0.125 \t loss= 0.702777006409385 \t error= 49.2424229780833 percent\n",
            "error rate on test set = 48.636362769386984 percent\n",
            " \n",
            "1 : 69.64362321297328\n",
            "2 : 69.75643600622813\n",
            "3 : 69.89009533325832\n",
            "4 : 69.98709505399069\n",
            "5 : 70.08863643805186\n",
            "6 : 70.2191981514295\n",
            "7 : 70.33468116124472\n",
            "8 : 70.44537469546\n",
            "9 : 70.55506926377615\n",
            "10 : 70.68678344885508\n",
            "11 : 70.80988854169846\n",
            "12 : 70.93679407040278\n",
            "13 : 71.05408520301184\n",
            "14 : 71.17837932109833\n",
            "15 : 71.28028413454692\n",
            "16 : 71.40259600083033\n",
            "17 : 71.54170664946238\n",
            "18 : 71.6548046072324\n",
            "19 : 71.78439080317816\n",
            "20 : 71.91176240046819\n",
            "21 : 72.03878408273061\n",
            "22 : 72.12766767342886\n",
            "23 : 72.25653322140376\n",
            "24 : 72.37995453278224\n",
            "25 : 72.46687980890275\n",
            "26 : 72.58034108479818\n",
            "27 : 72.67620061635971\n",
            "28 : 72.82717482248943\n",
            "29 : 72.97048863569896\n",
            "30 : 73.06556116342544\n",
            "31 : 73.17996275424957\n",
            "32 : 73.3251613219579\n",
            "33 : 73.44272865454356\n",
            "epoch= 11 \t time= 73.44273067712784 min \t lr= 0.125 \t loss= 0.7004040262915872 \t error= 49.393938165722474 percent\n",
            "error rate on test set = 46.36363549665971 percent\n",
            " \n",
            "1 : 74.91551291545233\n",
            "2 : 75.02713219324748\n",
            "3 : 75.14209874868394\n",
            "4 : 75.31041556596756\n",
            "5 : 75.43908733129501\n",
            "6 : 75.56344497998556\n",
            "7 : 75.69121087789536\n",
            "8 : 75.84129733641943\n",
            "9 : 75.94423852761587\n",
            "10 : 76.00579449733098\n",
            "11 : 76.10128470659257\n",
            "12 : 76.22672530015309\n",
            "13 : 76.32938299973806\n",
            "14 : 76.43652086655298\n",
            "15 : 76.54293516874313\n",
            "16 : 76.68920429150263\n",
            "17 : 76.83176641861597\n",
            "18 : 76.96269555489222\n",
            "19 : 77.0454688946406\n",
            "20 : 77.17639111280441\n",
            "21 : 77.27712916930517\n",
            "22 : 77.3517342209816\n",
            "23 : 77.49857181708018\n",
            "24 : 77.60146988232931\n",
            "25 : 77.7116048057874\n",
            "26 : 77.84058067798614\n",
            "27 : 77.97362609704335\n",
            "28 : 78.06090511878331\n",
            "29 : 78.20795888900757\n",
            "30 : 78.313678642114\n",
            "31 : 78.3942786693573\n",
            "32 : 78.52429935534795\n",
            "33 : 78.66807177861531\n",
            "epoch= 12 \t time= 78.66807397206624 min \t lr= 0.125 \t loss= 0.7014234174381603 \t error= 50.30302947217768 percent\n",
            "error rate on test set = 43.18181655623696 percent\n",
            " \n",
            "1 : 79.95367710192998\n",
            "2 : 80.07900098959605\n",
            "3 : 80.17495001157126\n",
            "4 : 80.29890926281611\n",
            "5 : 80.37621628046035\n",
            "6 : 80.50654079119364\n",
            "7 : 80.6117367386818\n",
            "8 : 80.7010098139445\n",
            "9 : 80.80667756795883\n",
            "10 : 80.92924096186955\n",
            "11 : 81.02470577160517\n",
            "12 : 81.14049226045609\n",
            "13 : 81.26176290909449\n",
            "14 : 81.35452700058619\n",
            "15 : 81.45147910912831\n",
            "16 : 81.57340987920762\n",
            "17 : 81.68273083368938\n",
            "18 : 81.8285457611084\n",
            "19 : 81.9193973104159\n",
            "20 : 81.99739612738291\n",
            "21 : 82.09832699298859\n",
            "22 : 82.21930529673894\n",
            "23 : 82.31240812937419\n",
            "24 : 82.43395969867706\n",
            "25 : 82.50625483592351\n",
            "26 : 82.57288274765014\n",
            "27 : 82.6640772898992\n",
            "28 : 82.79475388129552\n",
            "29 : 82.92891114552816\n",
            "30 : 83.04558800061544\n",
            "31 : 83.15922425587972\n",
            "32 : 83.27730108499527\n",
            "33 : 83.3846653064092\n",
            "epoch= 13 \t time= 83.38466703891754 min \t lr= 0.125 \t loss= 0.7033608447421681 \t error= 51.06060432665276 percent\n",
            "error rate on test set = 54.99999902465127 percent\n",
            " \n",
            "1 : 84.73200360139211\n",
            "2 : 84.83404723405837\n",
            "3 : 84.95275417566299\n",
            "4 : 85.06574620008469\n",
            "5 : 85.18445193370184\n",
            "6 : 85.28701950709025\n",
            "7 : 85.41660999059677\n",
            "8 : 85.54010471900304\n",
            "9 : 85.66979092756907\n",
            "10 : 85.81369896332423\n",
            "11 : 85.91071085135142\n",
            "12 : 86.01370036204656\n",
            "13 : 86.12608545621237\n",
            "14 : 86.27420255740483\n",
            "15 : 86.3742774883906\n",
            "16 : 86.48945384025573\n",
            "17 : 86.59350148439407\n",
            "18 : 86.68701275587082\n",
            "19 : 86.8064690152804\n",
            "20 : 86.87925856113434\n",
            "21 : 86.98871502478917\n",
            "22 : 87.06205567121506\n",
            "23 : 87.17159244219462\n",
            "24 : 87.29883332252503\n",
            "25 : 87.37515112161637\n",
            "26 : 87.44598398208618\n",
            "27 : 87.50660092830658\n",
            "28 : 87.60674256483713\n",
            "29 : 87.71738388140996\n",
            "30 : 87.8425211707751\n",
            "31 : 87.97053204377492\n",
            "32 : 88.08779304822286\n",
            "33 : 88.17999960184098\n",
            "epoch= 14 \t time= 88.18000135421752 min \t lr= 0.0625 \t loss= 0.6883238409504746 \t error= 44.24242323095148 percent\n",
            "error rate on test set = 54.99999902465127 percent\n",
            " \n",
            "1 : 89.43734255631765\n",
            "2 : 89.55252940654755\n",
            "3 : 89.62165713707606\n",
            "4 : 89.73022594849269\n",
            "5 : 89.85466558535894\n",
            "6 : 89.9588294784228\n",
            "7 : 90.04435817797979\n",
            "8 : 90.17966361840566\n",
            "9 : 90.27158679962159\n",
            "10 : 90.38884353240331\n",
            "11 : 90.49200205405553\n",
            "12 : 90.58799631992976\n",
            "13 : 90.69037524461746\n",
            "14 : 90.80837322076162\n",
            "15 : 90.91298840443294\n",
            "16 : 91.05405187606812\n",
            "17 : 91.15265148878098\n",
            "18 : 91.25351479450862\n",
            "19 : 91.34413714011511\n",
            "20 : 91.42885991334916\n",
            "21 : 91.51113987763723\n",
            "22 : 91.61304661830266\n",
            "23 : 91.70878867705663\n",
            "24 : 91.80717483758926\n",
            "25 : 91.9280396302541\n",
            "26 : 92.03147408962249\n",
            "27 : 92.12633398373922\n",
            "28 : 92.25196895599365\n",
            "29 : 92.33751650651296\n",
            "30 : 92.43777120113373\n",
            "31 : 92.54790263175964\n",
            "32 : 92.64989044268926\n",
            "33 : 92.76419449249903\n",
            "epoch= 15 \t time= 92.76419647137324 min \t lr= 0.0625 \t loss= 0.7010983662171797 \t error= 51.66666561906988 percent\n",
            "error rate on test set = 46.81817943399603 percent\n",
            " \n",
            "1 : 93.84634399016699\n",
            "2 : 93.9399792512258\n",
            "3 : 94.0038136601448\n",
            "4 : 94.09608854850133\n",
            "5 : 94.22428733905157\n",
            "6 : 94.31971248388291\n",
            "7 : 94.4527209440867\n",
            "8 : 94.5877030412356\n",
            "9 : 94.66096710364023\n",
            "10 : 94.73650054534276\n",
            "11 : 94.83371720314025\n",
            "12 : 94.95090812047323\n",
            "13 : 95.06401781638463\n",
            "14 : 95.15907086133957\n",
            "15 : 95.25761572519939\n",
            "16 : 95.32532149155935\n",
            "17 : 95.42525045077006\n",
            "18 : 95.51559919516245\n",
            "19 : 95.64296958049138\n",
            "20 : 95.73749359846116\n",
            "21 : 95.83286688327789\n",
            "22 : 95.96167778968811\n",
            "23 : 96.08158388137818\n",
            "24 : 96.17546566724778\n",
            "25 : 96.2654039700826\n",
            "26 : 96.36587233543396\n",
            "27 : 96.42761691411336\n",
            "28 : 96.5312788327535\n",
            "29 : 96.60643622875213\n",
            "30 : 96.69300320943196\n",
            "31 : 96.80583724975585\n",
            "32 : 96.89378494819006\n",
            "33 : 97.01852842966716\n",
            "epoch= 16 \t time= 97.01853011846542 min \t lr= 0.0625 \t loss= 0.7000368201371395 \t error= 51.818180626088925 percent\n",
            "error rate on test set = 58.636362986131154 percent\n",
            " \n",
            "1 : 98.2632276972135\n",
            "2 : 98.35501530965169\n",
            "3 : 98.43166460593541\n",
            "4 : 98.51049849589666\n",
            "5 : 98.60902477900187\n",
            "6 : 98.72640197277069\n",
            "7 : 98.81735353867212\n",
            "8 : 98.93505105574926\n",
            "9 : 99.03589882453282\n",
            "10 : 99.13416498502096\n",
            "11 : 99.21335382461548\n",
            "12 : 99.33637710809708\n",
            "13 : 99.45759416421255\n",
            "14 : 99.54079580704371\n",
            "15 : 99.63641472260157\n",
            "16 : 99.74324714342752\n",
            "17 : 99.82471911112468\n",
            "18 : 99.90394462744395\n",
            "19 : 99.99190243879954\n",
            "20 : 100.10582300027211\n",
            "21 : 100.23923407793045\n",
            "22 : 100.3423325697581\n",
            "23 : 100.43154228130976\n",
            "24 : 100.52707961797714\n",
            "25 : 100.59498049815495\n",
            "26 : 100.6438967982928\n",
            "27 : 100.75894823869069\n",
            "28 : 100.8329933722814\n",
            "29 : 100.87807668050131\n",
            "30 : 100.9437485019366\n",
            "31 : 101.03397029240926\n",
            "32 : 101.11134256919225\n",
            "33 : 101.18685295581818\n",
            "epoch= 17 \t time= 101.1868550380071 min \t lr= 0.0625 \t loss= 0.6926898035136136 \t error= 46.8181797952363 percent\n",
            "error rate on test set = 46.81818105957725 percent\n",
            " \n",
            "1 : 102.24378799994787\n",
            "2 : 102.33655401865641\n",
            "3 : 102.45706848303477\n",
            "4 : 102.53677440087\n",
            "5 : 102.61403571764627\n",
            "6 : 102.69787023067474\n",
            "7 : 102.8066619793574\n",
            "8 : 102.90386980772018\n",
            "9 : 103.01139585574468\n",
            "10 : 103.09235914945603\n",
            "11 : 103.16259768803914\n",
            "12 : 103.25104839801789\n",
            "13 : 103.33810791571935\n",
            "14 : 103.39531932274501\n",
            "15 : 103.4748544216156\n",
            "16 : 103.54764391581217\n",
            "17 : 103.68412174383799\n",
            "18 : 103.79128819704056\n",
            "19 : 103.87650488615036\n",
            "20 : 103.93796463807423\n",
            "21 : 104.014044547081\n",
            "22 : 104.09779182275136\n",
            "23 : 104.16665544112523\n",
            "24 : 104.24152380228043\n",
            "25 : 104.32343522310256\n",
            "26 : 104.38603468338648\n",
            "27 : 104.49171558618545\n",
            "28 : 104.575526034832\n",
            "29 : 104.68426928917567\n",
            "30 : 104.76127583583197\n",
            "31 : 104.81053734223048\n",
            "32 : 104.89745137294133\n",
            "33 : 104.95773216088612\n",
            "epoch= 18 \t time= 104.9577450911204 min \t lr= 0.03125 \t loss= 0.6939340017058633 \t error= 46.36363477417917 percent\n",
            "error rate on test set = 48.636362769386984 percent\n",
            " \n",
            "1 : 106.10206511815389\n",
            "2 : 106.17778225739796\n",
            "3 : 106.28722223043442\n",
            "4 : 106.37164712349573\n",
            "5 : 106.44579228162766\n",
            "6 : 106.51065357923508\n",
            "7 : 106.6093736410141\n",
            "8 : 106.69560439189276\n",
            "9 : 106.78461603323619\n",
            "10 : 106.8371901512146\n",
            "11 : 106.94556969006857\n",
            "12 : 107.0315610408783\n",
            "13 : 107.10448004404704\n",
            "14 : 107.19266905784608\n",
            "15 : 107.29517892599105\n",
            "16 : 107.40089224974314\n",
            "17 : 107.46711486180624\n",
            "18 : 107.560662206014\n",
            "19 : 107.66680508057276\n",
            "20 : 107.76916459004084\n",
            "21 : 107.84305914640427\n",
            "22 : 107.93503507773082\n",
            "23 : 108.04219231208165\n",
            "24 : 108.09186533292134\n",
            "25 : 108.18103903134664\n",
            "26 : 108.26292644739151\n",
            "27 : 108.35266882181168\n",
            "28 : 108.45600671370825\n",
            "29 : 108.52105902433395\n",
            "30 : 108.55865287383398\n",
            "31 : 108.64462354580562\n",
            "32 : 108.73714936971665\n",
            "33 : 108.83116607666015\n",
            "epoch= 19 \t time= 108.831167781353 min \t lr= 0.03125 \t loss= 0.6901173754171892 \t error= 47.72727128231164 percent\n",
            "error rate on test set = 44.999998807907104 percent\n",
            " \n",
            "1 : 109.84029887914657\n",
            "2 : 109.90064081350963\n",
            "3 : 109.96688476800918\n",
            "4 : 110.04913337628047\n",
            "5 : 110.12687875032425\n",
            "6 : 110.20193078915278\n",
            "7 : 110.2618859410286\n",
            "8 : 110.33432909647624\n",
            "9 : 110.38215831915538\n",
            "10 : 110.48397293090821\n",
            "11 : 110.55894051392873\n",
            "12 : 110.6244384209315\n",
            "13 : 110.71428425709406\n",
            "14 : 110.7752348860105\n",
            "15 : 110.8357143441836\n",
            "16 : 110.91305113236109\n",
            "17 : 110.99268520673117\n",
            "18 : 111.09552495479583\n",
            "19 : 111.20377055009206\n",
            "20 : 111.2545163989067\n",
            "21 : 111.32060717344284\n",
            "22 : 111.36990374326706\n",
            "23 : 111.43346518675486\n",
            "24 : 111.51030071973801\n",
            "25 : 111.57626683712006\n",
            "26 : 111.66025082667669\n",
            "27 : 111.74330962896347\n",
            "28 : 111.79266218741735\n",
            "29 : 111.85675572951635\n",
            "30 : 111.92555989027024\n",
            "31 : 112.00843373537063\n",
            "32 : 112.070126024882\n",
            "33 : 112.14051289955775\n",
            "epoch= 20 \t time= 112.14051452477773 min \t lr= 0.03125 \t loss= 0.693888266881307 \t error= 45.90908993374217 percent\n",
            "error rate on test set = 47.72727110169151 percent\n",
            " \n"
          ]
        }
      ]
    },
    {
      "cell_type": "code",
      "metadata": {
        "id": "bvxHZJcwc8_s"
      },
      "source": [
        ""
      ],
      "execution_count": 37,
      "outputs": []
    }
  ]
}