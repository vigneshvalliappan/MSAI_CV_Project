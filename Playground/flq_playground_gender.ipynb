{
  "nbformat": 4,
  "nbformat_minor": 0,
  "metadata": {
    "interpreter": {
      "hash": "8ab70c8717d59d3d18e55ddb9fc009ca9a9cdea0e10f7027a2b729168083aba5"
    },
    "kernelspec": {
      "display_name": "Python 3.9.6 64-bit ('cv': conda)",
      "name": "python3"
    },
    "language_info": {
      "codemirror_mode": {
        "name": "ipython",
        "version": 3
      },
      "file_extension": ".py",
      "mimetype": "text/x-python",
      "name": "python",
      "nbconvert_exporter": "python",
      "pygments_lexer": "ipython3",
      "version": "3.9.6"
    },
    "orig_nbformat": 4,
    "colab": {
      "name": "flq_playground_gender.ipynb",
      "provenance": [],
      "collapsed_sections": [],
      "machine_shape": "hm",
      "include_colab_link": true
    },
    "accelerator": "GPU"
  },
  "cells": [
    {
      "cell_type": "markdown",
      "metadata": {
        "id": "view-in-github",
        "colab_type": "text"
      },
      "source": [
        "<a href=\"https://colab.research.google.com/github/vigneshvalliappan/MSAI_CV_Project/blob/main/Playground/flq_playground_gender.ipynb\" target=\"_parent\"><img src=\"https://colab.research.google.com/assets/colab-badge.svg\" alt=\"Open In Colab\"/></a>"
      ]
    },
    {
      "cell_type": "code",
      "metadata": {
        "colab": {
          "base_uri": "https://localhost:8080/"
        },
        "id": "KyI814Zj4Hes",
        "outputId": "d6c35215-89a8-43a0-cd1e-90b518e8693b"
      },
      "source": [
        "gpu_info = !nvidia-smi\n",
        "gpu_info = '\\n'.join(gpu_info)\n",
        "if gpu_info.find('failed') >= 0:\n",
        "  print('Not connected to a GPU')\n",
        "else:\n",
        "  print(gpu_info)"
      ],
      "execution_count": 1,
      "outputs": [
        {
          "output_type": "stream",
          "name": "stdout",
          "text": [
            "Thu Nov 18 03:47:17 2021       \n",
            "+-----------------------------------------------------------------------------+\n",
            "| NVIDIA-SMI 495.44       Driver Version: 460.32.03    CUDA Version: 11.2     |\n",
            "|-------------------------------+----------------------+----------------------+\n",
            "| GPU  Name        Persistence-M| Bus-Id        Disp.A | Volatile Uncorr. ECC |\n",
            "| Fan  Temp  Perf  Pwr:Usage/Cap|         Memory-Usage | GPU-Util  Compute M. |\n",
            "|                               |                      |               MIG M. |\n",
            "|===============================+======================+======================|\n",
            "|   0  Tesla V100-SXM2...  Off  | 00000000:00:04.0 Off |                    0 |\n",
            "| N/A   31C    P0    24W / 300W |      0MiB / 16160MiB |      0%      Default |\n",
            "|                               |                      |                  N/A |\n",
            "+-------------------------------+----------------------+----------------------+\n",
            "                                                                               \n",
            "+-----------------------------------------------------------------------------+\n",
            "| Processes:                                                                  |\n",
            "|  GPU   GI   CI        PID   Type   Process name                  GPU Memory |\n",
            "|        ID   ID                                                   Usage      |\n",
            "|=============================================================================|\n",
            "|  No running processes found                                                 |\n",
            "+-----------------------------------------------------------------------------+\n"
          ]
        }
      ]
    },
    {
      "cell_type": "code",
      "metadata": {
        "colab": {
          "base_uri": "https://localhost:8080/"
        },
        "id": "CAUdj2jR79nv",
        "outputId": "fb31f0bb-0368-4369-88f2-248e03a31f82"
      },
      "source": [
        "from google.colab import drive\n",
        "drive.mount('/content/drive')"
      ],
      "execution_count": 2,
      "outputs": [
        {
          "output_type": "stream",
          "name": "stdout",
          "text": [
            "Mounted at /content/drive\n"
          ]
        }
      ]
    },
    {
      "cell_type": "code",
      "metadata": {
        "id": "EvEBBIhT16tR"
      },
      "source": [
        "import pandas as pd\n",
        "import numpy as np\n",
        "import cv2\n",
        "from matplotlib import pyplot as plt\n",
        "import json\n",
        "\n",
        "import torch\n",
        "import torch.nn as nn\n",
        "import torch.nn.functional as F\n",
        "import torch.optim as optim\n",
        "import torchvision.transforms as transforms\n",
        "from random import randint\n",
        "import time"
      ],
      "execution_count": 3,
      "outputs": []
    },
    {
      "cell_type": "code",
      "metadata": {
        "id": "DGTI3GeuVHtp",
        "colab": {
          "base_uri": "https://localhost:8080/"
        },
        "outputId": "7e63de29-feac-437c-f1bd-972843affedf"
      },
      "source": [
        "# decide whether to compute using GPU\n",
        "\n",
        "device= torch.device(\"cuda\")\n",
        "#device= torch.device(\"cpu\")\n",
        "print(device)"
      ],
      "execution_count": 4,
      "outputs": [
        {
          "output_type": "stream",
          "name": "stdout",
          "text": [
            "cuda\n"
          ]
        }
      ]
    },
    {
      "cell_type": "code",
      "metadata": {
        "id": "Gzg41nuj16tX",
        "colab": {
          "base_uri": "https://localhost:8080/"
        },
        "outputId": "a2a6dbe7-1ee5-4f02-8ed8-06d33518870a"
      },
      "source": [
        "fold_0 = pd.read_csv('/content/drive/MyDrive/MSAI CV/MSAI CV Project/Data/fold_0_data.txt',sep='\\t')\n",
        "fold_1 = pd.read_csv('/content/drive/MyDrive/MSAI CV/MSAI CV Project/Data/fold_1_data.txt',sep='\\t')\n",
        "fold_2 = pd.read_csv('/content/drive/MyDrive/MSAI CV/MSAI CV Project/Data/fold_2_data.txt',sep='\\t')\n",
        "fold_3 = pd.read_csv('/content/drive/MyDrive/MSAI CV/MSAI CV Project/Data/fold_3_data.txt',sep='\\t')\n",
        "fold_4 = pd.read_csv('/content/drive/MyDrive/MSAI CV/MSAI CV Project/Data/fold_4_data.txt',sep='\\t')\n",
        "df_combined = pd.concat([fold_0,fold_1,fold_2,fold_3,fold_4],ignore_index=True)\n",
        "print(f'Number of rows: {len(df_combined)}')\n",
        "df_combined.info()"
      ],
      "execution_count": 5,
      "outputs": [
        {
          "output_type": "stream",
          "name": "stdout",
          "text": [
            "Number of rows: 19370\n",
            "<class 'pandas.core.frame.DataFrame'>\n",
            "RangeIndex: 19370 entries, 0 to 19369\n",
            "Data columns (total 12 columns):\n",
            " #   Column              Non-Null Count  Dtype \n",
            "---  ------              --------------  ----- \n",
            " 0   user_id             19370 non-null  object\n",
            " 1   original_image      19370 non-null  object\n",
            " 2   face_id             19370 non-null  int64 \n",
            " 3   age                 19370 non-null  object\n",
            " 4   gender              18591 non-null  object\n",
            " 5   x                   19370 non-null  int64 \n",
            " 6   y                   19370 non-null  int64 \n",
            " 7   dx                  19370 non-null  int64 \n",
            " 8   dy                  19370 non-null  int64 \n",
            " 9   tilt_ang            19370 non-null  int64 \n",
            " 10  fiducial_yaw_angle  19370 non-null  int64 \n",
            " 11  fiducial_score      19370 non-null  int64 \n",
            "dtypes: int64(8), object(4)\n",
            "memory usage: 1.8+ MB\n"
          ]
        }
      ]
    },
    {
      "cell_type": "code",
      "metadata": {
        "id": "ePV31MOx16tZ",
        "colab": {
          "base_uri": "https://localhost:8080/",
          "height": 206
        },
        "outputId": "160e0b25-e7e2-4f98-f27d-e7992f17c11a"
      },
      "source": [
        "df_combined.head()"
      ],
      "execution_count": 6,
      "outputs": [
        {
          "output_type": "execute_result",
          "data": {
            "text/html": [
              "<div>\n",
              "<style scoped>\n",
              "    .dataframe tbody tr th:only-of-type {\n",
              "        vertical-align: middle;\n",
              "    }\n",
              "\n",
              "    .dataframe tbody tr th {\n",
              "        vertical-align: top;\n",
              "    }\n",
              "\n",
              "    .dataframe thead th {\n",
              "        text-align: right;\n",
              "    }\n",
              "</style>\n",
              "<table border=\"1\" class=\"dataframe\">\n",
              "  <thead>\n",
              "    <tr style=\"text-align: right;\">\n",
              "      <th></th>\n",
              "      <th>user_id</th>\n",
              "      <th>original_image</th>\n",
              "      <th>face_id</th>\n",
              "      <th>age</th>\n",
              "      <th>gender</th>\n",
              "      <th>x</th>\n",
              "      <th>y</th>\n",
              "      <th>dx</th>\n",
              "      <th>dy</th>\n",
              "      <th>tilt_ang</th>\n",
              "      <th>fiducial_yaw_angle</th>\n",
              "      <th>fiducial_score</th>\n",
              "    </tr>\n",
              "  </thead>\n",
              "  <tbody>\n",
              "    <tr>\n",
              "      <th>0</th>\n",
              "      <td>30601258@N03</td>\n",
              "      <td>10399646885_67c7d20df9_o.jpg</td>\n",
              "      <td>1</td>\n",
              "      <td>(25, 32)</td>\n",
              "      <td>f</td>\n",
              "      <td>0</td>\n",
              "      <td>414</td>\n",
              "      <td>1086</td>\n",
              "      <td>1383</td>\n",
              "      <td>-115</td>\n",
              "      <td>30</td>\n",
              "      <td>17</td>\n",
              "    </tr>\n",
              "    <tr>\n",
              "      <th>1</th>\n",
              "      <td>30601258@N03</td>\n",
              "      <td>10424815813_e94629b1ec_o.jpg</td>\n",
              "      <td>2</td>\n",
              "      <td>(25, 32)</td>\n",
              "      <td>m</td>\n",
              "      <td>301</td>\n",
              "      <td>105</td>\n",
              "      <td>640</td>\n",
              "      <td>641</td>\n",
              "      <td>0</td>\n",
              "      <td>0</td>\n",
              "      <td>94</td>\n",
              "    </tr>\n",
              "    <tr>\n",
              "      <th>2</th>\n",
              "      <td>30601258@N03</td>\n",
              "      <td>10437979845_5985be4b26_o.jpg</td>\n",
              "      <td>1</td>\n",
              "      <td>(25, 32)</td>\n",
              "      <td>f</td>\n",
              "      <td>2395</td>\n",
              "      <td>876</td>\n",
              "      <td>771</td>\n",
              "      <td>771</td>\n",
              "      <td>175</td>\n",
              "      <td>-30</td>\n",
              "      <td>74</td>\n",
              "    </tr>\n",
              "    <tr>\n",
              "      <th>3</th>\n",
              "      <td>30601258@N03</td>\n",
              "      <td>10437979845_5985be4b26_o.jpg</td>\n",
              "      <td>3</td>\n",
              "      <td>(25, 32)</td>\n",
              "      <td>m</td>\n",
              "      <td>752</td>\n",
              "      <td>1255</td>\n",
              "      <td>484</td>\n",
              "      <td>485</td>\n",
              "      <td>180</td>\n",
              "      <td>0</td>\n",
              "      <td>47</td>\n",
              "    </tr>\n",
              "    <tr>\n",
              "      <th>4</th>\n",
              "      <td>30601258@N03</td>\n",
              "      <td>11816644924_075c3d8d59_o.jpg</td>\n",
              "      <td>2</td>\n",
              "      <td>(25, 32)</td>\n",
              "      <td>m</td>\n",
              "      <td>175</td>\n",
              "      <td>80</td>\n",
              "      <td>769</td>\n",
              "      <td>768</td>\n",
              "      <td>-75</td>\n",
              "      <td>0</td>\n",
              "      <td>34</td>\n",
              "    </tr>\n",
              "  </tbody>\n",
              "</table>\n",
              "</div>"
            ],
            "text/plain": [
              "        user_id  ... fiducial_score\n",
              "0  30601258@N03  ...             17\n",
              "1  30601258@N03  ...             94\n",
              "2  30601258@N03  ...             74\n",
              "3  30601258@N03  ...             47\n",
              "4  30601258@N03  ...             34\n",
              "\n",
              "[5 rows x 12 columns]"
            ]
          },
          "metadata": {},
          "execution_count": 6
        }
      ]
    },
    {
      "cell_type": "code",
      "metadata": {
        "id": "OTPPBb1r16ta",
        "colab": {
          "base_uri": "https://localhost:8080/"
        },
        "outputId": "fc97f206-c174-410f-d1d9-9acd75a2139c"
      },
      "source": [
        "# new column to specify the file path\n",
        "#df_combined['filepath'] = 'AdienceBenchmarkGenderAndAgeClassification/faces/' + df_combined['user_id'] + '/coarse_tilt_aligned_face.' + df_combined['face_id'].astype('str') + '.' + df_combined['original_image']\n",
        "#df_combined['filepath']\n",
        "\n",
        "df_combined['image_path'] = '/content/drive/MyDrive/MSAI CV/MSAI CV Project/Data/faces/' + df_combined['user_id'] + '/coarse_tilt_aligned_face.' + df_combined['face_id'].astype('str') + '.' + df_combined['original_image']\n",
        "df_combined['image_path']"
      ],
      "execution_count": 7,
      "outputs": [
        {
          "output_type": "execute_result",
          "data": {
            "text/plain": [
              "0        /content/drive/MyDrive/MSAI CV/MSAI CV Project...\n",
              "1        /content/drive/MyDrive/MSAI CV/MSAI CV Project...\n",
              "2        /content/drive/MyDrive/MSAI CV/MSAI CV Project...\n",
              "3        /content/drive/MyDrive/MSAI CV/MSAI CV Project...\n",
              "4        /content/drive/MyDrive/MSAI CV/MSAI CV Project...\n",
              "                               ...                        \n",
              "19365    /content/drive/MyDrive/MSAI CV/MSAI CV Project...\n",
              "19366    /content/drive/MyDrive/MSAI CV/MSAI CV Project...\n",
              "19367    /content/drive/MyDrive/MSAI CV/MSAI CV Project...\n",
              "19368    /content/drive/MyDrive/MSAI CV/MSAI CV Project...\n",
              "19369    /content/drive/MyDrive/MSAI CV/MSAI CV Project...\n",
              "Name: image_path, Length: 19370, dtype: object"
            ]
          },
          "metadata": {},
          "execution_count": 7
        }
      ]
    },
    {
      "cell_type": "markdown",
      "metadata": {
        "id": "Rvbkh5Li16ta"
      },
      "source": [
        "# Gender Model"
      ]
    },
    {
      "cell_type": "code",
      "metadata": {
        "id": "QB4lc0N916tc",
        "colab": {
          "base_uri": "https://localhost:8080/",
          "height": 296
        },
        "outputId": "559833da-ff7c-4cee-81ff-6fa41f1b6914"
      },
      "source": [
        "# gender break down\n",
        "df_combined.groupby(['gender'])['gender'].count().plot.bar()"
      ],
      "execution_count": 8,
      "outputs": [
        {
          "output_type": "execute_result",
          "data": {
            "text/plain": [
              "<matplotlib.axes._subplots.AxesSubplot at 0x7f1b0ee71710>"
            ]
          },
          "metadata": {},
          "execution_count": 8
        },
        {
          "output_type": "display_data",
          "data": {
            "image/png": "[encoded data removed]",
            "text/plain": [
              "<Figure size 432x288 with 1 Axes>"
            ]
          },
          "metadata": {
            "needs_background": "light"
          }
        }
      ]
    },
    {
      "cell_type": "code",
      "metadata": {
        "id": "5WgpbthB16td",
        "colab": {
          "base_uri": "https://localhost:8080/",
          "height": 597
        },
        "outputId": "bf4161fa-50fa-4d5d-b703-479344ce4df0"
      },
      "source": [
        "# filtered of unlabelled data\n",
        "print(f'Total Number of records: {len(df_combined)}')\n",
        "df_gender = df_combined.copy()\n",
        "df_gender = df_gender[df_gender['gender'] != 'u']\n",
        "df_gender = df_gender[df_gender['gender'].notna()]\n",
        "print(f'Total Number of records with Gender Labels: {len(df_gender)}')\n",
        "\n",
        "# gender class\n",
        "print('Gender Class (before labelling): ')\n",
        "print(df_gender.gender.value_counts())\n",
        "\n",
        "# convert class to int\n",
        "def labelling_gender(gender_range):\n",
        "    if gender_range == 'm':\n",
        "        result = 0\n",
        "    elif gender_range == 'f':\n",
        "        result = 1\n",
        "    else:\n",
        "        print(gender_range)\n",
        "    return result\n",
        "\n",
        "df_gender['label_gender'] = df_gender['gender'].apply(labelling_gender)\n",
        "print('Gender Class (after labelling): ')\n",
        "print(df_gender.label_gender.value_counts())\n",
        "\n",
        "df_gender.reset_index(inplace=True)\n",
        "df_gender.drop(columns=['index'],inplace=True)\n",
        "df_gender"
      ],
      "execution_count": 9,
      "outputs": [
        {
          "output_type": "stream",
          "name": "stdout",
          "text": [
            "Total Number of records: 19370\n",
            "Total Number of records with Gender Labels: 17492\n",
            "Gender Class (before labelling): \n",
            "f    9372\n",
            "m    8120\n",
            "Name: gender, dtype: int64\n",
            "Gender Class (after labelling): \n",
            "1    9372\n",
            "0    8120\n",
            "Name: label_gender, dtype: int64\n"
          ]
        },
        {
          "output_type": "execute_result",
          "data": {
            "text/html": [
              "<div>\n",
              "<style scoped>\n",
              "    .dataframe tbody tr th:only-of-type {\n",
              "        vertical-align: middle;\n",
              "    }\n",
              "\n",
              "    .dataframe tbody tr th {\n",
              "        vertical-align: top;\n",
              "    }\n",
              "\n",
              "    .dataframe thead th {\n",
              "        text-align: right;\n",
              "    }\n",
              "</style>\n",
              "<table border=\"1\" class=\"dataframe\">\n",
              "  <thead>\n",
              "    <tr style=\"text-align: right;\">\n",
              "      <th></th>\n",
              "      <th>user_id</th>\n",
              "      <th>original_image</th>\n",
              "      <th>face_id</th>\n",
              "      <th>age</th>\n",
              "      <th>gender</th>\n",
              "      <th>x</th>\n",
              "      <th>y</th>\n",
              "      <th>dx</th>\n",
              "      <th>dy</th>\n",
              "      <th>tilt_ang</th>\n",
              "      <th>fiducial_yaw_angle</th>\n",
              "      <th>fiducial_score</th>\n",
              "      <th>image_path</th>\n",
              "      <th>label_gender</th>\n",
              "    </tr>\n",
              "  </thead>\n",
              "  <tbody>\n",
              "    <tr>\n",
              "      <th>0</th>\n",
              "      <td>30601258@N03</td>\n",
              "      <td>10399646885_67c7d20df9_o.jpg</td>\n",
              "      <td>1</td>\n",
              "      <td>(25, 32)</td>\n",
              "      <td>f</td>\n",
              "      <td>0</td>\n",
              "      <td>414</td>\n",
              "      <td>1086</td>\n",
              "      <td>1383</td>\n",
              "      <td>-115</td>\n",
              "      <td>30</td>\n",
              "      <td>17</td>\n",
              "      <td>/content/drive/MyDrive/MSAI CV/MSAI CV Project...</td>\n",
              "      <td>1</td>\n",
              "    </tr>\n",
              "    <tr>\n",
              "      <th>1</th>\n",
              "      <td>30601258@N03</td>\n",
              "      <td>10424815813_e94629b1ec_o.jpg</td>\n",
              "      <td>2</td>\n",
              "      <td>(25, 32)</td>\n",
              "      <td>m</td>\n",
              "      <td>301</td>\n",
              "      <td>105</td>\n",
              "      <td>640</td>\n",
              "      <td>641</td>\n",
              "      <td>0</td>\n",
              "      <td>0</td>\n",
              "      <td>94</td>\n",
              "      <td>/content/drive/MyDrive/MSAI CV/MSAI CV Project...</td>\n",
              "      <td>0</td>\n",
              "    </tr>\n",
              "    <tr>\n",
              "      <th>2</th>\n",
              "      <td>30601258@N03</td>\n",
              "      <td>10437979845_5985be4b26_o.jpg</td>\n",
              "      <td>1</td>\n",
              "      <td>(25, 32)</td>\n",
              "      <td>f</td>\n",
              "      <td>2395</td>\n",
              "      <td>876</td>\n",
              "      <td>771</td>\n",
              "      <td>771</td>\n",
              "      <td>175</td>\n",
              "      <td>-30</td>\n",
              "      <td>74</td>\n",
              "      <td>/content/drive/MyDrive/MSAI CV/MSAI CV Project...</td>\n",
              "      <td>1</td>\n",
              "    </tr>\n",
              "    <tr>\n",
              "      <th>3</th>\n",
              "      <td>30601258@N03</td>\n",
              "      <td>10437979845_5985be4b26_o.jpg</td>\n",
              "      <td>3</td>\n",
              "      <td>(25, 32)</td>\n",
              "      <td>m</td>\n",
              "      <td>752</td>\n",
              "      <td>1255</td>\n",
              "      <td>484</td>\n",
              "      <td>485</td>\n",
              "      <td>180</td>\n",
              "      <td>0</td>\n",
              "      <td>47</td>\n",
              "      <td>/content/drive/MyDrive/MSAI CV/MSAI CV Project...</td>\n",
              "      <td>0</td>\n",
              "    </tr>\n",
              "    <tr>\n",
              "      <th>4</th>\n",
              "      <td>30601258@N03</td>\n",
              "      <td>11816644924_075c3d8d59_o.jpg</td>\n",
              "      <td>2</td>\n",
              "      <td>(25, 32)</td>\n",
              "      <td>m</td>\n",
              "      <td>175</td>\n",
              "      <td>80</td>\n",
              "      <td>769</td>\n",
              "      <td>768</td>\n",
              "      <td>-75</td>\n",
              "      <td>0</td>\n",
              "      <td>34</td>\n",
              "      <td>/content/drive/MyDrive/MSAI CV/MSAI CV Project...</td>\n",
              "      <td>0</td>\n",
              "    </tr>\n",
              "    <tr>\n",
              "      <th>...</th>\n",
              "      <td>...</td>\n",
              "      <td>...</td>\n",
              "      <td>...</td>\n",
              "      <td>...</td>\n",
              "      <td>...</td>\n",
              "      <td>...</td>\n",
              "      <td>...</td>\n",
              "      <td>...</td>\n",
              "      <td>...</td>\n",
              "      <td>...</td>\n",
              "      <td>...</td>\n",
              "      <td>...</td>\n",
              "      <td>...</td>\n",
              "      <td>...</td>\n",
              "    </tr>\n",
              "    <tr>\n",
              "      <th>17487</th>\n",
              "      <td>101515718@N03</td>\n",
              "      <td>10587826073_6663f5b654_o.jpg</td>\n",
              "      <td>2280</td>\n",
              "      <td>(25, 32)</td>\n",
              "      <td>f</td>\n",
              "      <td>718</td>\n",
              "      <td>748</td>\n",
              "      <td>492</td>\n",
              "      <td>492</td>\n",
              "      <td>0</td>\n",
              "      <td>0</td>\n",
              "      <td>63</td>\n",
              "      <td>/content/drive/MyDrive/MSAI CV/MSAI CV Project...</td>\n",
              "      <td>1</td>\n",
              "    </tr>\n",
              "    <tr>\n",
              "      <th>17488</th>\n",
              "      <td>101515718@N03</td>\n",
              "      <td>10587571495_a61785cd06_o.jpg</td>\n",
              "      <td>2278</td>\n",
              "      <td>(25, 32)</td>\n",
              "      <td>m</td>\n",
              "      <td>48</td>\n",
              "      <td>472</td>\n",
              "      <td>768</td>\n",
              "      <td>768</td>\n",
              "      <td>-15</td>\n",
              "      <td>0</td>\n",
              "      <td>25</td>\n",
              "      <td>/content/drive/MyDrive/MSAI CV/MSAI CV Project...</td>\n",
              "      <td>0</td>\n",
              "    </tr>\n",
              "    <tr>\n",
              "      <th>17489</th>\n",
              "      <td>101515718@N03</td>\n",
              "      <td>10587571495_a61785cd06_o.jpg</td>\n",
              "      <td>2279</td>\n",
              "      <td>(25, 32)</td>\n",
              "      <td>f</td>\n",
              "      <td>950</td>\n",
              "      <td>0</td>\n",
              "      <td>692</td>\n",
              "      <td>687</td>\n",
              "      <td>-5</td>\n",
              "      <td>0</td>\n",
              "      <td>27</td>\n",
              "      <td>/content/drive/MyDrive/MSAI CV/MSAI CV Project...</td>\n",
              "      <td>1</td>\n",
              "    </tr>\n",
              "    <tr>\n",
              "      <th>17490</th>\n",
              "      <td>50458575@N08</td>\n",
              "      <td>9426695459_9e8b347604_o.jpg</td>\n",
              "      <td>2281</td>\n",
              "      <td>(25, 32)</td>\n",
              "      <td>f</td>\n",
              "      <td>831</td>\n",
              "      <td>895</td>\n",
              "      <td>899</td>\n",
              "      <td>899</td>\n",
              "      <td>0</td>\n",
              "      <td>15</td>\n",
              "      <td>59</td>\n",
              "      <td>/content/drive/MyDrive/MSAI CV/MSAI CV Project...</td>\n",
              "      <td>1</td>\n",
              "    </tr>\n",
              "    <tr>\n",
              "      <th>17491</th>\n",
              "      <td>50458575@N08</td>\n",
              "      <td>9429464468_1bfc39ecfb_o.jpg</td>\n",
              "      <td>2281</td>\n",
              "      <td>(25, 32)</td>\n",
              "      <td>f</td>\n",
              "      <td>653</td>\n",
              "      <td>1023</td>\n",
              "      <td>555</td>\n",
              "      <td>554</td>\n",
              "      <td>5</td>\n",
              "      <td>30</td>\n",
              "      <td>70</td>\n",
              "      <td>/content/drive/MyDrive/MSAI CV/MSAI CV Project...</td>\n",
              "      <td>1</td>\n",
              "    </tr>\n",
              "  </tbody>\n",
              "</table>\n",
              "<p>17492 rows × 14 columns</p>\n",
              "</div>"
            ],
            "text/plain": [
              "             user_id  ... label_gender\n",
              "0       30601258@N03  ...            1\n",
              "1       30601258@N03  ...            0\n",
              "2       30601258@N03  ...            1\n",
              "3       30601258@N03  ...            0\n",
              "4       30601258@N03  ...            0\n",
              "...              ...  ...          ...\n",
              "17487  101515718@N03  ...            1\n",
              "17488  101515718@N03  ...            0\n",
              "17489  101515718@N03  ...            1\n",
              "17490   50458575@N08  ...            1\n",
              "17491   50458575@N08  ...            1\n",
              "\n",
              "[17492 rows x 14 columns]"
            ]
          },
          "metadata": {},
          "execution_count": 9
        }
      ]
    },
    {
      "cell_type": "code",
      "metadata": {
        "id": "mi3jm9ua16td"
      },
      "source": [
        "from torchvision.io import read_image\n",
        "from torch.utils.data import Dataset\n",
        "from skimage import io\n",
        "from PIL import Image\n",
        "\n",
        "class FaceDataset(Dataset):\n",
        "    #def __init__(self, csv_file, model='gender', transform=None):\n",
        "    def __init__(self, df, model='gender', transform=None):\n",
        "        #self.df = pd.read_csv(csv_file)\n",
        "        self.df = df\n",
        "        self.model = model\n",
        "        self.transform = transform\n",
        "\n",
        "    def __len__(self):\n",
        "        return len(self.df)\n",
        "\n",
        "    def __getitem__(self,idx):\n",
        "        img_path = self.df['image_path'][idx]\n",
        "        image = Image.open(img_path)\n",
        "        if self.model == 'gender':\n",
        "            label = self.df['label_gender'][idx]\n",
        "        elif self.model == 'age':\n",
        "            label = self.df['label_age'][idx]\n",
        "        else:\n",
        "            print('Please specify \"gender\" or \"age\".')\n",
        "            label = None\n",
        "        if self.transform:\n",
        "            image = self.transform(image)\n",
        "        return (image, label)"
      ],
      "execution_count": 10,
      "outputs": []
    },
    {
      "cell_type": "code",
      "metadata": {
        "id": "gxNCAQP016te"
      },
      "source": [
        "transform = transforms.Compose(\n",
        "    [\n",
        "        transforms.Resize((128,128)),\n",
        "        transforms.ToTensor(),\n",
        "        transforms.Normalize((0.5,0.5,0.5),(0.5,0.5,0.5))\n",
        "    ]\n",
        ")"
      ],
      "execution_count": 11,
      "outputs": []
    },
    {
      "cell_type": "code",
      "metadata": {
        "id": "yRIaJBW99rC3"
      },
      "source": [
        "df_gender.to_csv('/content/drive/MyDrive/MSAI CV/MSAI CV Project/df_gender.csv')"
      ],
      "execution_count": 12,
      "outputs": []
    },
    {
      "cell_type": "code",
      "metadata": {
        "id": "9-BEmZfg16tg",
        "colab": {
          "base_uri": "https://localhost:8080/"
        },
        "outputId": "4e0faaf4-8383-438d-f4d3-a81e7dce17a9"
      },
      "source": [
        "#dataset_gender = FaceDataset(csv_file='/content/drive/MyDrive/MSAI CV/MSAI CV Project/df_gender.csv',model='gender',transform=transform)\n",
        "dataset_gender = FaceDataset(df=df_gender,model='gender',transform=transform)\n",
        "dataset_gender_len = len(dataset_gender)\n",
        "print(dataset_gender_len)\n",
        "print([int(dataset_gender_len*0.7),dataset_gender_len - int(len(dataset_gender)*0.7)])\n",
        "train_gender, test_gender = torch.utils.data.random_split(dataset_gender,[int(dataset_gender_len*0.7),dataset_gender_len - int(len(dataset_gender)*0.7)])\n",
        "\n",
        "from torch.utils.data import DataLoader\n",
        "\n",
        "train_gender_loader = DataLoader(train_gender,batch_size=20,shuffle=True)\n",
        "test_gender_loader = DataLoader(test_gender,batch_size=20,shuffle=True)"
      ],
      "execution_count": 13,
      "outputs": [
        {
          "output_type": "stream",
          "name": "stdout",
          "text": [
            "17492\n",
            "[12244, 5248]\n"
          ]
        }
      ]
    },
    {
      "cell_type": "code",
      "metadata": {
        "id": "ASYzafCZ16tg",
        "colab": {
          "base_uri": "https://localhost:8080/",
          "height": 337
        },
        "outputId": "a964cac8-1338-4277-ee4d-e029b20688ca"
      },
      "source": [
        "train_features, train_labels = next(iter(train_gender_loader))\n",
        "print(f\"Feature batch shape: {train_features.size()}\")\n",
        "print(f\"Labels batch shape: {train_labels.size()}\")\n",
        "img = train_features[0].squeeze()\n",
        "plt.imshow(img.permute(1, 2, 0))"
      ],
      "execution_count": 14,
      "outputs": [
        {
          "output_type": "stream",
          "name": "stderr",
          "text": [
            "Clipping input data to the valid range for imshow with RGB data ([0..1] for floats or [0..255] for integers).\n"
          ]
        },
        {
          "output_type": "stream",
          "name": "stdout",
          "text": [
            "Feature batch shape: torch.Size([20, 3, 128, 128])\n",
            "Labels batch shape: torch.Size([20])\n"
          ]
        },
        {
          "output_type": "execute_result",
          "data": {
            "text/plain": [
              "<matplotlib.image.AxesImage at 0x7f1af0cbbc50>"
            ]
          },
          "metadata": {},
          "execution_count": 14
        },
        {
          "output_type": "display_data",
          "data": {
            "image/png": "[encoded data removed]",
            "text/plain": [
              "<Figure size 432x288 with 1 Axes>"
            ]
          },
          "metadata": {
            "needs_background": "light"
          }
        }
      ]
    },
    {
      "cell_type": "code",
      "metadata": {
        "id": "-i8Ve2uR16th",
        "colab": {
          "base_uri": "https://localhost:8080/"
        },
        "outputId": "163f87fa-f8fa-4610-d5e9-c5c6b45c71eb"
      },
      "source": [
        "class model_gender(nn.Module): # VGG_convnet\n",
        "\n",
        "    def __init__(self):\n",
        "        super(model_gender,self).__init__()\n",
        "\n",
        "        # block 1:         3 x 128 x 128 --> 64 x 32 x 32        \n",
        "        self.conv1a = nn.Conv2d(3,   64,  kernel_size=3, padding=1 )\n",
        "        self.conv1b = nn.Conv2d(64,  64,  kernel_size=3, padding=1 )\n",
        "        self.pool1  = nn.MaxPool2d(4,4)\n",
        "\n",
        "        # block 2:         64 x 32 x 32 --> 128 x 8 x 8\n",
        "        self.conv2a = nn.Conv2d(64,  128, kernel_size=3, padding=1 )\n",
        "        self.conv2b = nn.Conv2d(128, 128, kernel_size=3, padding=1 )\n",
        "        self.pool2  = nn.MaxPool2d(4,4)\n",
        "\n",
        "        # block 3:         128 x 8 x 8 --> 256 x 4 x 4        \n",
        "        self.conv3a = nn.Conv2d(128, 256, kernel_size=3, padding=1 )\n",
        "        self.conv3b = nn.Conv2d(256, 256, kernel_size=3, padding=1 )\n",
        "        self.pool3  = nn.MaxPool2d(2,2)\n",
        "\n",
        "        #block 4:          256 x 4 x 4 --> 512 x 2 x 2\n",
        "        self.conv4a = nn.Conv2d(256, 512, kernel_size=3, padding=1 )\n",
        "        self.pool4  = nn.MaxPool2d(2,2)\n",
        "\n",
        "        # linear layers:   512 x 2 x 2 --> 2048 --> 4096 --> 4096 --> 10\n",
        "        self.linear1 = nn.Linear(2048, 4096)\n",
        "        self.linear2 = nn.Linear(4096, 4096)\n",
        "        self.linear3 = nn.Linear(4096, 2)\n",
        "        \n",
        "    def forward(self, x):\n",
        "\n",
        "        # block 1:         3 x 32 x 32 --> 64 x 16 x 16\n",
        "        x = self.conv1a(x)\n",
        "        x = F.relu(x)\n",
        "        x = self.conv1b(x)\n",
        "        x = F.relu(x)\n",
        "        x = self.pool1(x)\n",
        "\n",
        "        # block 2:         64 x 16 x 16 --> 128 x 8 x 8\n",
        "        x = self.conv2a(x)\n",
        "        x = F.relu(x)\n",
        "        x = self.conv2b(x)\n",
        "        x = F.relu(x)\n",
        "        x = self.pool2(x)\n",
        "\n",
        "        # block 3:         128 x 8 x 8 --> 256 x 4 x 4\n",
        "        x = self.conv3a(x)\n",
        "        x = F.relu(x)\n",
        "        x = self.conv3b(x)\n",
        "        x = F.relu(x)\n",
        "        x = self.pool3(x)\n",
        "\n",
        "        #block 4:          256 x 4 x 4 --> 512 x 2 x 2\n",
        "        x = self.conv4a(x)\n",
        "        x = F.relu(x)\n",
        "        x = self.pool4(x)\n",
        "\n",
        "        # linear layers:   512 x 2 x 2 --> 2048 --> 4096 --> 4096 --> 10\n",
        "        x = x.view(-1, 2048)\n",
        "        x = self.linear1(x)\n",
        "        x = F.relu(x)\n",
        "        x = self.linear2(x)\n",
        "        x = F.relu(x)\n",
        "        x = self.linear3(x) \n",
        "        \n",
        "        return x\n",
        "\n",
        "net_gender = model_gender()\n",
        "print(net_gender)"
      ],
      "execution_count": 15,
      "outputs": [
        {
          "output_type": "stream",
          "name": "stdout",
          "text": [
            "model_gender(\n",
            "  (conv1a): Conv2d(3, 64, kernel_size=(3, 3), stride=(1, 1), padding=(1, 1))\n",
            "  (conv1b): Conv2d(64, 64, kernel_size=(3, 3), stride=(1, 1), padding=(1, 1))\n",
            "  (pool1): MaxPool2d(kernel_size=4, stride=4, padding=0, dilation=1, ceil_mode=False)\n",
            "  (conv2a): Conv2d(64, 128, kernel_size=(3, 3), stride=(1, 1), padding=(1, 1))\n",
            "  (conv2b): Conv2d(128, 128, kernel_size=(3, 3), stride=(1, 1), padding=(1, 1))\n",
            "  (pool2): MaxPool2d(kernel_size=4, stride=4, padding=0, dilation=1, ceil_mode=False)\n",
            "  (conv3a): Conv2d(128, 256, kernel_size=(3, 3), stride=(1, 1), padding=(1, 1))\n",
            "  (conv3b): Conv2d(256, 256, kernel_size=(3, 3), stride=(1, 1), padding=(1, 1))\n",
            "  (pool3): MaxPool2d(kernel_size=2, stride=2, padding=0, dilation=1, ceil_mode=False)\n",
            "  (conv4a): Conv2d(256, 512, kernel_size=(3, 3), stride=(1, 1), padding=(1, 1))\n",
            "  (pool4): MaxPool2d(kernel_size=2, stride=2, padding=0, dilation=1, ceil_mode=False)\n",
            "  (linear1): Linear(in_features=2048, out_features=4096, bias=True)\n",
            "  (linear2): Linear(in_features=4096, out_features=4096, bias=True)\n",
            "  (linear3): Linear(in_features=4096, out_features=2, bias=True)\n",
            ")\n"
          ]
        }
      ]
    },
    {
      "cell_type": "code",
      "metadata": {
        "id": "Y0smunpAWgsV"
      },
      "source": [
        "# send net_gender to device\n",
        "net_gender = net_gender.to(device)"
      ],
      "execution_count": 16,
      "outputs": []
    },
    {
      "cell_type": "code",
      "metadata": {
        "id": "wGvCvk_816ti"
      },
      "source": [
        "criterion = nn.CrossEntropyLoss()\n",
        "my_lr=0.25 \n",
        "bs= 20\n",
        "# device= torch.device(\"cuda\")\n",
        "# net_gender = net_gender.to(device)"
      ],
      "execution_count": 17,
      "outputs": []
    },
    {
      "cell_type": "code",
      "metadata": {
        "id": "h2bSB8Lx16ti"
      },
      "source": [
        "def get_error( scores , labels ):\n",
        "\n",
        "    bs=scores.size(0)\n",
        "    predicted_labels = scores.argmax(dim=1)\n",
        "    indicator = (predicted_labels == labels)\n",
        "    num_matches=indicator.sum()\n",
        "    \n",
        "    return 1-num_matches.float()/bs    "
      ],
      "execution_count": 18,
      "outputs": []
    },
    {
      "cell_type": "code",
      "metadata": {
        "id": "RlO6NwH216ti"
      },
      "source": [
        "def eval_on_test_set():\n",
        "\n",
        "    running_error=0\n",
        "    num_batches=0\n",
        "\n",
        "    for i in range(0,len(test_gender),bs):\n",
        "\n",
        "        minibatch_data, minibatch_label=  next(iter(test_gender_loader))\n",
        "\n",
        "        minibatch_data=minibatch_data.to(device)\n",
        "        minibatch_label=minibatch_label.to(device)\n",
        "        \n",
        "        inputs = minibatch_data\n",
        "\n",
        "        scores=net_gender( inputs ) \n",
        "\n",
        "        error = get_error( scores , minibatch_label)\n",
        "\n",
        "        running_error += error.item()\n",
        "\n",
        "        num_batches+=1\n",
        "\n",
        "    total_error = running_error/num_batches\n",
        "    print( 'error rate on test set =', total_error*100 ,'percent')"
      ],
      "execution_count": 19,
      "outputs": []
    },
    {
      "cell_type": "code",
      "metadata": {
        "id": "Yz7nrZz416tj",
        "colab": {
          "base_uri": "https://localhost:8080/"
        },
        "outputId": "e32c74b7-1c68-4e43-9354-e1ae00ecdb6b"
      },
      "source": [
        "start=time.time()\n",
        "\n",
        "for epoch in range(1,20):\n",
        "    \n",
        "    # divide the learning rate by 2 at epoch 10, 14 and 18\n",
        "    if epoch==10 or epoch == 14 or epoch==18:\n",
        "        my_lr = my_lr / 2\n",
        "    \n",
        "    # create a new optimizer at the beginning of each epoch: give the current learning rate.   \n",
        "    optimizer=torch.optim.SGD( net_gender.parameters() , lr=my_lr )\n",
        "        \n",
        "    # set the running quatities to zero at the beginning of the epoch\n",
        "    running_loss=0\n",
        "    running_error=0\n",
        "    num_batches=0\n",
        " \n",
        "    for count in range(0,len(train_gender),bs):\n",
        "    \n",
        "        # Set the gradients to zeros\n",
        "        optimizer.zero_grad()\n",
        "        \n",
        "        # create a minibatch       \n",
        "        minibatch_data, minibatch_label = next(iter(train_gender_loader))\n",
        "\n",
        "        minibatch_data=minibatch_data.to(device)\n",
        "        minibatch_label=minibatch_label.to(device)\n",
        "        \n",
        "        #print('minibatch_data size:', minibatch_data.size())\n",
        "        #print('minibatch_label size:', minibatch_label.size())\n",
        "\n",
        "        # normalize the minibatch (this is the only difference compared to before!)\n",
        "        inputs = minibatch_data\n",
        "        \n",
        "        # tell Pytorch to start tracking all operations that will be done on \"inputs\"\n",
        "        inputs.requires_grad_()\n",
        "\n",
        "        # forward the minibatch through the net \n",
        "        scores=net_gender( inputs ) \n",
        "\n",
        "        # Compute the average of the losses of the data points in the minibatch\n",
        "        loss =  criterion( scores , minibatch_label) \n",
        "        \n",
        "        # backward pass to compute dL/dU, dL/dV and dL/dW   \n",
        "        loss.backward()\n",
        "\n",
        "        # do one step of stochastic gradient descent: U=U-lr(dL/dU), V=V-lr(dL/dU), ...\n",
        "        optimizer.step()\n",
        "        \n",
        "        # START COMPUTING STATS\n",
        "        \n",
        "        # add the loss of this batch to the running loss\n",
        "        running_loss += loss.detach().item()\n",
        "        \n",
        "        # compute the error made on this batch and add it to the running error       \n",
        "        error = get_error( scores.detach() , minibatch_label)\n",
        "        running_error += error.item()\n",
        "        \n",
        "        num_batches+=1\n",
        "        # print(f'{num_batches} : {(time.time()-start)/60}')\n",
        "    \n",
        "    \n",
        "    # compute stats for the full training set\n",
        "    total_loss = running_loss/num_batches\n",
        "    total_error = running_error/num_batches\n",
        "    elapsed = (time.time()-start)/60\n",
        "\n",
        "    print('epoch=',epoch, '\\t time=', elapsed,'min','\\t lr=', my_lr  ,'\\t loss=', total_loss , '\\t error=', total_error*100 ,'percent')\n",
        "    eval_on_test_set() \n",
        "    print(' ')"
      ],
      "execution_count": 20,
      "outputs": [
        {
          "output_type": "stream",
          "name": "stdout",
          "text": [
            "epoch= 1 \t time= 63.54582317272822 min \t lr= 0.25 \t loss= 0.6920078003970483 \t error= 46.86786161939238 percent\n",
            "error rate on test set = 46.21672872808043 percent\n",
            " \n",
            "epoch= 2 \t time= 113.84113220771154 min \t lr= 0.25 \t loss= 0.6897506186857114 \t error= 45.68515344117244 percent\n",
            "error rate on test set = 50.076044104398434 percent\n",
            " \n",
            "epoch= 3 \t time= 134.06009542544683 min \t lr= 0.25 \t loss= 0.6845843368019988 \t error= 44.61663808752623 percent\n",
            "error rate on test set = 38.65018888118149 percent\n",
            " \n",
            "epoch= 4 \t time= 142.97899755239487 min \t lr= 0.25 \t loss= 0.6472777751977836 \t error= 37.78140159843407 percent\n",
            "error rate on test set = 34.67680496861273 percent\n",
            " \n",
            "epoch= 5 \t time= 147.6955739935239 min \t lr= 0.25 \t loss= 0.5881312565838532 \t error= 31.435561481541168 percent\n",
            "error rate on test set = 25.361215456357023 percent\n",
            " \n",
            "epoch= 6 \t time= 150.62424438794454 min \t lr= 0.25 \t loss= 0.5167382929054792 \t error= 25.71778017389444 percent\n",
            "error rate on test set = 27.30037914482813 percent\n",
            " \n",
            "epoch= 7 \t time= 153.09543079137802 min \t lr= 0.25 \t loss= 0.4331655857953901 \t error= 20.203913862514653 percent\n",
            "error rate on test set = 19.182508254685782 percent\n",
            " \n",
            "epoch= 8 \t time= 155.31987661123276 min \t lr= 0.25 \t loss= 0.3775709348489176 \t error= 16.761825621419785 percent\n",
            "error rate on test set = 19.524713432834176 percent\n",
            " \n",
            "epoch= 9 \t time= 157.51726809740066 min \t lr= 0.25 \t loss= 0.33612641694592416 \t error= 14.241434193746494 percent\n",
            "error rate on test set = 23.21292642404825 percent\n",
            " \n",
            "epoch= 10 \t time= 159.67033242384593 min \t lr= 0.125 \t loss= 0.1960783834101216 \t error= 7.699835932468707 percent\n",
            "error rate on test set = 13.574143167684285 percent\n",
            " \n",
            "epoch= 11 \t time= 161.78736077547075 min \t lr= 0.125 \t loss= 0.14750145467493506 \t error= 5.530179042800604 percent\n",
            "error rate on test set = 14.011405312063122 percent\n",
            " \n",
            "epoch= 12 \t time= 163.88810869852702 min \t lr= 0.125 \t loss= 0.12078318774182088 \t error= 4.657422193306305 percent\n",
            "error rate on test set = 13.003800803717553 percent\n",
            " \n",
            "epoch= 13 \t time= 165.9804679910342 min \t lr= 0.125 \t loss= 0.09415350342473261 \t error= 3.474714423470551 percent\n",
            "error rate on test set = 11.806082136277464 percent\n",
            " \n",
            "epoch= 14 \t time= 168.05437848567962 min \t lr= 0.0625 \t loss= 0.04062783588396492 \t error= 1.4437195819120423 percent\n",
            "error rate on test set = 11.977184861331839 percent\n",
            " \n",
            "epoch= 15 \t time= 170.11274975538254 min \t lr= 0.0625 \t loss= 0.026154579428601384 \t error= 0.8646004546135908 percent\n",
            "error rate on test set = 10.684409204997944 percent\n",
            " \n",
            "epoch= 16 \t time= 172.17009114821752 min \t lr= 0.0625 \t loss= 0.014376465782466027 \t error= 0.47308328101141023 percent\n",
            "error rate on test set = 11.63497963785672 percent\n",
            " \n",
            "epoch= 17 \t time= 174.2500708500544 min \t lr= 0.0625 \t loss= 0.018705611914417098 \t error= 0.6525286745286104 percent\n",
            "error rate on test set = 11.216728700884394 percent\n",
            " \n",
            "epoch= 18 \t time= 176.28372511466344 min \t lr= 0.03125 \t loss= 0.006530598337612778 \t error= 0.16313217592472742 percent\n",
            "error rate on test set = 11.254751342331048 percent\n",
            " \n",
            "epoch= 19 \t time= 178.3433669726054 min \t lr= 0.03125 \t loss= 0.0011221017570734535 \t error= 0.02446982638870911 percent\n",
            "error rate on test set = 9.923953021887137 percent\n",
            " \n"
          ]
        }
      ]
    }
  ]
}