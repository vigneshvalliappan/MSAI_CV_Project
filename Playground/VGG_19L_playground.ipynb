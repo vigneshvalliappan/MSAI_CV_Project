{
  "nbformat": 4,
  "nbformat_minor": 0,
  "metadata": {
    "interpreter": {
      "hash": "8ab70c8717d59d3d18e55ddb9fc009ca9a9cdea0e10f7027a2b729168083aba5"
    },
    "kernelspec": {
      "display_name": "Python 3",
      "language": "python",
      "name": "python3"
    },
    "language_info": {
      "codemirror_mode": {
        "name": "ipython",
        "version": 3
      },
      "file_extension": ".py",
      "mimetype": "text/x-python",
      "name": "python",
      "nbconvert_exporter": "python",
      "pygments_lexer": "ipython3",
      "version": "3.7.6"
    },
    "colab": {
      "name": "VGG_19L_playground.ipynb",
      "provenance": [],
      "include_colab_link": true
    }
  },
  "cells": [
    {
      "cell_type": "markdown",
      "metadata": {
        "id": "view-in-github",
        "colab_type": "text"
      },
      "source": [
        "<a href=\"https://colab.research.google.com/github/vigneshvalliappan/MSAI_CV_Project/blob/main/Playground/VGG_19L_playground.ipynb\" target=\"_parent\"><img src=\"https://colab.research.google.com/assets/colab-badge.svg\" alt=\"Open In Colab\"/></a>"
      ]
    },
    {
      "cell_type": "code",
      "metadata": {
        "id": "BL_styY-c8_T"
      },
      "source": [
        "import pandas as pd\n",
        "import numpy as np\n",
        "import cv2\n",
        "from matplotlib import pyplot as plt\n",
        "import json\n",
        "\n",
        "import torch\n",
        "import torch.nn as nn\n",
        "import torch.nn.functional as F\n",
        "import torch.optim as optim\n",
        "from random import randint\n",
        "import time"
      ],
      "execution_count": null,
      "outputs": []
    },
    {
      "cell_type": "code",
      "metadata": {
        "id": "LuYdLo52jBY8"
      },
      "source": [
        "# decide whether to compute using GPU\n",
        "\n",
        "device= torch.device(\"cuda\")\n",
        "#device= torch.device(\"cpu\")\n",
        "print(device)"
      ],
      "execution_count": null,
      "outputs": []
    },
    {
      "cell_type": "code",
      "metadata": {
        "id": "RVtGHwNQc8_Z",
        "outputId": "586b4c6c-fa70-478a-dd34-7eb340c466b2"
      },
      "source": [
        "fold_0 = pd.read_csv('AdienceBenchmarkGenderAndAgeClassification/fold_0_data.txt',sep='\\t')\n",
        "fold_1 = pd.read_csv('AdienceBenchmarkGenderAndAgeClassification/fold_1_data.txt',sep='\\t')\n",
        "fold_2 = pd.read_csv('AdienceBenchmarkGenderAndAgeClassification/fold_2_data.txt',sep='\\t')\n",
        "fold_3 = pd.read_csv('AdienceBenchmarkGenderAndAgeClassification/fold_3_data.txt',sep='\\t')\n",
        "fold_4 = pd.read_csv('AdienceBenchmarkGenderAndAgeClassification/fold_4_data.txt',sep='\\t')\n",
        "fold_combined = pd.concat([fold_0,fold_1,fold_2,fold_3,fold_4],ignore_index=True)\n",
        "print(f'Number of rows: {len(fold_combined)}')\n",
        "fold_combined.info()"
      ],
      "execution_count": null,
      "outputs": [
        {
          "name": "stdout",
          "output_type": "stream",
          "text": [
            "Number of rows: 19370\n",
            "<class 'pandas.core.frame.DataFrame'>\n",
            "RangeIndex: 19370 entries, 0 to 19369\n",
            "Data columns (total 12 columns):\n",
            " #   Column              Non-Null Count  Dtype \n",
            "---  ------              --------------  ----- \n",
            " 0   user_id             19370 non-null  object\n",
            " 1   original_image      19370 non-null  object\n",
            " 2   face_id             19370 non-null  int64 \n",
            " 3   age                 19370 non-null  object\n",
            " 4   gender              18591 non-null  object\n",
            " 5   x                   19370 non-null  int64 \n",
            " 6   y                   19370 non-null  int64 \n",
            " 7   dx                  19370 non-null  int64 \n",
            " 8   dy                  19370 non-null  int64 \n",
            " 9   tilt_ang            19370 non-null  int64 \n",
            " 10  fiducial_yaw_angle  19370 non-null  int64 \n",
            " 11  fiducial_score      19370 non-null  int64 \n",
            "dtypes: int64(8), object(4)\n",
            "memory usage: 1.8+ MB\n"
          ]
        }
      ]
    },
    {
      "cell_type": "code",
      "metadata": {
        "id": "3Qvtze9Bc8_c",
        "outputId": "d5fef332-39d1-409e-f4a6-e247eb53e939"
      },
      "source": [
        "fold_combined.head()"
      ],
      "execution_count": null,
      "outputs": [
        {
          "data": {
            "text/html": [
              "<div>\n",
              "<style scoped>\n",
              "    .dataframe tbody tr th:only-of-type {\n",
              "        vertical-align: middle;\n",
              "    }\n",
              "\n",
              "    .dataframe tbody tr th {\n",
              "        vertical-align: top;\n",
              "    }\n",
              "\n",
              "    .dataframe thead th {\n",
              "        text-align: right;\n",
              "    }\n",
              "</style>\n",
              "<table border=\"1\" class=\"dataframe\">\n",
              "  <thead>\n",
              "    <tr style=\"text-align: right;\">\n",
              "      <th></th>\n",
              "      <th>user_id</th>\n",
              "      <th>original_image</th>\n",
              "      <th>face_id</th>\n",
              "      <th>age</th>\n",
              "      <th>gender</th>\n",
              "      <th>x</th>\n",
              "      <th>y</th>\n",
              "      <th>dx</th>\n",
              "      <th>dy</th>\n",
              "      <th>tilt_ang</th>\n",
              "      <th>fiducial_yaw_angle</th>\n",
              "      <th>fiducial_score</th>\n",
              "    </tr>\n",
              "  </thead>\n",
              "  <tbody>\n",
              "    <tr>\n",
              "      <th>0</th>\n",
              "      <td>30601258@N03</td>\n",
              "      <td>10399646885_67c7d20df9_o.jpg</td>\n",
              "      <td>1</td>\n",
              "      <td>(25, 32)</td>\n",
              "      <td>f</td>\n",
              "      <td>0</td>\n",
              "      <td>414</td>\n",
              "      <td>1086</td>\n",
              "      <td>1383</td>\n",
              "      <td>-115</td>\n",
              "      <td>30</td>\n",
              "      <td>17</td>\n",
              "    </tr>\n",
              "    <tr>\n",
              "      <th>1</th>\n",
              "      <td>30601258@N03</td>\n",
              "      <td>10424815813_e94629b1ec_o.jpg</td>\n",
              "      <td>2</td>\n",
              "      <td>(25, 32)</td>\n",
              "      <td>m</td>\n",
              "      <td>301</td>\n",
              "      <td>105</td>\n",
              "      <td>640</td>\n",
              "      <td>641</td>\n",
              "      <td>0</td>\n",
              "      <td>0</td>\n",
              "      <td>94</td>\n",
              "    </tr>\n",
              "    <tr>\n",
              "      <th>2</th>\n",
              "      <td>30601258@N03</td>\n",
              "      <td>10437979845_5985be4b26_o.jpg</td>\n",
              "      <td>1</td>\n",
              "      <td>(25, 32)</td>\n",
              "      <td>f</td>\n",
              "      <td>2395</td>\n",
              "      <td>876</td>\n",
              "      <td>771</td>\n",
              "      <td>771</td>\n",
              "      <td>175</td>\n",
              "      <td>-30</td>\n",
              "      <td>74</td>\n",
              "    </tr>\n",
              "    <tr>\n",
              "      <th>3</th>\n",
              "      <td>30601258@N03</td>\n",
              "      <td>10437979845_5985be4b26_o.jpg</td>\n",
              "      <td>3</td>\n",
              "      <td>(25, 32)</td>\n",
              "      <td>m</td>\n",
              "      <td>752</td>\n",
              "      <td>1255</td>\n",
              "      <td>484</td>\n",
              "      <td>485</td>\n",
              "      <td>180</td>\n",
              "      <td>0</td>\n",
              "      <td>47</td>\n",
              "    </tr>\n",
              "    <tr>\n",
              "      <th>4</th>\n",
              "      <td>30601258@N03</td>\n",
              "      <td>11816644924_075c3d8d59_o.jpg</td>\n",
              "      <td>2</td>\n",
              "      <td>(25, 32)</td>\n",
              "      <td>m</td>\n",
              "      <td>175</td>\n",
              "      <td>80</td>\n",
              "      <td>769</td>\n",
              "      <td>768</td>\n",
              "      <td>-75</td>\n",
              "      <td>0</td>\n",
              "      <td>34</td>\n",
              "    </tr>\n",
              "  </tbody>\n",
              "</table>\n",
              "</div>"
            ],
            "text/plain": [
              "        user_id                original_image  face_id       age gender     x  \\\n",
              "0  30601258@N03  10399646885_67c7d20df9_o.jpg        1  (25, 32)      f     0   \n",
              "1  30601258@N03  10424815813_e94629b1ec_o.jpg        2  (25, 32)      m   301   \n",
              "2  30601258@N03  10437979845_5985be4b26_o.jpg        1  (25, 32)      f  2395   \n",
              "3  30601258@N03  10437979845_5985be4b26_o.jpg        3  (25, 32)      m   752   \n",
              "4  30601258@N03  11816644924_075c3d8d59_o.jpg        2  (25, 32)      m   175   \n",
              "\n",
              "      y    dx    dy  tilt_ang  fiducial_yaw_angle  fiducial_score  \n",
              "0   414  1086  1383      -115                  30              17  \n",
              "1   105   640   641         0                   0              94  \n",
              "2   876   771   771       175                 -30              74  \n",
              "3  1255   484   485       180                   0              47  \n",
              "4    80   769   768       -75                   0              34  "
            ]
          },
          "execution_count": 3,
          "metadata": {},
          "output_type": "execute_result"
        }
      ]
    },
    {
      "cell_type": "code",
      "metadata": {
        "id": "VQ9kUgs6c8_e",
        "outputId": "3fcad4a5-df04-407c-e314-3bd1eaf5c2d0"
      },
      "source": [
        "# age break down\n",
        "print(fold_combined.age.unique())\n",
        "fold_combined.age.value_counts().plot.pie()"
      ],
      "execution_count": null,
      "outputs": [
        {
          "name": "stdout",
          "output_type": "stream",
          "text": [
            "['(25, 32)' '(38, 43)' '(4, 6)' '(60, 100)' '(15, 20)' '(48, 53)'\n",
            " '(8, 12)' '(0, 2)' 'None' '(38, 48)' '35' '3' '55' '58' '22' '13' '45'\n",
            " '36' '23' '(38, 42)' '(8, 23)' '(27, 32)' '57' '56' '2' '29' '34' '42'\n",
            " '46' '32']\n"
          ]
        },
        {
          "data": {
            "text/plain": [
              "<AxesSubplot:ylabel='age'>"
            ]
          },
          "execution_count": 4,
          "metadata": {},
          "output_type": "execute_result"
        },
        {
          "data": {
            "image/png": "[encoded data removed]",
            "text/plain": [
              "<Figure size 432x288 with 1 Axes>"
            ]
          },
          "metadata": {},
          "output_type": "display_data"
        }
      ]
    },
    {
      "cell_type": "code",
      "metadata": {
        "id": "kd9yrigfc8_e",
        "outputId": "c1477955-0dc2-4c0d-ab00-f5ccf08fdcc5"
      },
      "source": [
        "# gender break down\n",
        "fold_combined.groupby(['gender'])['gender'].count().plot.bar()"
      ],
      "execution_count": null,
      "outputs": [
        {
          "data": {
            "text/plain": [
              "<AxesSubplot:xlabel='gender'>"
            ]
          },
          "execution_count": 5,
          "metadata": {},
          "output_type": "execute_result"
        },
        {
          "data": {
            "image/png": "[encoded data removed]",
            "text/plain": [
              "<Figure size 432x288 with 1 Axes>"
            ]
          },
          "metadata": {
            "needs_background": "light"
          },
          "output_type": "display_data"
        }
      ]
    },
    {
      "cell_type": "code",
      "metadata": {
        "id": "8cGs3rgUc8_f",
        "outputId": "46f497a9-2ebd-44df-9401-1c920eb1fa16"
      },
      "source": [
        "# new column to record the file path\n",
        "fold_combined['filepath'] = 'AdienceBenchmarkGenderAndAgeClassification/faces/' + fold_combined['user_id'] + '/coarse_tilt_aligned_face.' + fold_combined['face_id'].astype('str') + '.' + fold_combined['original_image']\n",
        "fold_combined['filepath']"
      ],
      "execution_count": null,
      "outputs": [
        {
          "data": {
            "text/plain": [
              "0        AdienceBenchmarkGenderAndAgeClassification/fac...\n",
              "1        AdienceBenchmarkGenderAndAgeClassification/fac...\n",
              "2        AdienceBenchmarkGenderAndAgeClassification/fac...\n",
              "3        AdienceBenchmarkGenderAndAgeClassification/fac...\n",
              "4        AdienceBenchmarkGenderAndAgeClassification/fac...\n",
              "                               ...                        \n",
              "19365    AdienceBenchmarkGenderAndAgeClassification/fac...\n",
              "19366    AdienceBenchmarkGenderAndAgeClassification/fac...\n",
              "19367    AdienceBenchmarkGenderAndAgeClassification/fac...\n",
              "19368    AdienceBenchmarkGenderAndAgeClassification/fac...\n",
              "19369    AdienceBenchmarkGenderAndAgeClassification/fac...\n",
              "Name: filepath, Length: 19370, dtype: object"
            ]
          },
          "execution_count": 6,
          "metadata": {},
          "output_type": "execute_result"
        }
      ]
    },
    {
      "cell_type": "code",
      "metadata": {
        "id": "Wq3TAINjc8_g",
        "outputId": "8914cc08-ed5f-4b82-de80-ac114b825a6a"
      },
      "source": [
        "# filtered of unlabelled data\n",
        "print(len(fold_combined))\n",
        "fold_combined = fold_combined[fold_combined['age'] != 'None']\n",
        "fold_combined = fold_combined[fold_combined['gender'] != 'u']\n",
        "fold_combined = fold_combined[fold_combined['gender'].notna()]\n",
        "print(len(fold_combined))"
      ],
      "execution_count": null,
      "outputs": [
        {
          "name": "stdout",
          "output_type": "stream",
          "text": [
            "19370\n",
            "17452\n"
          ]
        }
      ]
    },
    {
      "cell_type": "code",
      "metadata": {
        "id": "QWGCNOSJc8_g",
        "outputId": "a475e3a1-099d-4fb6-88af-80e4aaf9a18f"
      },
      "source": [
        "# formulating age class\n",
        "with open('age_class.json') as f:\n",
        "    age_class = json.load(f)\n",
        "\n",
        "fold_combined['age'] = fold_combined['age'].apply(lambda x: age_class[x])\n",
        "fold_combined.age.value_counts()"
      ],
      "execution_count": null,
      "outputs": [
        {
          "data": {
            "text/plain": [
              "25-36    5493\n",
              "38-47    2435\n",
              "8-14     2286\n",
              "4-6      2139\n",
              "15-24    1885\n",
              "0-3      1418\n",
              "48-59     930\n",
              "60+       866\n",
              "Name: age, dtype: int64"
            ]
          },
          "execution_count": 8,
          "metadata": {},
          "output_type": "execute_result"
        }
      ]
    },
    {
      "cell_type": "code",
      "metadata": {
        "id": "IS_yaTDrc8_h",
        "outputId": "2a8028a7-870c-47ab-91c6-7a9ec76cb521"
      },
      "source": [
        "# convert class to int\n",
        "def labelling_age(age_range):\n",
        "    if age_range == '0-3':\n",
        "        return 0\n",
        "    elif age_range == '4-6':\n",
        "        return 1\n",
        "    elif age_range == '8-14':\n",
        "        return 2\n",
        "    elif age_range == '15-24':\n",
        "        return 3\n",
        "    elif age_range == '25-36':\n",
        "        return 4\n",
        "    elif age_range == '38-47':\n",
        "        return 5\n",
        "    elif age_range == '48-59':\n",
        "        return 6\n",
        "    elif age_range == '60+':\n",
        "        return 7\n",
        "\n",
        "\n",
        "fold_combined['label_age'] = fold_combined['age'].apply(labelling_age)\n",
        "fold_combined.label_age.value_counts()"
      ],
      "execution_count": null,
      "outputs": [
        {
          "data": {
            "text/plain": [
              "4    5493\n",
              "5    2435\n",
              "2    2286\n",
              "1    2139\n",
              "3    1885\n",
              "0    1418\n",
              "6     930\n",
              "7     866\n",
              "Name: label_age, dtype: int64"
            ]
          },
          "execution_count": 9,
          "metadata": {},
          "output_type": "execute_result"
        }
      ]
    },
    {
      "cell_type": "code",
      "metadata": {
        "id": "BRCxImEXc8_j",
        "outputId": "873a48af-67b1-4932-db05-ce05001bc8e6"
      },
      "source": [
        "# gender class\n",
        "fold_combined.gender.value_counts()"
      ],
      "execution_count": null,
      "outputs": [
        {
          "data": {
            "text/plain": [
              "f    9332\n",
              "m    8120\n",
              "Name: gender, dtype: int64"
            ]
          },
          "execution_count": 10,
          "metadata": {},
          "output_type": "execute_result"
        }
      ]
    },
    {
      "cell_type": "code",
      "metadata": {
        "id": "Px3yGt_Oc8_j",
        "outputId": "9f8551da-139e-4341-909b-997f16fa69f5"
      },
      "source": [
        "# convert class to int\n",
        "def labelling_gender(gender_range):\n",
        "    if gender_range == 'm':\n",
        "        result = 0\n",
        "    elif gender_range == 'f':\n",
        "        result = 1\n",
        "    else:\n",
        "        print(gender_range)\n",
        "    return result\n",
        "\n",
        "fold_combined['label_gender'] = fold_combined['gender'].apply(labelling_gender)\n",
        "fold_combined.label_gender.value_counts()"
      ],
      "execution_count": null,
      "outputs": [
        {
          "data": {
            "text/plain": [
              "1    9332\n",
              "0    8120\n",
              "Name: label_gender, dtype: int64"
            ]
          },
          "execution_count": 11,
          "metadata": {},
          "output_type": "execute_result"
        }
      ]
    },
    {
      "cell_type": "code",
      "metadata": {
        "id": "WnOuMqB-c8_k",
        "outputId": "50960859-9f07-45a5-f17a-3f2b712ea81a"
      },
      "source": [
        "fold_combined"
      ],
      "execution_count": null,
      "outputs": [
        {
          "data": {
            "text/html": [
              "<div>\n",
              "<style scoped>\n",
              "    .dataframe tbody tr th:only-of-type {\n",
              "        vertical-align: middle;\n",
              "    }\n",
              "\n",
              "    .dataframe tbody tr th {\n",
              "        vertical-align: top;\n",
              "    }\n",
              "\n",
              "    .dataframe thead th {\n",
              "        text-align: right;\n",
              "    }\n",
              "</style>\n",
              "<table border=\"1\" class=\"dataframe\">\n",
              "  <thead>\n",
              "    <tr style=\"text-align: right;\">\n",
              "      <th></th>\n",
              "      <th>user_id</th>\n",
              "      <th>original_image</th>\n",
              "      <th>face_id</th>\n",
              "      <th>age</th>\n",
              "      <th>gender</th>\n",
              "      <th>x</th>\n",
              "      <th>y</th>\n",
              "      <th>dx</th>\n",
              "      <th>dy</th>\n",
              "      <th>tilt_ang</th>\n",
              "      <th>fiducial_yaw_angle</th>\n",
              "      <th>fiducial_score</th>\n",
              "      <th>filepath</th>\n",
              "      <th>label_age</th>\n",
              "      <th>label_gender</th>\n",
              "    </tr>\n",
              "  </thead>\n",
              "  <tbody>\n",
              "    <tr>\n",
              "      <th>0</th>\n",
              "      <td>30601258@N03</td>\n",
              "      <td>10399646885_67c7d20df9_o.jpg</td>\n",
              "      <td>1</td>\n",
              "      <td>25-36</td>\n",
              "      <td>f</td>\n",
              "      <td>0</td>\n",
              "      <td>414</td>\n",
              "      <td>1086</td>\n",
              "      <td>1383</td>\n",
              "      <td>-115</td>\n",
              "      <td>30</td>\n",
              "      <td>17</td>\n",
              "      <td>AdienceBenchmarkGenderAndAgeClassification/fac...</td>\n",
              "      <td>4</td>\n",
              "      <td>1</td>\n",
              "    </tr>\n",
              "    <tr>\n",
              "      <th>1</th>\n",
              "      <td>30601258@N03</td>\n",
              "      <td>10424815813_e94629b1ec_o.jpg</td>\n",
              "      <td>2</td>\n",
              "      <td>25-36</td>\n",
              "      <td>m</td>\n",
              "      <td>301</td>\n",
              "      <td>105</td>\n",
              "      <td>640</td>\n",
              "      <td>641</td>\n",
              "      <td>0</td>\n",
              "      <td>0</td>\n",
              "      <td>94</td>\n",
              "      <td>AdienceBenchmarkGenderAndAgeClassification/fac...</td>\n",
              "      <td>4</td>\n",
              "      <td>0</td>\n",
              "    </tr>\n",
              "    <tr>\n",
              "      <th>2</th>\n",
              "      <td>30601258@N03</td>\n",
              "      <td>10437979845_5985be4b26_o.jpg</td>\n",
              "      <td>1</td>\n",
              "      <td>25-36</td>\n",
              "      <td>f</td>\n",
              "      <td>2395</td>\n",
              "      <td>876</td>\n",
              "      <td>771</td>\n",
              "      <td>771</td>\n",
              "      <td>175</td>\n",
              "      <td>-30</td>\n",
              "      <td>74</td>\n",
              "      <td>AdienceBenchmarkGenderAndAgeClassification/fac...</td>\n",
              "      <td>4</td>\n",
              "      <td>1</td>\n",
              "    </tr>\n",
              "    <tr>\n",
              "      <th>3</th>\n",
              "      <td>30601258@N03</td>\n",
              "      <td>10437979845_5985be4b26_o.jpg</td>\n",
              "      <td>3</td>\n",
              "      <td>25-36</td>\n",
              "      <td>m</td>\n",
              "      <td>752</td>\n",
              "      <td>1255</td>\n",
              "      <td>484</td>\n",
              "      <td>485</td>\n",
              "      <td>180</td>\n",
              "      <td>0</td>\n",
              "      <td>47</td>\n",
              "      <td>AdienceBenchmarkGenderAndAgeClassification/fac...</td>\n",
              "      <td>4</td>\n",
              "      <td>0</td>\n",
              "    </tr>\n",
              "    <tr>\n",
              "      <th>4</th>\n",
              "      <td>30601258@N03</td>\n",
              "      <td>11816644924_075c3d8d59_o.jpg</td>\n",
              "      <td>2</td>\n",
              "      <td>25-36</td>\n",
              "      <td>m</td>\n",
              "      <td>175</td>\n",
              "      <td>80</td>\n",
              "      <td>769</td>\n",
              "      <td>768</td>\n",
              "      <td>-75</td>\n",
              "      <td>0</td>\n",
              "      <td>34</td>\n",
              "      <td>AdienceBenchmarkGenderAndAgeClassification/fac...</td>\n",
              "      <td>4</td>\n",
              "      <td>0</td>\n",
              "    </tr>\n",
              "    <tr>\n",
              "      <th>...</th>\n",
              "      <td>...</td>\n",
              "      <td>...</td>\n",
              "      <td>...</td>\n",
              "      <td>...</td>\n",
              "      <td>...</td>\n",
              "      <td>...</td>\n",
              "      <td>...</td>\n",
              "      <td>...</td>\n",
              "      <td>...</td>\n",
              "      <td>...</td>\n",
              "      <td>...</td>\n",
              "      <td>...</td>\n",
              "      <td>...</td>\n",
              "      <td>...</td>\n",
              "      <td>...</td>\n",
              "    </tr>\n",
              "    <tr>\n",
              "      <th>19341</th>\n",
              "      <td>101515718@N03</td>\n",
              "      <td>10587826073_6663f5b654_o.jpg</td>\n",
              "      <td>2280</td>\n",
              "      <td>25-36</td>\n",
              "      <td>f</td>\n",
              "      <td>718</td>\n",
              "      <td>748</td>\n",
              "      <td>492</td>\n",
              "      <td>492</td>\n",
              "      <td>0</td>\n",
              "      <td>0</td>\n",
              "      <td>63</td>\n",
              "      <td>AdienceBenchmarkGenderAndAgeClassification/fac...</td>\n",
              "      <td>4</td>\n",
              "      <td>1</td>\n",
              "    </tr>\n",
              "    <tr>\n",
              "      <th>19342</th>\n",
              "      <td>101515718@N03</td>\n",
              "      <td>10587571495_a61785cd06_o.jpg</td>\n",
              "      <td>2278</td>\n",
              "      <td>25-36</td>\n",
              "      <td>m</td>\n",
              "      <td>48</td>\n",
              "      <td>472</td>\n",
              "      <td>768</td>\n",
              "      <td>768</td>\n",
              "      <td>-15</td>\n",
              "      <td>0</td>\n",
              "      <td>25</td>\n",
              "      <td>AdienceBenchmarkGenderAndAgeClassification/fac...</td>\n",
              "      <td>4</td>\n",
              "      <td>0</td>\n",
              "    </tr>\n",
              "    <tr>\n",
              "      <th>19343</th>\n",
              "      <td>101515718@N03</td>\n",
              "      <td>10587571495_a61785cd06_o.jpg</td>\n",
              "      <td>2279</td>\n",
              "      <td>25-36</td>\n",
              "      <td>f</td>\n",
              "      <td>950</td>\n",
              "      <td>0</td>\n",
              "      <td>692</td>\n",
              "      <td>687</td>\n",
              "      <td>-5</td>\n",
              "      <td>0</td>\n",
              "      <td>27</td>\n",
              "      <td>AdienceBenchmarkGenderAndAgeClassification/fac...</td>\n",
              "      <td>4</td>\n",
              "      <td>1</td>\n",
              "    </tr>\n",
              "    <tr>\n",
              "      <th>19344</th>\n",
              "      <td>50458575@N08</td>\n",
              "      <td>9426695459_9e8b347604_o.jpg</td>\n",
              "      <td>2281</td>\n",
              "      <td>25-36</td>\n",
              "      <td>f</td>\n",
              "      <td>831</td>\n",
              "      <td>895</td>\n",
              "      <td>899</td>\n",
              "      <td>899</td>\n",
              "      <td>0</td>\n",
              "      <td>15</td>\n",
              "      <td>59</td>\n",
              "      <td>AdienceBenchmarkGenderAndAgeClassification/fac...</td>\n",
              "      <td>4</td>\n",
              "      <td>1</td>\n",
              "    </tr>\n",
              "    <tr>\n",
              "      <th>19345</th>\n",
              "      <td>50458575@N08</td>\n",
              "      <td>9429464468_1bfc39ecfb_o.jpg</td>\n",
              "      <td>2281</td>\n",
              "      <td>25-36</td>\n",
              "      <td>f</td>\n",
              "      <td>653</td>\n",
              "      <td>1023</td>\n",
              "      <td>555</td>\n",
              "      <td>554</td>\n",
              "      <td>5</td>\n",
              "      <td>30</td>\n",
              "      <td>70</td>\n",
              "      <td>AdienceBenchmarkGenderAndAgeClassification/fac...</td>\n",
              "      <td>4</td>\n",
              "      <td>1</td>\n",
              "    </tr>\n",
              "  </tbody>\n",
              "</table>\n",
              "<p>17452 rows × 15 columns</p>\n",
              "</div>"
            ],
            "text/plain": [
              "             user_id                original_image  face_id    age gender  \\\n",
              "0       30601258@N03  10399646885_67c7d20df9_o.jpg        1  25-36      f   \n",
              "1       30601258@N03  10424815813_e94629b1ec_o.jpg        2  25-36      m   \n",
              "2       30601258@N03  10437979845_5985be4b26_o.jpg        1  25-36      f   \n",
              "3       30601258@N03  10437979845_5985be4b26_o.jpg        3  25-36      m   \n",
              "4       30601258@N03  11816644924_075c3d8d59_o.jpg        2  25-36      m   \n",
              "...              ...                           ...      ...    ...    ...   \n",
              "19341  101515718@N03  10587826073_6663f5b654_o.jpg     2280  25-36      f   \n",
              "19342  101515718@N03  10587571495_a61785cd06_o.jpg     2278  25-36      m   \n",
              "19343  101515718@N03  10587571495_a61785cd06_o.jpg     2279  25-36      f   \n",
              "19344   50458575@N08   9426695459_9e8b347604_o.jpg     2281  25-36      f   \n",
              "19345   50458575@N08   9429464468_1bfc39ecfb_o.jpg     2281  25-36      f   \n",
              "\n",
              "          x     y    dx    dy  tilt_ang  fiducial_yaw_angle  fiducial_score  \\\n",
              "0         0   414  1086  1383      -115                  30              17   \n",
              "1       301   105   640   641         0                   0              94   \n",
              "2      2395   876   771   771       175                 -30              74   \n",
              "3       752  1255   484   485       180                   0              47   \n",
              "4       175    80   769   768       -75                   0              34   \n",
              "...     ...   ...   ...   ...       ...                 ...             ...   \n",
              "19341   718   748   492   492         0                   0              63   \n",
              "19342    48   472   768   768       -15                   0              25   \n",
              "19343   950     0   692   687        -5                   0              27   \n",
              "19344   831   895   899   899         0                  15              59   \n",
              "19345   653  1023   555   554         5                  30              70   \n",
              "\n",
              "                                                filepath  label_age  \\\n",
              "0      AdienceBenchmarkGenderAndAgeClassification/fac...          4   \n",
              "1      AdienceBenchmarkGenderAndAgeClassification/fac...          4   \n",
              "2      AdienceBenchmarkGenderAndAgeClassification/fac...          4   \n",
              "3      AdienceBenchmarkGenderAndAgeClassification/fac...          4   \n",
              "4      AdienceBenchmarkGenderAndAgeClassification/fac...          4   \n",
              "...                                                  ...        ...   \n",
              "19341  AdienceBenchmarkGenderAndAgeClassification/fac...          4   \n",
              "19342  AdienceBenchmarkGenderAndAgeClassification/fac...          4   \n",
              "19343  AdienceBenchmarkGenderAndAgeClassification/fac...          4   \n",
              "19344  AdienceBenchmarkGenderAndAgeClassification/fac...          4   \n",
              "19345  AdienceBenchmarkGenderAndAgeClassification/fac...          4   \n",
              "\n",
              "       label_gender  \n",
              "0                 1  \n",
              "1                 0  \n",
              "2                 1  \n",
              "3                 0  \n",
              "4                 0  \n",
              "...             ...  \n",
              "19341             1  \n",
              "19342             0  \n",
              "19343             1  \n",
              "19344             1  \n",
              "19345             1  \n",
              "\n",
              "[17452 rows x 15 columns]"
            ]
          },
          "execution_count": 12,
          "metadata": {},
          "output_type": "execute_result"
        }
      ]
    },
    {
      "cell_type": "markdown",
      "metadata": {
        "id": "O2xpwtXSc8_l"
      },
      "source": [
        "# Gender Model"
      ]
    },
    {
      "cell_type": "code",
      "metadata": {
        "id": "Fpwjpmtwc8_m"
      },
      "source": [
        "X = fold_combined['filepath']\n",
        "y = fold_combined['label_gender']"
      ],
      "execution_count": null,
      "outputs": []
    },
    {
      "cell_type": "code",
      "metadata": {
        "id": "yti1CYOkc8_m",
        "outputId": "16ada65a-7c53-452d-9935-39a557e99ab3"
      },
      "source": [
        "from sklearn.model_selection import train_test_split\n",
        "\n",
        "X_train, X_test,y_train,y_test = train_test_split(X,y,test_size=0.25,random_state=99)\n",
        "\n",
        "print(f'train X shape: {len(X_train)}')\n",
        "print(f'test x shape: {len(X_test)}')\n",
        "print(f'train y shape: {len(y_train)}')\n",
        "print(f'test y shape: {len(y_test)}')"
      ],
      "execution_count": null,
      "outputs": [
        {
          "name": "stdout",
          "output_type": "stream",
          "text": [
            "train X shape: 13089\n",
            "test x shape: 4363\n",
            "train y shape: 13089\n",
            "test y shape: 4363\n"
          ]
        }
      ]
    },
    {
      "cell_type": "code",
      "metadata": {
        "id": "aSQf1bOSc8_n",
        "outputId": "9312a646-eaf0-4063-f48b-98b4bc396565"
      },
      "source": [
        "y_train = torch.from_numpy(np.asarray(y_train))\n",
        "y_train = y_train.type(torch.long)\n",
        "y_test = torch.from_numpy(np.asarray(y_test))\n",
        "y_test = y_test.type(torch.long)\n",
        "\n",
        "print(f'y_train: {y_train.size()}')\n",
        "print(f'y_test: {y_test.size()}')"
      ],
      "execution_count": null,
      "outputs": [
        {
          "name": "stdout",
          "output_type": "stream",
          "text": [
            "y_train: torch.Size([13089])\n",
            "y_test: torch.Size([4363])\n"
          ]
        }
      ]
    },
    {
      "cell_type": "code",
      "metadata": {
        "id": "a9T_nPJPc8_n",
        "outputId": "2df1fe5e-be36-431a-f834-5cfc45d09f9a"
      },
      "source": [
        "from PIL import Image\n",
        "\n",
        "def get_image(series):\n",
        "    results = []\n",
        "    for row in series:\n",
        "        image = Image.open(row)\n",
        "        image = image.resize((256,256))\n",
        "        results.append(np.asarray(image))\n",
        "    return results\n",
        "\n",
        "# convert list to array to tensor\n",
        "X_train_images = torch.from_numpy(np.asarray(get_image(X_train)))\n",
        "X_train_images = X_train_images.permute(0, 3, 1, 2)\n",
        "X_train_images = X_train_images.type(torch.float)\n",
        "print(f'X_train_images: {X_train_images.size()}')\n",
        "\n",
        "X_test_images = torch.from_numpy(np.asarray(get_image(X_test)))\n",
        "X_test_images = X_test_images.permute(0, 3, 1, 2)\n",
        "X_test_images = X_test_images.type(torch.float)\n",
        "print(f'X_test_images: {X_test_images.size()}')\n"
      ],
      "execution_count": null,
      "outputs": [
        {
          "name": "stdout",
          "output_type": "stream",
          "text": [
            "X_train_images: torch.Size([13089, 3, 256, 256])\n",
            "X_test_images: torch.Size([4363, 3, 256, 256])\n"
          ]
        }
      ]
    },
    {
      "cell_type": "code",
      "metadata": {
        "id": "d_cImXvAc8_p"
      },
      "source": [
        "class model_gender(nn.Module): # VGG_convnet 19 layers\n",
        "\n",
        "    def __init__(self):\n",
        "        super(model_gender,self).__init__()\n",
        "\n",
        "        # block 1:         3 x 256 x 256 --> 64 x 64 x 64        \n",
        "        self.conv1a = nn.Conv2d(3,   64,  kernel_size=3, padding=1 )\n",
        "        self.conv1b = nn.Conv2d(64,  64,  kernel_size=3, padding=1 )\n",
        "        self.conv1c = nn.Conv2d(64,  64,  kernel_size=3, padding=1 ) # added this layer\n",
        "        self.pool1  = nn.MaxPool2d(4,4)\n",
        "\n",
        "        # block 2:         64 x 64 x 64 --> 128 x 16 x 16\n",
        "        self.conv2a = nn.Conv2d(64,  128, kernel_size=3, padding=1 )\n",
        "        self.conv2b = nn.Conv2d(128, 128, kernel_size=3, padding=1 )\n",
        "        self.conv2c = nn.Conv2d(128, 128, kernel_size=3, padding=1 ) # added this layer\n",
        "        self.pool2  = nn.MaxPool2d(4,4)\n",
        "\n",
        "        # block 3:         128 x 16 x 16 --> 256 x 4 x 4        \n",
        "        self.conv3a = nn.Conv2d(128, 256, kernel_size=3, padding=1 )\n",
        "        self.conv3b = nn.Conv2d(256, 256, kernel_size=3, padding=1 )\n",
        "        self.conv3c = nn.Conv2d(256, 256, kernel_size=3, padding=1 ) # added this layer\n",
        "        self.conv3d = nn.Conv2d(256, 256, kernel_size=3, padding=1 ) # added this layer\n",
        "        self.conv3e = nn.Conv2d(256, 256, kernel_size=3, padding=1 ) # added this layer\n",
        "        self.pool3  = nn.MaxPool2d(4,4)\n",
        "        \n",
        "        #block 4:          256 x 4 x 4 --> 512 x 2 x 2\n",
        "        self.conv4a = nn.Conv2d(256, 512, kernel_size=3, padding=1 )\n",
        "        self.conv4b = nn.Conv2d(512, 512, kernel_size=3, padding=1 ) # added this layer\n",
        "        self.conv4c = nn.Conv2d(512, 512, kernel_size=3, padding=1 ) # added this layer\n",
        "        self.conv4d = nn.Conv2d(512, 512, kernel_size=3, padding=1 ) # added this layer\n",
        "        self.conv4e = nn.Conv2d(512, 512, kernel_size=3, padding=1 ) # added this layer\n",
        "        self.pool4  = nn.MaxPool2d(2,2)\n",
        "\n",
        "        # linear layers:   512 x 2 x 2 --> 2048 --> 4096 --> 4096 --> 10\n",
        "        self.linear1 = nn.Linear(2048, 4096)\n",
        "        self.linear2 = nn.Linear(4096, 4096)\n",
        "        self.linear3 = nn.Linear(4096, 10)\n",
        "        \n",
        "    def forward(self, x):\n",
        "\n",
        "        # block 1:         3 x 32 x 32 --> 64 x 16 x 16\n",
        "        x = self.conv1a(x)\n",
        "        x = torch.relu(x)\n",
        "        x = self.conv1b(x)\n",
        "        x = torch.relu(x)\n",
        "        x = self.conv1c(x) # added this\n",
        "        x = torch.relu(x) # added this\n",
        "        x = self.pool1(x)\n",
        "\n",
        "        # block 2:         64 x 16 x 16 --> 128 x 8 x 8\n",
        "        x = self.conv2a(x)\n",
        "        x = torch.relu(x)\n",
        "        x = self.conv2b(x)\n",
        "        x = torch.relu(x)\n",
        "        x = self.conv2c(x) # added this\n",
        "        x = torch.relu(x)\n",
        "        x = self.pool2(x)\n",
        "\n",
        "        # block 3:         128 x 8 x 8 --> 256 x 4 x 4\n",
        "        x = self.conv3a(x)\n",
        "        x = torch.relu(x)\n",
        "        x = self.conv3b(x)\n",
        "        x = torch.relu(x)\n",
        "        x = self.conv3c(x)\n",
        "        x = torch.relu(x)\n",
        "        x = self.conv3d(x)\n",
        "        x = torch.relu(x)\n",
        "        x = self.conv3e(x)\n",
        "        x = torch.relu(x)\n",
        "        x = self.pool3(x)\n",
        "\n",
        "        #block 4:          256 x 4 x 4 --> 512 x 2 x 2\n",
        "        x = self.conv4a(x)\n",
        "        x = torch.relu(x)\n",
        "        x = self.conv4b(x)\n",
        "        x = torch.relu(x)\n",
        "        x = self.conv4c(x)\n",
        "        x = torch.relu(x)\n",
        "        x = self.conv4d(x)\n",
        "        x = torch.relu(x)\n",
        "        x = self.conv4e(x)\n",
        "        x = torch.relu(x)\n",
        "        x = self.pool4(x)\n",
        "\n",
        "        # linear layers:   512 x 2 x 2 --> 2048 --> 4096 --> 4096 --> 10\n",
        "        x = x.view(-1, 2048)\n",
        "        x = self.linear1(x)\n",
        "        x = F.relu(x)\n",
        "        x = self.linear2(x)\n",
        "        x = F.relu(x)\n",
        "        x = self.linear3(x) \n",
        "        \n",
        "        return x"
      ],
      "execution_count": null,
      "outputs": []
    },
    {
      "cell_type": "code",
      "metadata": {
        "id": "JslGetRZc8_p",
        "outputId": "1f0a6edb-7875-4fa3-f5a4-18f3661c76a4"
      },
      "source": [
        "net_gender = model_gender()\n",
        "print(net_gender)"
      ],
      "execution_count": null,
      "outputs": [
        {
          "name": "stdout",
          "output_type": "stream",
          "text": [
            "model_gender(\n",
            "  (conv1a): Conv2d(3, 64, kernel_size=(3, 3), stride=(1, 1), padding=(1, 1))\n",
            "  (conv1b): Conv2d(64, 64, kernel_size=(3, 3), stride=(1, 1), padding=(1, 1))\n",
            "  (pool1): MaxPool2d(kernel_size=4, stride=4, padding=0, dilation=1, ceil_mode=False)\n",
            "  (conv2a): Conv2d(64, 128, kernel_size=(3, 3), stride=(1, 1), padding=(1, 1))\n",
            "  (conv2b): Conv2d(128, 128, kernel_size=(3, 3), stride=(1, 1), padding=(1, 1))\n",
            "  (pool2): MaxPool2d(kernel_size=4, stride=4, padding=0, dilation=1, ceil_mode=False)\n",
            "  (conv3a): Conv2d(128, 256, kernel_size=(3, 3), stride=(1, 1), padding=(1, 1))\n",
            "  (conv3b): Conv2d(256, 256, kernel_size=(3, 3), stride=(1, 1), padding=(1, 1))\n",
            "  (pool3): MaxPool2d(kernel_size=4, stride=4, padding=0, dilation=1, ceil_mode=False)\n",
            "  (conv4a): Conv2d(256, 512, kernel_size=(3, 3), stride=(1, 1), padding=(1, 1))\n",
            "  (pool4): MaxPool2d(kernel_size=2, stride=2, padding=0, dilation=1, ceil_mode=False)\n",
            "  (linear1): Linear(in_features=2048, out_features=4096, bias=True)\n",
            "  (linear2): Linear(in_features=4096, out_features=4096, bias=True)\n",
            "  (linear3): Linear(in_features=4096, out_features=10, bias=True)\n",
            ")\n"
          ]
        }
      ]
    },
    {
      "cell_type": "code",
      "metadata": {
        "id": "VILStut8jQsc"
      },
      "source": [
        "# send net_gender to device\n",
        "net_gender = net_gender.to(device)"
      ],
      "execution_count": null,
      "outputs": []
    },
    {
      "cell_type": "code",
      "metadata": {
        "id": "RvcS6-Csc8_q",
        "outputId": "32e5037f-20bd-4c59-d268-7a9e1363168c"
      },
      "source": [
        "mean = X_train_images.mean()\n",
        "print(mean)\n",
        "std = X_train_images.std()\n",
        "print(std)\n",
        "criterion = nn.CrossEntropyLoss()\n",
        "my_lr=0.25 \n",
        "bs= 128"
      ],
      "execution_count": null,
      "outputs": [
        {
          "name": "stdout",
          "output_type": "stream",
          "text": [
            "tensor(90.5548)\n",
            "tensor(67.4386)\n"
          ]
        }
      ]
    },
    {
      "cell_type": "code",
      "metadata": {
        "id": "o_DspiLWc8_q"
      },
      "source": [
        "def get_error( scores , labels ):\n",
        "\n",
        "    bs=scores.size(0)\n",
        "    predicted_labels = scores.argmax(dim=1)\n",
        "    indicator = (predicted_labels == labels)\n",
        "    num_matches=indicator.sum()\n",
        "    \n",
        "    return 1-num_matches.float()/bs    "
      ],
      "execution_count": null,
      "outputs": []
    },
    {
      "cell_type": "code",
      "metadata": {
        "id": "1mGyxoOuc8_q"
      },
      "source": [
        "def eval_on_test_set():\n",
        "\n",
        "    running_error=0\n",
        "    num_batches=0\n",
        "\n",
        "    for i in range(0,4363,bs):\n",
        "\n",
        "        minibatch_data =  X_test_images[i:i+bs]\n",
        "        minibatch_label= y_test[i:i+bs]\n",
        "\n",
        "        #send to GPU, if desired\n",
        "        minibatch_data=minibatch_data.to(device)\n",
        "        minibatch_label=minibatch_label.to(device)\n",
        "        \n",
        "        inputs = (minibatch_data - mean)/std\n",
        "\n",
        "        scores=net_gender( inputs ) \n",
        "\n",
        "        error = get_error( scores , minibatch_label)\n",
        "\n",
        "        running_error += error.item()\n",
        "\n",
        "        num_batches+=1\n",
        "\n",
        "    total_error = running_error/num_batches\n",
        "    print( 'error rate on test set =', total_error*100 ,'percent')"
      ],
      "execution_count": null,
      "outputs": []
    },
    {
      "cell_type": "code",
      "metadata": {
        "id": "zvrT3twAc8_r",
        "outputId": "d0482e98-2d3c-4132-8e87-869d7bca7666"
      },
      "source": [
        "start=time.time()\n",
        "\n",
        "for epoch in range(1,20):\n",
        "    \n",
        "    # divide the learning rate by 2 at epoch 10, 14 and 18\n",
        "    if epoch==10 or epoch == 14 or epoch==18:\n",
        "        my_lr = my_lr / 2\n",
        "    \n",
        "    # create a new optimizer at the beginning of each epoch: give the current learning rate.   \n",
        "    optimizer=torch.optim.SGD( net_gender.parameters() , lr=my_lr )\n",
        "        \n",
        "    # set the running quatities to zero at the beginning of the epoch\n",
        "    running_loss=0\n",
        "    running_error=0\n",
        "    num_batches=0\n",
        "    \n",
        "    # set the order in which to visit the image from the training set\n",
        "    shuffled_indices=torch.randperm(13089)\n",
        " \n",
        "    for count in range(0,13089,bs):\n",
        "    \n",
        "        # Set the gradients to zeros\n",
        "        optimizer.zero_grad()\n",
        "        \n",
        "        # create a minibatch       \n",
        "        indices=shuffled_indices[count:count+bs]\n",
        "        minibatch_data =  X_train_images[indices]\n",
        "        minibatch_label=  y_train[indices]\n",
        "\n",
        "        # send them to the gpu, if desired\n",
        "        minibatch_data=minibatch_data.to(device)\n",
        "        minibatch_label=minibatch_label.to(device)\n",
        "        \n",
        "        # normalize the minibatch (this is the only difference compared to before!)\n",
        "        inputs = (minibatch_data - mean)/std\n",
        "        \n",
        "        # tell Pytorch to start tracking all operations that will be done on \"inputs\"\n",
        "        inputs.requires_grad_()\n",
        "\n",
        "        # forward the minibatch through the net \n",
        "        scores=net_gender( inputs ) \n",
        "\n",
        "        # Compute the average of the losses of the data points in the minibatch\n",
        "        loss =  criterion( scores , minibatch_label) \n",
        "        \n",
        "        # backward pass to compute dL/dU, dL/dV and dL/dW   \n",
        "        loss.backward()\n",
        "\n",
        "        # do one step of stochastic gradient descent: U=U-lr(dL/dU), V=V-lr(dL/dU), ...\n",
        "        optimizer.step()\n",
        "        \n",
        "        # START COMPUTING STATS\n",
        "        \n",
        "        # add the loss of this batch to the running loss\n",
        "        running_loss += loss.detach().item()\n",
        "        \n",
        "        # compute the error made on this batch and add it to the running error       \n",
        "        error = get_error( scores.detach() , minibatch_label)\n",
        "        running_error += error.item()\n",
        "        \n",
        "        num_batches+=1\n",
        "        print(f'{num_batches} : {(time.time()-start)/60}')\n",
        "    \n",
        "    \n",
        "    # compute stats for the full training set\n",
        "    total_loss = running_loss/num_batches\n",
        "    total_error = running_error/num_batches\n",
        "    elapsed = (time.time()-start)/60\n",
        "\n",
        "    print('epoch=',epoch, '\\t time=', elapsed,'min','\\t lr=', my_lr  ,'\\t loss=', total_loss , '\\t error=', total_error*100 ,'percent')\n",
        "    eval_on_test_set() \n",
        "    print(' ')"
      ],
      "execution_count": null,
      "outputs": [
        {
          "name": "stdout",
          "output_type": "stream",
          "text": [
            "1 : 1.9936955173810322\n",
            "2 : 3.9313342849413555\n",
            "3 : 5.9126296202341715\n",
            "4 : 7.900851436456045\n",
            "5 : 9.909158984820047\n",
            "6 : 11.908407135804493\n",
            "7 : 13.854943617184956\n",
            "8 : 15.79875871737798\n",
            "9 : 17.752450784047443\n",
            "10 : 19.686124670505524\n",
            "11 : 21.60721675157547\n",
            "12 : 23.54082055489222\n",
            "13 : 25.471939488252005\n",
            "14 : 27.42719433307648\n",
            "15 : 29.355574599901836\n",
            "16 : 31.30043601989746\n",
            "17 : 33.250105901559195\n",
            "18 : 35.19205425182978\n",
            "19 : 37.138237953186035\n",
            "20 : 39.081157982349396\n",
            "21 : 41.02367736895879\n",
            "22 : 42.95955241918564\n",
            "23 : 44.8932475010554\n",
            "24 : 46.86337323586146\n",
            "25 : 48.80582593282064\n",
            "26 : 50.7379532178243\n",
            "27 : 52.611191999912265\n",
            "28 : 54.559447554747265\n",
            "29 : 56.489880271752675\n",
            "30 : 58.42907652060191\n",
            "31 : 60.34893973271052\n",
            "32 : 62.27012633879979\n",
            "33 : 64.14654221932093\n",
            "34 : 66.0494814157486\n",
            "35 : 67.95650086800258\n",
            "36 : 69.8889658689499\n",
            "37 : 71.81984064976375\n",
            "38 : 73.75865131616592\n",
            "39 : 75.67192706664403\n",
            "40 : 77.5968244989713\n",
            "41 : 79.51199173529943\n",
            "42 : 81.40196735064188\n",
            "43 : 83.27592279911042\n",
            "44 : 85.17243013779323\n",
            "45 : 87.07582146724066\n",
            "46 : 89.01906500260036\n",
            "47 : 90.95440529982248\n",
            "48 : 92.92373656829199\n",
            "49 : 94.84832206964492\n",
            "50 : 96.76035887002945\n",
            "51 : 98.67613348563512\n",
            "52 : 100.55387005011241\n",
            "53 : 102.44018800258637\n",
            "54 : 104.34373200337092\n",
            "55 : 106.2345716993014\n",
            "56 : 108.18166276613871\n",
            "57 : 110.1074201544126\n",
            "58 : 112.02284702062607\n",
            "59 : 113.94737223386764\n",
            "60 : 115.84947460492452\n",
            "61 : 117.75547533432642\n",
            "62 : 119.63195383548737\n",
            "63 : 121.54103951851526\n",
            "64 : 123.46068285306295\n",
            "65 : 125.36786788304647\n",
            "66 : 127.22552948792776\n",
            "67 : 129.15420750379562\n",
            "68 : 131.089175037543\n",
            "69 : 133.04477043151854\n",
            "70 : 134.96937148571016\n",
            "71 : 136.90806518793107\n",
            "72 : 138.84686921834947\n",
            "73 : 140.75395560264587\n",
            "74 : 142.67875353892643\n",
            "75 : 144.57187203566232\n",
            "76 : 146.49967172145844\n",
            "77 : 148.42724810441334\n",
            "78 : 150.34930033683776\n",
            "79 : 152.28385855356854\n",
            "80 : 154.20945598284405\n",
            "81 : 156.13300153811772\n",
            "82 : 158.05151951710383\n",
            "83 : 159.95262041886647\n",
            "84 : 161.88572603464127\n",
            "85 : 163.8160391688347\n",
            "86 : 165.744590985775\n",
            "87 : 167.67211625178655\n",
            "88 : 169.60064660310746\n",
            "89 : 171.49553306897482\n",
            "90 : 173.40918758710225\n",
            "91 : 175.32417745192845\n",
            "92 : 177.22142241795856\n",
            "93 : 179.1283787171046\n",
            "94 : 181.0645309527715\n",
            "95 : 182.98632857004802\n",
            "96 : 184.9102262655894\n",
            "97 : 186.83023033539453\n",
            "98 : 188.76447503566743\n",
            "99 : 190.65654933452606\n",
            "100 : 192.58506708542507\n",
            "101 : 194.5026287039121\n",
            "102 : 196.42332266966503\n",
            "103 : 196.8216948191325\n",
            "epoch= 1 \t time= 196.82169642051062 min \t lr= 0.25 \t loss= 0.8899098721522729 \t error= 50.13698883426999 percent\n",
            "error rate on test set = 46.647727148873464 percent\n",
            " \n",
            "1 : 216.36213338375092\n",
            "2 : 218.25387547016143\n",
            "3 : 220.18419305086135\n",
            "4 : 222.11530198256176\n",
            "5 : 224.10317168235778\n",
            "6 : 226.03480636676153\n"
          ]
        }
      ]
    },
    {
      "cell_type": "code",
      "metadata": {
        "id": "bvxHZJcwc8_s"
      },
      "source": [
        ""
      ],
      "execution_count": null,
      "outputs": []
    }
  ]
}