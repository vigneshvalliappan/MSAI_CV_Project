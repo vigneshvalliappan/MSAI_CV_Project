{
  "nbformat": 4,
  "nbformat_minor": 0,
  "metadata": {
    "kernelspec": {
      "display_name": "Python 3",
      "language": "python",
      "name": "python3"
    },
    "language_info": {
      "codemirror_mode": {
        "name": "ipython",
        "version": 3
      },
      "file_extension": ".py",
      "mimetype": "text/x-python",
      "name": "python",
      "nbconvert_exporter": "python",
      "pygments_lexer": "ipython3",
      "version": "3.6.10"
    },
    "colab": {
      "name": "cifar_multilayer_exercise.ipynb",
      "provenance": [],
      "include_colab_link": true
    },
    "accelerator": "GPU"
  },
  "cells": [
    {
      "cell_type": "markdown",
      "metadata": {
        "id": "view-in-github",
        "colab_type": "text"
      },
      "source": [
        "<a href=\"https://colab.research.google.com/github/vigneshvalliappan/MSAI_CV_Project/blob/main/Code_Reference/cifar_multilayer_exercise.ipynb\" target=\"_parent\"><img src=\"https://colab.research.google.com/assets/colab-badge.svg\" alt=\"Open In Colab\"/></a>"
      ]
    },
    {
      "cell_type": "markdown",
      "metadata": {
        "id": "eTLfSCfgi45x"
      },
      "source": [
        "# Lab 02 : CIFAR multi-layer -- exercise"
      ]
    },
    {
      "cell_type": "code",
      "metadata": {
        "id": "wcO3ghV_i45z",
        "colab": {
          "base_uri": "https://localhost:8080/"
        },
        "outputId": "5040d502-0928-4c02-f647-cc435df842a1"
      },
      "source": [
        "# For Google Colaboratory\n",
        "import sys, os\n",
        "if 'google.colab' in sys.modules:\n",
        "    # mount google drive\n",
        "    from google.colab import drive\n",
        "    drive.mount('/content/gdrive')\n",
        "    # find automatically the path of the folder containing \"file_name\" :\n",
        "    file_name = 'cifar_multilayer_exercise.ipynb'\n",
        "    #import subprocess\n",
        "    #path_to_file = subprocess.check_output('find . -type f -name ' + str(file_name), shell=True).decode(\"utf-8\")\n",
        "    #path_to_file = path_to_file.replace(file_name,\"\").replace('\\n',\"\")\n",
        "    # if previous search failed or too long, comment the previous line and simply write down manually the path below :\n",
        "    path_to_file = '/content/gdrive/My Drive/AI6103_2020_codes/AI6103_2020/codes/labs_lecture06/lab02_cifar_multilayer'\n",
        "    print(path_to_file)\n",
        "    # change current path to the folder containing \"file_name\"\n",
        "    os.chdir(path_to_file)\n",
        "    !pwd\n",
        "    "
      ],
      "execution_count": null,
      "outputs": [
        {
          "output_type": "stream",
          "text": [
            "Mounted at /content/gdrive\n",
            "/content/gdrive/My Drive/AI6103_2020_codes/AI6103_2020/codes/labs_lecture06/lab02_cifar_multilayer\n",
            "/content/gdrive/My Drive/AI6103_2020_codes/AI6103_2020/codes/labs_lecture06/lab02_cifar_multilayer\n"
          ],
          "name": "stdout"
        }
      ]
    },
    {
      "cell_type": "code",
      "metadata": {
        "id": "5I9gnapOi458"
      },
      "source": [
        "import torch\n",
        "import torch.nn as nn\n",
        "import torch.nn.functional as F\n",
        "import torch.optim as optim\n",
        "from random import randint\n",
        "import utils\n",
        "import time"
      ],
      "execution_count": null,
      "outputs": []
    },
    {
      "cell_type": "markdown",
      "metadata": {
        "id": "rLqoS7SZi46C"
      },
      "source": [
        "### With or without GPU?\n",
        "\n",
        "It is recommended to run this code on GPU:<br> \n",
        "* Time for 1 epoch on CPU : 5 sec<br> \n",
        "* Time for 1 epoch on GPU : 0.6 sec w/ GeForce GTX 1080 Ti<br>"
      ]
    },
    {
      "cell_type": "code",
      "metadata": {
        "id": "ZBWaBsMDi46E",
        "colab": {
          "base_uri": "https://localhost:8080/"
        },
        "outputId": "322f6a77-e75e-4578-aa82-e0af7279dce6"
      },
      "source": [
        "device= torch.device(\"cuda\")\n",
        "#device= torch.device(\"cpu\")\n",
        "print(device)"
      ],
      "execution_count": null,
      "outputs": [
        {
          "output_type": "stream",
          "text": [
            "cuda\n"
          ],
          "name": "stdout"
        }
      ]
    },
    {
      "cell_type": "markdown",
      "metadata": {
        "id": "OEfx_ga9i46J"
      },
      "source": [
        "### Download the CIFAR dataset "
      ]
    },
    {
      "cell_type": "code",
      "metadata": {
        "id": "jfvVzuBui46J",
        "colab": {
          "base_uri": "https://localhost:8080/"
        },
        "outputId": "628089ba-3672-4b74-b74f-78a7f0d38c0a"
      },
      "source": [
        "from utils import check_cifar_dataset_exists\n",
        "data_path=check_cifar_dataset_exists()\n",
        "\n",
        "train_data=torch.load(data_path+'cifar/train_data.pt')\n",
        "train_label=torch.load(data_path+'cifar/train_label.pt')\n",
        "test_data=torch.load(data_path+'cifar/test_data.pt')\n",
        "test_label=torch.load(data_path+'cifar/test_label.pt')\n",
        "\n",
        "print(train_data.size())"
      ],
      "execution_count": null,
      "outputs": [
        {
          "output_type": "stream",
          "text": [
            "torch.Size([50000, 3, 32, 32])\n"
          ],
          "name": "stdout"
        }
      ]
    },
    {
      "cell_type": "markdown",
      "metadata": {
        "id": "shmx2Bqti46S"
      },
      "source": [
        "### Make a Three layer net class. "
      ]
    },
    {
      "cell_type": "code",
      "metadata": {
        "id": "o0wvnS-Pi46S"
      },
      "source": [
        "class three_layer_net(nn.Module):\n",
        "\n",
        "    def __init__(self, input_size, hidden_size1, hidden_size2,  output_size):\n",
        "        super(three_layer_net , self).__init__()\n",
        "        \n",
        "        self.layer1 = nn.Linear(input_size, hidden_size1) \n",
        "        self.layer2 = nn.Linear(hidden_size1, hidden_size2)\n",
        "        self.layer3 = nn.Linear(hidden_size2, output_size)\n",
        "        \n",
        "    def forward(self, x):\n",
        "        \n",
        "        y       = self.layer1(x)\n",
        "        y_hat   = torch.relu(y)\n",
        "        z       = self.layer2(y_hat)\n",
        "        z_hat   = torch.relu(z)\n",
        "        scores  = self.layer3(z_hat)\n",
        "        \n",
        "        return scores"
      ],
      "execution_count": null,
      "outputs": []
    },
    {
      "cell_type": "markdown",
      "metadata": {
        "id": "iEXE9uMJi46Z"
      },
      "source": [
        "### Build the net with the following size:\n",
        "* input size = 3,072\n",
        "* hidden size 1 = 500\n",
        "* hidden size 2 = 500\n",
        "* output size = 10\n",
        "### How many parameters in total? (the one layer net had 30,000 parameters)"
      ]
    },
    {
      "cell_type": "code",
      "metadata": {
        "id": "zNKDDzKWi46b",
        "colab": {
          "base_uri": "https://localhost:8080/"
        },
        "outputId": "0af400b2-9eca-41e4-ee66-ab45e0306cbd"
      },
      "source": [
        "net=three_layer_net(3072,500,500,10)\n",
        "print(net)\n",
        "utils.display_num_param(net)"
      ],
      "execution_count": null,
      "outputs": [
        {
          "output_type": "stream",
          "text": [
            "three_layer_net(\n",
            "  (layer1): Linear(in_features=3072, out_features=500, bias=True)\n",
            "  (layer2): Linear(in_features=500, out_features=500, bias=True)\n",
            "  (layer3): Linear(in_features=500, out_features=10, bias=True)\n",
            ")\n",
            "There are 1792010 (1.79 million) parameters in this neural network\n"
          ],
          "name": "stdout"
        }
      ]
    },
    {
      "cell_type": "markdown",
      "metadata": {
        "id": "AsSohSBvi46g"
      },
      "source": [
        "### Send the weights of the networks to the GPU"
      ]
    },
    {
      "cell_type": "code",
      "metadata": {
        "id": "X_mIdxS8i46g"
      },
      "source": [
        "net= net.to(device) # COMPLETE HERE"
      ],
      "execution_count": null,
      "outputs": []
    },
    {
      "cell_type": "markdown",
      "metadata": {
        "id": "hY0NKiT5i46l"
      },
      "source": [
        "### Choose the criterion and optimizer. Also choose:\n",
        "* batch size =200\n",
        "* learning rate =0.01\n"
      ]
    },
    {
      "cell_type": "code",
      "metadata": {
        "id": "T7z6jP7oi46m"
      },
      "source": [
        "criterion = nn.CrossEntropyLoss()\n",
        "optimizer=torch.optim.SGD( net.parameters() , lr=0.01 )\n",
        "bs= 200 # COMPLETE HERE"
      ],
      "execution_count": null,
      "outputs": []
    },
    {
      "cell_type": "markdown",
      "metadata": {
        "id": "wAeG8kaYi46r"
      },
      "source": [
        "### Function to evaluate the network on the test set"
      ]
    },
    {
      "cell_type": "code",
      "metadata": {
        "id": "pGcBvUlAi46s"
      },
      "source": [
        "def eval_on_test_set():\n",
        "\n",
        "    running_error=0\n",
        "    num_batches=0\n",
        "\n",
        "\n",
        "    for i in range(0,10000,bs):\n",
        "\n",
        "        # extract the minibatch\n",
        "        minibatch_data =  test_data[i:i+bs]\n",
        "        minibatch_label= test_label[i:i+bs]\n",
        "\n",
        "        # send them to the gpu\n",
        "        minibatch_data=minibatch_data.to(device)\n",
        "        minibatch_label=minibatch_label.to(device)\n",
        "\n",
        "        # reshape the minibatch\n",
        "        inputs = minibatch_data.view(bs,3072)\n",
        "\n",
        "        # feed it to the network\n",
        "        scores=net( inputs ) \n",
        "\n",
        "        # compute the error made on this batch\n",
        "        error = utils.get_error( scores.detach() , minibatch_label)\n",
        "\n",
        "        # add it to the running error\n",
        "        running_error += error.item()\n",
        "\n",
        "        num_batches+=1\n",
        "\n",
        "\n",
        "    # compute error rate on the full test set\n",
        "    total_error = running_error/num_batches\n",
        "\n",
        "    print( 'error rate on test set =', total_error*100 ,'percent')"
      ],
      "execution_count": null,
      "outputs": []
    },
    {
      "cell_type": "markdown",
      "metadata": {
        "id": "kBvGhIdpi46x"
      },
      "source": [
        "### Do 160 passes through the training set."
      ]
    },
    {
      "cell_type": "code",
      "metadata": {
        "id": "0CXGuhGPi46x",
        "colab": {
          "base_uri": "https://localhost:8080/"
        },
        "outputId": "2b984688-3a1b-4666-9739-fa16bad0947c"
      },
      "source": [
        "start=time.time()\n",
        "\n",
        "for epoch in range(160):\n",
        "    \n",
        "    running_loss=0\n",
        "    running_error=0\n",
        "    num_batches=0\n",
        "    \n",
        "    shuffled_indices=torch.randperm(50000)\n",
        " \n",
        "    for count in range(0,50000,bs):\n",
        "    \n",
        "        # Set the gradients to zeros\n",
        "        optimizer.zero_grad()\n",
        "        \n",
        "        # create a minibatch       \n",
        "        indices=  shuffled_indices[count:count+bs]        # COMPLETE HERE\n",
        "        minibatch_data = train_data[indices] # COMPLETE HERE\n",
        "        minibatch_label= train_label[indices] # COMPLETE HERE\n",
        "        \n",
        "        # send the minibatch to the gpu\n",
        "        minibatch_data= minibatch_data.to(device) # COMPLETE HERE\n",
        "        minibatch_label= minibatch_label.to(device) # COMPLETE HERE\n",
        "        \n",
        "        # reshape the minibatch\n",
        "        inputs = minibatch_data.view(bs, 3072) # COMPLETE HERE\n",
        "\n",
        "        # tell Pytorch to start tracking all operations that will be done on \"inputs\"\n",
        "        inputs.requires_grad_()\n",
        "\n",
        "        # forward the minibatch through the net \n",
        "        scores= net(inputs)# COMPLETE HERE \n",
        "\n",
        "        # Compute the average of the losses of the data points in the minibatch\n",
        "        loss = criterion(scores, minibatch_label) # COMPLETE HERE \n",
        "        \n",
        "        # backward pass to compute dL/dU, dL/dV and dL/dW   \n",
        "        loss.backward()\n",
        "\n",
        "        # do one step of stochastic gradient descent: U=U-lr(dL/dU), V=V-lr(dL/dU), ...\n",
        "        optimizer.step()\n",
        "        \n",
        "        # START COMPUTING STATS\n",
        "        \n",
        "        # add the loss of this batch to the running loss\n",
        "        running_loss += loss.detach().item()\n",
        "        \n",
        "        # compute the error made on this batch and add it to the running error       \n",
        "        error = utils.get_error( scores.detach() , minibatch_label)\n",
        "        running_error += error.item()\n",
        "        \n",
        "        num_batches+=1\n",
        "    \n",
        "    \n",
        "    # compute stats for the full training set\n",
        "    total_loss = running_loss/num_batches\n",
        "    total_error = running_error/num_batches\n",
        "    elapsed = time.time()-start\n",
        "    \n",
        "    if epoch%20 == 0:\n",
        "        print('epoch=',epoch, '\\t time=', elapsed, '\\t loss=', total_loss , '\\t error=', total_error*100 ,'percent')\n",
        "        eval_on_test_set() \n",
        "        print(' ')\n",
        "    \n",
        "    \n",
        "        \n",
        "        "
      ],
      "execution_count": null,
      "outputs": [
        {
          "output_type": "stream",
          "text": [
            "epoch= 0 \t time= 0.8893921375274658 \t loss= 2.238978503227234 \t error= 81.22600021362305 percent\n",
            "error rate on test set = 74.42000079154968 percent\n",
            " \n",
            "epoch= 20 \t time= 14.877490282058716 \t loss= 1.5924371910095214 \t error= 56.03000123500824 percent\n",
            "error rate on test set = 56.310001492500305 percent\n",
            " \n",
            "epoch= 40 \t time= 28.644469261169434 \t loss= 1.4086784090995788 \t error= 49.456000447273254 percent\n",
            "error rate on test set = 51.110000014305115 percent\n",
            " \n",
            "epoch= 60 \t time= 42.29415822029114 \t loss= 1.2811745018959046 \t error= 45.12200105190277 percent\n",
            "error rate on test set = 48.010000705718994 percent\n",
            " \n",
            "epoch= 80 \t time= 55.96384787559509 \t loss= 1.1854277613162993 \t error= 41.76400139331818 percent\n",
            "error rate on test set = 46.320000648498535 percent\n",
            " \n",
            "epoch= 100 \t time= 69.5436315536499 \t loss= 1.0993341698646546 \t error= 38.670001006126405 percent\n",
            "error rate on test set = 46.750001072883606 percent\n",
            " \n",
            "epoch= 120 \t time= 83.20834112167358 \t loss= 1.0187222735881805 \t error= 35.72800130844116 percent\n",
            "error rate on test set = 46.21000111103058 percent\n",
            " \n",
            "epoch= 140 \t time= 96.75955772399902 \t loss= 0.9416728680133819 \t error= 32.85200135707855 percent\n",
            "error rate on test set = 44.320000886917114 percent\n",
            " \n"
          ],
          "name": "stdout"
        }
      ]
    },
    {
      "cell_type": "markdown",
      "metadata": {
        "id": "dwmWNbeYi462"
      },
      "source": [
        "### Choose image at random from the test set and see how good/bad are the predictions"
      ]
    },
    {
      "cell_type": "code",
      "metadata": {
        "id": "TZtStRSPi463",
        "colab": {
          "base_uri": "https://localhost:8080/",
          "height": 655
        },
        "outputId": "d28d2c6a-8b70-4528-de2f-a0cdca8496df"
      },
      "source": [
        "# choose a picture at random\n",
        "index = randint(0, 9999)\n",
        "im = test_data[index]\n",
        "\n",
        "# diplay the picture\n",
        "utils.show(im)\n",
        "\n",
        "# feed it to the net and display the confidence scores\n",
        "im = im.to(device)\n",
        "score = net(im.view(1, 3072))\n",
        "prob = torch.softmax(score, dim = 1)\n",
        "utils.show_prob_cifar(prob.cpu())"
      ],
      "execution_count": null,
      "outputs": [
        {
          "output_type": "display_data",
          "data": {
            "image/png": "[encoded data removed]",
            "text/plain": [
              "<Figure size 432x288 with 1 Axes>"
            ]
          },
          "metadata": {
            "tags": [],
            "needs_background": "light"
          }
        },
        {
          "output_type": "display_data",
          "data": {
            "image/png": "[encoded data removed]",
            "text/plain": [
              "<Figure size 640x480 with 1 Axes>"
            ]
          },
          "metadata": {
            "tags": []
          }
        }
      ]
    }
  ]
}